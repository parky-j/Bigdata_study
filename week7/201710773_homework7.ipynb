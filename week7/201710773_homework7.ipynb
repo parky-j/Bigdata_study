{
 "cells": [
  {
   "cell_type": "code",
   "execution_count": 1,
   "metadata": {
    "colab": {
     "base_uri": "https://localhost:8080/"
    },
    "id": "Zsmadw5dGE-s",
    "outputId": "d19a8ff4-1a0a-4448-be70-9ec7f4137949"
   },
   "outputs": [
    {
     "name": "stdout",
     "output_type": "stream",
     "text": [
      "Collecting findspark\n",
      "  Downloading findspark-1.4.2-py2.py3-none-any.whl (4.2 kB)\n",
      "Installing collected packages: findspark\n",
      "Successfully installed findspark-1.4.2\n"
     ]
    }
   ],
   "source": [
    "!apt-get install openjdk-11-jdk-headless -qq > /dev/null\n",
    "!wget -q https://downloads.apache.org/spark/spark-3.1.2/spark-3.1.2-bin-hadoop2.7.tgz\n",
    "!tar -xf spark-3.1.2-bin-hadoop2.7.tgz\n",
    "!pip install findspark\n",
    "\n",
    "import os\n",
    "os.environ[\"JAVA_HOME\"] = \"/usr/lib/jvm/java-11-openjdk-amd64\"\n",
    "os.environ[\"SPARK_HOME\"] = \"/content/spark-3.1.2-bin-hadoop2.7\"\n",
    "\n",
    "import findspark\n",
    "findspark.init()"
   ]
  },
  {
   "cell_type": "code",
   "execution_count": 114,
   "metadata": {
    "id": "Rj9HF_vMGF7B"
   },
   "outputs": [],
   "source": [
    "marks=[\n",
    "    \"김하나, English, 100\",\n",
    "    \"김하나, Math, 80\",\n",
    "    \"임하나, English, 70\",\n",
    "    \"임하나, Math, 100\",\n",
    "    \"김갑돌, English, 82.3\",\n",
    "    \"김갑돌, Math, 98.5\"\n",
    "]"
   ]
  },
  {
   "cell_type": "code",
   "execution_count": 115,
   "metadata": {
    "id": "S8PnD4OaGQ4J"
   },
   "outputs": [],
   "source": [
    "import pyspark\n",
    "myConf=pyspark.SparkConf()\n",
    "spark = pyspark.sql.SparkSession.builder\\\n",
    "    .master(\"local\")\\\n",
    "    .appName(\"myApp\")\\\n",
    "    .config(conf=myConf)\\\n",
    "    .getOrCreate()"
   ]
  },
  {
   "cell_type": "code",
   "execution_count": 116,
   "metadata": {
    "id": "hFAAyH77GSLP"
   },
   "outputs": [],
   "source": [
    "_marksRdd=spark.sparkContext.parallelize(marks)"
   ]
  },
  {
   "cell_type": "code",
   "execution_count": 117,
   "metadata": {
    "id": "Dt7LyT3HIJdp"
   },
   "outputs": [],
   "source": [
    "marksRdd = _marksRdd.map(lambda x:x.split(',')).map(lambda x: (x[0],x[1],float(x[2])))"
   ]
  },
  {
   "cell_type": "markdown",
   "metadata": {
    "id": "6nv6nOcrGzq0"
   },
   "source": [
    "# 문제 1-1 시작/답"
   ]
  },
  {
   "cell_type": "code",
   "execution_count": 124,
   "metadata": {
    "colab": {
     "base_uri": "https://localhost:8080/"
    },
    "id": "ArJLVAh6GdrN",
    "outputId": "323e516a-724c-43e4-b5ff-ba0ac27ee874"
   },
   "outputs": [
    {
     "name": "stdout",
     "output_type": "stream",
     "text": [
      "+------+--------+-----+\n",
      "|    _1|      _2|   _3|\n",
      "+------+--------+-----+\n",
      "|김하나| English|100.0|\n",
      "|김하나|    Math| 80.0|\n",
      "|임하나| English| 70.0|\n",
      "|임하나|    Math|100.0|\n",
      "|김갑돌| English| 82.3|\n",
      "|김갑돌|    Math| 98.5|\n",
      "+------+--------+-----+\n",
      "\n",
      "root\n",
      " |-- _1: string (nullable = true)\n",
      " |-- _2: string (nullable = true)\n",
      " |-- _3: double (nullable = true)\n",
      "\n"
     ]
    }
   ],
   "source": [
    "marksDf = spark.createDataFrame(marksRdd)\n",
    "marksDf.show()\n",
    "marksDf.printSchema()"
   ]
  },
  {
   "cell_type": "code",
   "execution_count": 125,
   "metadata": {
    "colab": {
     "base_uri": "https://localhost:8080/"
    },
    "id": "K-3cHj54GfGN",
    "outputId": "ff924fc0-3ba5-4dbc-f6eb-01c82b166060"
   },
   "outputs": [
    {
     "name": "stdout",
     "output_type": "stream",
     "text": [
      "+------+--------+-----+\n",
      "|  name| subject|score|\n",
      "+------+--------+-----+\n",
      "|김하나| English|100.0|\n",
      "|김하나|    Math| 80.0|\n",
      "|임하나| English| 70.0|\n",
      "|임하나|    Math|100.0|\n",
      "|김갑돌| English| 82.3|\n",
      "|김갑돌|    Math| 98.5|\n",
      "+------+--------+-----+\n",
      "\n",
      "root\n",
      " |-- name: string (nullable = true)\n",
      " |-- subject: string (nullable = true)\n",
      " |-- score: float (nullable = true)\n",
      "\n"
     ]
    }
   ],
   "source": [
    "marksDf = marksDf.withColumnRenamed(\"_1\", \"name\")\\\n",
    "       .withColumnRenamed(\"_2\", \"subject\")\\\n",
    "       .withColumnRenamed(\"_3\", \"score\")\n",
    "\n",
    "marksDf = marksDf.withColumn('score', marksDf['score'].cast(\"float\"))\n",
    "\n",
    "marksDf.show()\n",
    "marksDf.printSchema()"
   ]
  },
  {
   "cell_type": "markdown",
   "metadata": {
    "id": "G20KyzvHKR7o"
   },
   "source": [
    "# 문제 1-2 시작"
   ]
  },
  {
   "cell_type": "code",
   "execution_count": 147,
   "metadata": {
    "colab": {
     "base_uri": "https://localhost:8080/"
    },
    "id": "XE5aAdk5GpNx",
    "outputId": "7ea7b826-53a8-4bdd-cbdd-efea6be690b1"
   },
   "outputs": [
    {
     "name": "stdout",
     "output_type": "stream",
     "text": [
      "12.786190467323198\n"
     ]
    }
   ],
   "source": [
    "from pyspark.sql import functions as F\n",
    "from pyspark.sql.functions import udf\n",
    "from pyspark.sql.types import FloatType\n",
    "import numpy as np\n",
    "\n",
    "X = marksRdd.map(lambda x:float(x[2])).collect()\n",
    "m = float(np.mean(X))\n",
    "std = float(np.std(X, ddof=1))\n",
    "print(std)\n",
    "\n",
    "zscoreUdf = udf(lambda x: (x-m)/std, FloatType())\n",
    "marksDf = marksDf.withColumn('zscore', zscoreUdf(marksDf['score']))"
   ]
  },
  {
   "cell_type": "markdown",
   "metadata": {
    "id": "ugEu6qY3bXJS"
   },
   "source": [
    "# 문제 1-2 답"
   ]
  },
  {
   "cell_type": "code",
   "execution_count": 148,
   "metadata": {
    "colab": {
     "base_uri": "https://localhost:8080/"
    },
    "id": "no7BI_8BK4r_",
    "outputId": "6efd6b75-7889-46ba-9feb-e0310c699f51"
   },
   "outputs": [
    {
     "name": "stdout",
     "output_type": "stream",
     "text": [
      "+------+--------+-----+-----------+\n",
      "|  name| subject|score|     zscore|\n",
      "+------+--------+-----+-----------+\n",
      "|김하나| English|100.0| 0.90201485|\n",
      "|김하나|    Math| 80.0|-0.66217273|\n",
      "|임하나| English| 70.0| -1.4442666|\n",
      "|임하나|    Math|100.0| 0.90201485|\n",
      "|김갑돌| English| 82.3|-0.48229092|\n",
      "|김갑돌|    Math| 98.5| 0.78470075|\n",
      "+------+--------+-----+-----------+\n",
      "\n"
     ]
    }
   ],
   "source": [
    "marksDf.show()"
   ]
  },
  {
   "cell_type": "markdown",
   "metadata": {
    "id": "vcPzw5m8bb36"
   },
   "source": [
    "# 문제 1-3 시작"
   ]
  },
  {
   "cell_type": "code",
   "execution_count": 162,
   "metadata": {
    "id": "5Z3vu0D8UlOO"
   },
   "outputs": [],
   "source": [
    "from scipy.stats import norm\n",
    "\n",
    "def calCdf(x):\n",
    "  temp = norm.cdf(x, loc=m, scale=std)\n",
    "  return float(temp)\n",
    "\n",
    "cdfUdf = udf(lambda x: calCdf(x), FloatType())"
   ]
  },
  {
   "cell_type": "markdown",
   "metadata": {
    "id": "HFW7_MVGctHq"
   },
   "source": [
    "# 문제 1-3 답"
   ]
  },
  {
   "cell_type": "code",
   "execution_count": 163,
   "metadata": {
    "id": "SjOVoEdGb4ls"
   },
   "outputs": [],
   "source": [
    "marksDf = marksDf.withColumn(\"cdf\", cdfUdf(marksDf['score']))"
   ]
  },
  {
   "cell_type": "code",
   "execution_count": 164,
   "metadata": {
    "colab": {
     "base_uri": "https://localhost:8080/"
    },
    "id": "JfoCee6YcGIQ",
    "outputId": "5a00b476-74b5-4032-dc5d-519425bf13b7"
   },
   "outputs": [
    {
     "name": "stdout",
     "output_type": "stream",
     "text": [
      "+------+--------+-----+-----------+-----------+\n",
      "|  name| subject|score|     zscore|        cdf|\n",
      "+------+--------+-----+-----------+-----------+\n",
      "|김하나| English|100.0| 0.90201485|  0.8164755|\n",
      "|김하나|    Math| 80.0|-0.66217273| 0.25393027|\n",
      "|임하나| English| 70.0| -1.4442666|0.074332014|\n",
      "|임하나|    Math|100.0| 0.90201485|  0.8164755|\n",
      "|김갑돌| English| 82.3|-0.48229092| 0.31479964|\n",
      "|김갑돌|    Math| 98.5| 0.78470075|  0.7836855|\n",
      "+------+--------+-----+-----------+-----------+\n",
      "\n"
     ]
    }
   ],
   "source": [
    "marksDf.show()"
   ]
  },
  {
   "cell_type": "code",
   "execution_count": null,
   "metadata": {
    "id": "5yJQ31dQcHVd"
   },
   "outputs": [],
   "source": []
  }
 ],
 "metadata": {
  "colab": {
   "name": "201710773_homework7.ipynb",
   "provenance": []
  },
  "kernelspec": {
   "display_name": "Python 3",
   "language": "python",
   "name": "python3"
  },
  "language_info": {
   "codemirror_mode": {
    "name": "ipython",
    "version": 3
   },
   "file_extension": ".py",
   "mimetype": "text/x-python",
   "name": "python",
   "nbconvert_exporter": "python",
   "pygments_lexer": "ipython3",
   "version": "3.8.8"
  }
 },
 "nbformat": 4,
 "nbformat_minor": 1
}
