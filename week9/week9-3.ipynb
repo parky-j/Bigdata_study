{
 "cells": [
  {
   "cell_type": "markdown",
   "id": "307ef8fa",
   "metadata": {},
   "source": [
    "# 추론"
   ]
  },
  {
   "cell_type": "markdown",
   "id": "1d3f832c",
   "metadata": {},
   "source": [
    "# Kolmogorov_Smirnov 검증"
   ]
  },
  {
   "cell_type": "code",
   "execution_count": 1,
   "id": "137b3c9d",
   "metadata": {},
   "outputs": [],
   "source": [
    "import os\n",
    "os.environ[\"PYSPARK_PYTHON\"]=\"/usr/bin/python3\"\n",
    "os.environ[\"PYSPARK_DRIVER_PYTHON\"]=\"/usr/bin/python3\""
   ]
  },
  {
   "cell_type": "code",
   "execution_count": 2,
   "id": "8360f41a",
   "metadata": {},
   "outputs": [],
   "source": [
    "import findspark\n",
    "findspark.init()\n",
    "import pyspark\n",
    "myConf=pyspark.SparkConf()\n",
    "spark = pyspark.sql.SparkSession.builder\\\n",
    "    .master(\"local\")\\\n",
    "    .appName(\"myApp\")\\\n",
    "    .config(conf=myConf)\\\n",
    "    .getOrCreate()"
   ]
  },
  {
   "cell_type": "code",
   "execution_count": 3,
   "id": "b21342a2",
   "metadata": {},
   "outputs": [],
   "source": [
    "xRdd = spark.sparkContext.parallelize([1.0, 2.0, 5.0, 4.0, 3.0, 3.3, 5.5])"
   ]
  },
  {
   "cell_type": "code",
   "execution_count": 5,
   "id": "0538abf2",
   "metadata": {},
   "outputs": [],
   "source": [
    "from scipy.stats import kstest"
   ]
  },
  {
   "cell_type": "code",
   "execution_count": 6,
   "id": "ce93b41b",
   "metadata": {},
   "outputs": [
    {
     "data": {
      "text/plain": [
       "KstestResult(statistic=1.0, pvalue=0.0005827505827505828)"
      ]
     },
     "execution_count": 6,
     "metadata": {},
     "output_type": "execute_result"
    }
   ],
   "source": [
    "s = [1.0, 2.0, 5.0, 4.0, 3.0, 3.3, 5.5]\n",
    "d = [11.0, 12.0, 15.0, 14.0, 13.0, 13.3, 15.5]\n",
    "kstest(s, d)"
   ]
  },
  {
   "cell_type": "code",
   "execution_count": 7,
   "id": "945f8a7e",
   "metadata": {},
   "outputs": [],
   "source": [
    "import statsmodels.api as sm\n",
    "\n",
    "moore=sm.datasets.get_rdataset(\"Moore\",\"carData\")"
   ]
  },
  {
   "cell_type": "code",
   "execution_count": 8,
   "id": "9a741c8b",
   "metadata": {},
   "outputs": [
    {
     "data": {
      "text/html": [
       "<div>\n",
       "<style scoped>\n",
       "    .dataframe tbody tr th:only-of-type {\n",
       "        vertical-align: middle;\n",
       "    }\n",
       "\n",
       "    .dataframe tbody tr th {\n",
       "        vertical-align: top;\n",
       "    }\n",
       "\n",
       "    .dataframe thead th {\n",
       "        text-align: right;\n",
       "    }\n",
       "</style>\n",
       "<table border=\"1\" class=\"dataframe\">\n",
       "  <thead>\n",
       "    <tr style=\"text-align: right;\">\n",
       "      <th></th>\n",
       "      <th>partner.status</th>\n",
       "      <th>conformity</th>\n",
       "      <th>fcategory</th>\n",
       "      <th>fscore</th>\n",
       "    </tr>\n",
       "  </thead>\n",
       "  <tbody>\n",
       "    <tr>\n",
       "      <th>0</th>\n",
       "      <td>low</td>\n",
       "      <td>8</td>\n",
       "      <td>low</td>\n",
       "      <td>37</td>\n",
       "    </tr>\n",
       "    <tr>\n",
       "      <th>1</th>\n",
       "      <td>low</td>\n",
       "      <td>4</td>\n",
       "      <td>high</td>\n",
       "      <td>57</td>\n",
       "    </tr>\n",
       "    <tr>\n",
       "      <th>2</th>\n",
       "      <td>low</td>\n",
       "      <td>8</td>\n",
       "      <td>high</td>\n",
       "      <td>65</td>\n",
       "    </tr>\n",
       "    <tr>\n",
       "      <th>3</th>\n",
       "      <td>low</td>\n",
       "      <td>7</td>\n",
       "      <td>low</td>\n",
       "      <td>20</td>\n",
       "    </tr>\n",
       "    <tr>\n",
       "      <th>4</th>\n",
       "      <td>low</td>\n",
       "      <td>10</td>\n",
       "      <td>low</td>\n",
       "      <td>36</td>\n",
       "    </tr>\n",
       "  </tbody>\n",
       "</table>\n",
       "</div>"
      ],
      "text/plain": [
       "  partner.status  conformity fcategory  fscore\n",
       "0            low           8       low      37\n",
       "1            low           4      high      57\n",
       "2            low           8      high      65\n",
       "3            low           7       low      20\n",
       "4            low          10       low      36"
      ]
     },
     "execution_count": 8,
     "metadata": {},
     "output_type": "execute_result"
    }
   ],
   "source": [
    "moore.data.head()"
   ]
  },
  {
   "cell_type": "code",
   "execution_count": 18,
   "id": "a9096ea4",
   "metadata": {},
   "outputs": [
    {
     "data": {
      "text/html": [
       "<div>\n",
       "<style scoped>\n",
       "    .dataframe tbody tr th:only-of-type {\n",
       "        vertical-align: middle;\n",
       "    }\n",
       "\n",
       "    .dataframe tbody tr th {\n",
       "        vertical-align: top;\n",
       "    }\n",
       "\n",
       "    .dataframe thead th {\n",
       "        text-align: right;\n",
       "    }\n",
       "</style>\n",
       "<table border=\"1\" class=\"dataframe\">\n",
       "  <thead>\n",
       "    <tr style=\"text-align: right;\">\n",
       "      <th></th>\n",
       "      <th>status</th>\n",
       "      <th>conformity</th>\n",
       "      <th>fcategory</th>\n",
       "      <th>fscore</th>\n",
       "    </tr>\n",
       "  </thead>\n",
       "  <tbody>\n",
       "    <tr>\n",
       "      <th>0</th>\n",
       "      <td>low</td>\n",
       "      <td>8</td>\n",
       "      <td>low</td>\n",
       "      <td>37</td>\n",
       "    </tr>\n",
       "    <tr>\n",
       "      <th>1</th>\n",
       "      <td>low</td>\n",
       "      <td>4</td>\n",
       "      <td>high</td>\n",
       "      <td>57</td>\n",
       "    </tr>\n",
       "    <tr>\n",
       "      <th>2</th>\n",
       "      <td>low</td>\n",
       "      <td>8</td>\n",
       "      <td>high</td>\n",
       "      <td>65</td>\n",
       "    </tr>\n",
       "    <tr>\n",
       "      <th>3</th>\n",
       "      <td>low</td>\n",
       "      <td>7</td>\n",
       "      <td>low</td>\n",
       "      <td>20</td>\n",
       "    </tr>\n",
       "    <tr>\n",
       "      <th>4</th>\n",
       "      <td>low</td>\n",
       "      <td>10</td>\n",
       "      <td>low</td>\n",
       "      <td>36</td>\n",
       "    </tr>\n",
       "  </tbody>\n",
       "</table>\n",
       "</div>"
      ],
      "text/plain": [
       "  status  conformity fcategory  fscore\n",
       "0    low           8       low      37\n",
       "1    low           4      high      57\n",
       "2    low           8      high      65\n",
       "3    low           7       low      20\n",
       "4    low          10       low      36"
      ]
     },
     "execution_count": 18,
     "metadata": {},
     "output_type": "execute_result"
    }
   ],
   "source": [
    "\n",
    "moore.data.columns=['status','conformity', 'fcategory', 'fscore']\n",
    "moore.data.columns\n",
    "moore.data.head()"
   ]
  },
  {
   "cell_type": "code",
   "execution_count": 11,
   "id": "41c7e09b",
   "metadata": {},
   "outputs": [],
   "source": [
    "\n",
    "from statsmodels.formula.api import ols\n",
    "\n",
    "formula='fscore~C(status)*C(fcategory)'\n",
    "model=ols(formula, data=moore.data).fit()"
   ]
  },
  {
   "cell_type": "code",
   "execution_count": 12,
   "id": "79ad6f45",
   "metadata": {},
   "outputs": [],
   "source": [
    "from statsmodels.stats.anova import anova_lm\n",
    "\n",
    "result = anova_lm(model)"
   ]
  },
  {
   "cell_type": "code",
   "execution_count": 13,
   "id": "4b9dc0ca",
   "metadata": {},
   "outputs": [
    {
     "data": {
      "text/html": [
       "<div>\n",
       "<style scoped>\n",
       "    .dataframe tbody tr th:only-of-type {\n",
       "        vertical-align: middle;\n",
       "    }\n",
       "\n",
       "    .dataframe tbody tr th {\n",
       "        vertical-align: top;\n",
       "    }\n",
       "\n",
       "    .dataframe thead th {\n",
       "        text-align: right;\n",
       "    }\n",
       "</style>\n",
       "<table border=\"1\" class=\"dataframe\">\n",
       "  <thead>\n",
       "    <tr style=\"text-align: right;\">\n",
       "      <th></th>\n",
       "      <th>df</th>\n",
       "      <th>sum_sq</th>\n",
       "      <th>mean_sq</th>\n",
       "      <th>F</th>\n",
       "      <th>PR(&gt;F)</th>\n",
       "    </tr>\n",
       "  </thead>\n",
       "  <tbody>\n",
       "    <tr>\n",
       "      <th>C(status)</th>\n",
       "      <td>1.0</td>\n",
       "      <td>7.932587</td>\n",
       "      <td>7.932587</td>\n",
       "      <td>0.231555</td>\n",
       "      <td>6.330623e-01</td>\n",
       "    </tr>\n",
       "    <tr>\n",
       "      <th>C(fcategory)</th>\n",
       "      <td>2.0</td>\n",
       "      <td>7561.365635</td>\n",
       "      <td>3780.682818</td>\n",
       "      <td>110.359336</td>\n",
       "      <td>8.768957e-17</td>\n",
       "    </tr>\n",
       "    <tr>\n",
       "      <th>C(status):C(fcategory)</th>\n",
       "      <td>2.0</td>\n",
       "      <td>29.086807</td>\n",
       "      <td>14.543403</td>\n",
       "      <td>0.424527</td>\n",
       "      <td>6.570656e-01</td>\n",
       "    </tr>\n",
       "    <tr>\n",
       "      <th>Residual</th>\n",
       "      <td>39.0</td>\n",
       "      <td>1336.059416</td>\n",
       "      <td>34.257934</td>\n",
       "      <td>NaN</td>\n",
       "      <td>NaN</td>\n",
       "    </tr>\n",
       "  </tbody>\n",
       "</table>\n",
       "</div>"
      ],
      "text/plain": [
       "                          df       sum_sq      mean_sq           F  \\\n",
       "C(status)                1.0     7.932587     7.932587    0.231555   \n",
       "C(fcategory)             2.0  7561.365635  3780.682818  110.359336   \n",
       "C(status):C(fcategory)   2.0    29.086807    14.543403    0.424527   \n",
       "Residual                39.0  1336.059416    34.257934         NaN   \n",
       "\n",
       "                              PR(>F)  \n",
       "C(status)               6.330623e-01  \n",
       "C(fcategory)            8.768957e-17  \n",
       "C(status):C(fcategory)  6.570656e-01  \n",
       "Residual                         NaN  "
      ]
     },
     "execution_count": 13,
     "metadata": {},
     "output_type": "execute_result"
    }
   ],
   "source": [
    "result"
   ]
  },
  {
   "cell_type": "code",
   "execution_count": 14,
   "id": "a22c95d6",
   "metadata": {},
   "outputs": [],
   "source": [
    "moorePd = moore.data"
   ]
  },
  {
   "cell_type": "code",
   "execution_count": 15,
   "id": "ae137447",
   "metadata": {},
   "outputs": [
    {
     "data": {
      "text/html": [
       "<div>\n",
       "<style scoped>\n",
       "    .dataframe tbody tr th:only-of-type {\n",
       "        vertical-align: middle;\n",
       "    }\n",
       "\n",
       "    .dataframe tbody tr th {\n",
       "        vertical-align: top;\n",
       "    }\n",
       "\n",
       "    .dataframe thead th {\n",
       "        text-align: right;\n",
       "    }\n",
       "</style>\n",
       "<table border=\"1\" class=\"dataframe\">\n",
       "  <thead>\n",
       "    <tr style=\"text-align: right;\">\n",
       "      <th></th>\n",
       "      <th>conformity</th>\n",
       "      <th>fscore</th>\n",
       "    </tr>\n",
       "    <tr>\n",
       "      <th>fcategory</th>\n",
       "      <th></th>\n",
       "      <th></th>\n",
       "    </tr>\n",
       "  </thead>\n",
       "  <tbody>\n",
       "    <tr>\n",
       "      <th>high</th>\n",
       "      <td>12.266667</td>\n",
       "      <td>58.533333</td>\n",
       "    </tr>\n",
       "    <tr>\n",
       "      <th>low</th>\n",
       "      <td>11.733333</td>\n",
       "      <td>26.933333</td>\n",
       "    </tr>\n",
       "    <tr>\n",
       "      <th>medium</th>\n",
       "      <td>12.400000</td>\n",
       "      <td>43.866667</td>\n",
       "    </tr>\n",
       "  </tbody>\n",
       "</table>\n",
       "</div>"
      ],
      "text/plain": [
       "           conformity     fscore\n",
       "fcategory                       \n",
       "high        12.266667  58.533333\n",
       "low         11.733333  26.933333\n",
       "medium      12.400000  43.866667"
      ]
     },
     "execution_count": 15,
     "metadata": {},
     "output_type": "execute_result"
    }
   ],
   "source": [
    "moorePd.groupby('fcategory').mean()"
   ]
  },
  {
   "cell_type": "code",
   "execution_count": 16,
   "id": "fa818d95",
   "metadata": {},
   "outputs": [
    {
     "data": {
      "text/html": [
       "<div>\n",
       "<style scoped>\n",
       "    .dataframe tbody tr th:only-of-type {\n",
       "        vertical-align: middle;\n",
       "    }\n",
       "\n",
       "    .dataframe tbody tr th {\n",
       "        vertical-align: top;\n",
       "    }\n",
       "\n",
       "    .dataframe thead th {\n",
       "        text-align: right;\n",
       "    }\n",
       "</style>\n",
       "<table border=\"1\" class=\"dataframe\">\n",
       "  <thead>\n",
       "    <tr style=\"text-align: right;\">\n",
       "      <th></th>\n",
       "      <th>conformity</th>\n",
       "      <th>fscore</th>\n",
       "    </tr>\n",
       "    <tr>\n",
       "      <th>fcategory</th>\n",
       "      <th></th>\n",
       "      <th></th>\n",
       "    </tr>\n",
       "  </thead>\n",
       "  <tbody>\n",
       "    <tr>\n",
       "      <th>high</th>\n",
       "      <td>12.266667</td>\n",
       "      <td>58.533333</td>\n",
       "    </tr>\n",
       "    <tr>\n",
       "      <th>low</th>\n",
       "      <td>11.733333</td>\n",
       "      <td>26.933333</td>\n",
       "    </tr>\n",
       "    <tr>\n",
       "      <th>medium</th>\n",
       "      <td>12.400000</td>\n",
       "      <td>43.866667</td>\n",
       "    </tr>\n",
       "  </tbody>\n",
       "</table>\n",
       "</div>"
      ],
      "text/plain": [
       "           conformity     fscore\n",
       "fcategory                       \n",
       "high        12.266667  58.533333\n",
       "low         11.733333  26.933333\n",
       "medium      12.400000  43.866667"
      ]
     },
     "execution_count": 16,
     "metadata": {},
     "output_type": "execute_result"
    }
   ],
   "source": [
    "moorePd.groupby('fcategory').mean()"
   ]
  },
  {
   "cell_type": "code",
   "execution_count": 17,
   "id": "d1d779b2",
   "metadata": {},
   "outputs": [
    {
     "data": {
      "text/plain": [
       "<AxesSubplot:>"
      ]
     },
     "execution_count": 17,
     "metadata": {},
     "output_type": "execute_result"
    },
    {
     "data": {
      "image/png": "[encoded data removed]",
      "text/plain": [
       "<Figure size 432x288 with 1 Axes>"
      ]
     },
     "metadata": {
      "needs_background": "light"
     },
     "output_type": "display_data"
    }
   ],
   "source": [
    "moorePd.boxplot()"
   ]
  },
  {
   "cell_type": "code",
   "execution_count": null,
   "id": "f3e038c9",
   "metadata": {},
   "outputs": [],
   "source": [
    " "
   ]
  }
 ],
 "metadata": {
  "kernelspec": {
   "display_name": "Python 3",
   "language": "python",
   "name": "python3"
  },
  "language_info": {
   "codemirror_mode": {
    "name": "ipython",
    "version": 3
   },
   "file_extension": ".py",
   "mimetype": "text/x-python",
   "name": "python",
   "nbconvert_exporter": "python",
   "pygments_lexer": "ipython3",
   "version": "3.8.8"
  }
 },
 "nbformat": 4,
 "nbformat_minor": 5
}
