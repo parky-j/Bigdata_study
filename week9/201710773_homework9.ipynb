{
 "cells": [
  {
   "cell_type": "code",
   "execution_count": 242,
   "id": "63dc364e",
   "metadata": {},
   "outputs": [],
   "source": [
    "import findspark\n",
    "findspark.init()\n",
    "import pyspark\n",
    "myConf=pyspark.SparkConf()\n",
    "spark = pyspark.sql.SparkSession.builder\\\n",
    "    .master(\"local\")\\\n",
    "    .appName(\"myApp\")\\\n",
    "    .config(conf=myConf)\\\n",
    "    .getOrCreate()"
   ]
  },
  {
   "cell_type": "code",
   "execution_count": 262,
   "id": "0f097076",
   "metadata": {
    "scrolled": true
   },
   "outputs": [
    {
     "name": "stdout",
     "output_type": "stream",
     "text": [
      "root\n",
      " |-- 측정일자: date (nullable = true)\n",
      " |-- 권역코드: integer (nullable = true)\n",
      " |-- 권역명: string (nullable = true)\n",
      " |-- 측정소코드: integer (nullable = true)\n",
      " |-- 측정소명: string (nullable = true)\n",
      " |-- 미세먼지(㎍/㎥): integer (nullable = true)\n",
      " |-- 오존(ppm): float (nullable = true)\n",
      " |-- 이산화질소농도(ppm): float (nullable = true)\n",
      " |-- 일산화탄소농도(ppm): float (nullable = true)\n",
      " |-- 아황산가스농도(ppm): float (nullable = true)\n",
      " |-- 초미세먼지(㎍/㎥): integer (nullable = true)\n",
      "\n"
     ]
    }
   ],
   "source": [
    "import pandas as pd\n",
    "from pyspark.sql.functions import udf\n",
    "from datetime import datetime\n",
    "from pyspark.sql.functions import year, month\n",
    "from pyspark.sql.types import DateType, FloatType, IntegerType\n",
    "df = spark.read.option(\"header\",True) \\\n",
    "     .csv(\"data/dust.csv\", encoding='euc-kr')\n",
    "\n",
    "toDate = udf(lambda x: datetime.strptime(x, '%Y%m%d'), DateType())\n",
    "df = df.withColumn('측정일자', toDate(df['측정일자']))\n",
    "df = df.withColumn('권역코드', df['권역코드'].cast(\"integer\"))\n",
    "df = df.withColumn('측정소코드', df['측정소코드'].cast(\"integer\"))\n",
    "df = df.withColumn('미세먼지(㎍/㎥)', df['미세먼지(㎍/㎥)'].cast(\"integer\"))\n",
    "df = df.withColumn('오존(ppm)', df['오존(ppm)'].cast(\"float\"))\n",
    "df = df.withColumn('이산화질소농도(ppm)', df['이산화질소농도(ppm)'].cast(\"float\"))\n",
    "df = df.withColumn('일산화탄소농도(ppm)', df['일산화탄소농도(ppm)'].cast(\"float\"))\n",
    "df = df.withColumn('아황산가스농도(ppm)', df['아황산가스농도(ppm)'].cast(\"float\"))\n",
    "df = df.withColumn('초미세먼지(㎍/㎥)', df['초미세먼지(㎍/㎥)'].cast(\"integer\"))\n",
    "\n",
    "df.printSchema()"
   ]
  },
  {
   "cell_type": "markdown",
   "id": "02c7aee5",
   "metadata": {},
   "source": [
    "# 9-1 문제의 답"
   ]
  },
  {
   "cell_type": "markdown",
   "id": "9aab8857",
   "metadata": {},
   "source": [
    "#### 1. 미세먼지의 양과 초미세먼지의 양은 상관관계에 있을까?\n",
    "#### 2. 각 계절 그룹의 미세먼지의 양 간의 평균의 차이가 유의미할까?"
   ]
  },
  {
   "cell_type": "markdown",
   "id": "c9cb4cce",
   "metadata": {},
   "source": [
    "# 9-2-1 시작"
   ]
  },
  {
   "cell_type": "code",
   "execution_count": 263,
   "id": "d62941f7",
   "metadata": {},
   "outputs": [
    {
     "data": {
      "image/png": "[encoded data removed]",
      "text/plain": [
       "<Figure size 432x288 with 1 Axes>"
      ]
     },
     "metadata": {
      "needs_background": "light"
     },
     "output_type": "display_data"
    }
   ],
   "source": [
    "%matplotlib inline\n",
    "\n",
    "from matplotlib import pyplot as plt\n",
    "\n",
    "_dustRdd=df.rdd.map(lambda fields:fields['미세먼지(㎍/㎥)']).collect()\n",
    "_microdustRdd=df.rdd.map(lambda fields:fields['초미세먼지(㎍/㎥)']).collect()\n",
    "\n",
    "import numpy as np\n",
    "import matplotlib.pyplot as plt\n",
    "\n",
    "plt.title('correlation')\n",
    "plt.plot(np.array(_dustRdd), np.array(_microdustRdd),'o')\n",
    "plt.xlabel('fine dust')\n",
    "plt.ylabel('ultrafine dust')\n",
    "plt.show()"
   ]
  },
  {
   "cell_type": "markdown",
   "id": "d29050fb",
   "metadata": {},
   "source": [
    "# 9-2-1의 답"
   ]
  },
  {
   "cell_type": "code",
   "execution_count": 264,
   "id": "d23486c6",
   "metadata": {},
   "outputs": [
    {
     "name": "stdout",
     "output_type": "stream",
     "text": [
      "0.9216213743659517\n"
     ]
    }
   ],
   "source": [
    "import scipy.stats as stats\n",
    "\n",
    "X = np.array(_dustRdd)\n",
    "Y = np.array(_microdustRdd)\n",
    "\n",
    "print(sum (stats.zscore(X) * stats.zscore(Y))/len(X))"
   ]
  },
  {
   "cell_type": "markdown",
   "id": "d5998792",
   "metadata": {},
   "source": [
    "#### ※미세먼지의 양과 초미세먼지의 양 사이에는 강력한 상관관계가 있다."
   ]
  },
  {
   "cell_type": "markdown",
   "id": "129e8d9f",
   "metadata": {},
   "source": [
    "# 9-2-2 시작"
   ]
  },
  {
   "cell_type": "code",
   "execution_count": 274,
   "id": "092e3415",
   "metadata": {
    "scrolled": true
   },
   "outputs": [
    {
     "name": "stdout",
     "output_type": "stream",
     "text": [
      "+----------+---------------+------+\n",
      "|  측정일자|미세먼지(㎍/㎥)|season|\n",
      "+----------+---------------+------+\n",
      "|2020-12-31|             29|winter|\n",
      "|2020-12-31|             28|winter|\n",
      "|2020-12-31|             34|winter|\n",
      "|2020-12-31|             26|winter|\n",
      "|2020-12-31|             20|winter|\n",
      "|2020-12-31|             23|winter|\n",
      "|2020-12-31|             24|winter|\n",
      "|2020-12-31|             22|winter|\n",
      "|2020-12-31|             24|winter|\n",
      "|2020-12-31|             21|winter|\n",
      "|2020-12-31|             23|winter|\n",
      "|2020-12-31|             20|winter|\n",
      "|2020-12-31|             30|winter|\n",
      "|2020-12-31|             27|winter|\n",
      "|2020-12-31|             27|winter|\n",
      "|2020-12-31|             27|winter|\n",
      "|2020-12-31|             23|winter|\n",
      "|2020-12-31|             30|winter|\n",
      "|2020-12-31|             22|winter|\n",
      "|2020-12-31|             29|winter|\n",
      "+----------+---------------+------+\n",
      "only showing top 20 rows\n",
      "\n"
     ]
    }
   ],
   "source": [
    "from pyspark.sql.functions import udf\n",
    "from pyspark.sql.types import StringType\n",
    "\n",
    "spring = datetime.strptime('20200301', '%Y%m%d')\n",
    "summer = datetime.strptime('20200601', '%Y%m%d')\n",
    "fall = datetime.strptime('20200901', '%Y%m%d')\n",
    "winter = datetime.strptime('20201201', '%Y%m%d')\n",
    "\n",
    "seasonUdf = udf(lambda x: \"winter\" if x<spring\\\n",
    "                else \"spring\" if spring<=x<summer\\\n",
    "                else \"summer\" if summer<=x<fall\\\n",
    "                else \"fall\" if fall<=x<winter\\\n",
    "                else \"winter\", StringType())\n",
    "\n",
    "seasonDf = df.select(df['측정일자'],df['미세먼지(㎍/㎥)'])\\\n",
    "        .withColumn('season',seasonUdf(df['측정일자']))\n",
    "\n",
    "seasonDf2 = df.withColumn('season',seasonUdf(df['측정일자']))\n",
    "\n",
    "seasonDf.show()"
   ]
  },
  {
   "cell_type": "code",
   "execution_count": 272,
   "id": "12e10f2c",
   "metadata": {},
   "outputs": [],
   "source": [
    "from pyspark.ml.feature import StringIndexer\n",
    "\n",
    "labelIndexer = StringIndexer(inputCol=\"season\", outputCol=\"label\")\n",
    "model=labelIndexer.fit(seasonDf2)\n",
    "_df=model.transform(seasonDf2)"
   ]
  },
  {
   "cell_type": "code",
   "execution_count": 273,
   "id": "d5b3b19c",
   "metadata": {
    "collapsed": true
   },
   "outputs": [
    {
     "name": "stdout",
     "output_type": "stream",
     "text": [
      "+----------+--------+------+----------+--------+---------------+---------+-------------------+-------------------+-------------------+-----------------+------+-----+\n",
      "|  측정일자|권역코드|권역명|측정소코드|측정소명|미세먼지(㎍/㎥)|오존(ppm)|이산화질소농도(ppm)|일산화탄소농도(ppm)|아황산가스농도(ppm)|초미세먼지(㎍/㎥)|season|label|\n",
      "+----------+--------+------+----------+--------+---------------+---------+-------------------+-------------------+-------------------+-----------------+------+-----+\n",
      "|2020-12-31|     100|도심권|    111121|    중구|             29|     0.02|              0.016|                0.4|              0.003|               13|winter|  2.0|\n",
      "|2020-12-31|     100|도심권|    111123|  종로구|             28|    0.022|              0.016|                0.4|              0.003|               12|winter|  2.0|\n",
      "|2020-12-31|     100|도심권|    111131|  용산구|             34|    0.014|              0.019|                0.4|              0.003|               10|winter|  2.0|\n",
      "|2020-12-31|     101|서북권|    111181|  은평구|             26|    0.023|              0.016|                0.5|              0.004|               10|winter|  2.0|\n",
      "+----------+--------+------+----------+--------+---------------+---------+-------------------+-------------------+-------------------+-----------------+------+-----+\n",
      "only showing top 4 rows\n",
      "\n"
     ]
    }
   ],
   "source": [
    "_df.show(4)"
   ]
  },
  {
   "cell_type": "code",
   "execution_count": 291,
   "id": "ad74c3f4",
   "metadata": {},
   "outputs": [],
   "source": [
    "from pyspark.ml.feature import VectorAssembler\n",
    "\n",
    "assembler = VectorAssembler(inputCols=['이산화질소농도(ppm)', '미세먼지(㎍/㎥)', '오존(ppm)'], outputCol=\"features\")\n",
    "_trainDf = assembler.transform(_df)"
   ]
  },
  {
   "cell_type": "code",
   "execution_count": 292,
   "id": "39864fa1",
   "metadata": {
    "collapsed": true
   },
   "outputs": [
    {
     "name": "stdout",
     "output_type": "stream",
     "text": [
      "+----------+--------+------+----------+--------+---------------+---------+-------------------+-------------------+-------------------+-----------------+------+-----+--------------------+\n",
      "|  측정일자|권역코드|권역명|측정소코드|측정소명|미세먼지(㎍/㎥)|오존(ppm)|이산화질소농도(ppm)|일산화탄소농도(ppm)|아황산가스농도(ppm)|초미세먼지(㎍/㎥)|season|label|            features|\n",
      "+----------+--------+------+----------+--------+---------------+---------+-------------------+-------------------+-------------------+-----------------+------+-----+--------------------+\n",
      "|2020-12-31|     100|도심권|    111121|    중구|             29|     0.02|              0.016|                0.4|              0.003|               13|winter|  2.0|[0.01600000075995...|\n",
      "|2020-12-31|     100|도심권|    111123|  종로구|             28|    0.022|              0.016|                0.4|              0.003|               12|winter|  2.0|[0.01600000075995...|\n",
      "|2020-12-31|     100|도심권|    111131|  용산구|             34|    0.014|              0.019|                0.4|              0.003|               10|winter|  2.0|[0.01899999938905...|\n",
      "|2020-12-31|     101|서북권|    111181|  은평구|             26|    0.023|              0.016|                0.5|              0.004|               10|winter|  2.0|[0.01600000075995...|\n",
      "|2020-12-31|     101|서북권|    111191|서대문구|             20|     0.02|              0.017|                0.5|              0.004|               10|winter|  2.0|[0.01700000092387...|\n",
      "|2020-12-31|     101|서북권|    111201|  마포구|             23|    0.015|              0.022|                0.4|              0.003|                9|winter|  2.0|[0.02199999988079...|\n",
      "|2020-12-31|     102|동북권|    111141|  광진구|             24|    0.013|               0.02|                0.5|              0.002|               12|winter|  2.0|[0.01999999955296...|\n",
      "|2020-12-31|     102|동북권|    111142|  성동구|             22|     0.02|              0.028|                0.4|              0.003|               12|winter|  2.0|[0.02800000086426...|\n",
      "|2020-12-31|     102|동북권|    111151|  중랑구|             24|    0.015|              0.026|                0.5|              0.003|               10|winter|  2.0|[0.02600000053644...|\n",
      "|2020-12-31|     102|동북권|    111152|동대문구|             21|    0.019|               0.02|                0.4|              0.003|               12|winter|  2.0|[0.01999999955296...|\n",
      "|2020-12-31|     102|동북권|    111161|  성북구|             23|    0.015|              0.023|                0.7|              0.004|                9|winter|  2.0|[0.02300000004470...|\n",
      "|2020-12-31|     102|동북권|    111171|  도봉구|             20|    0.022|              0.014|                0.3|              0.002|               11|winter|  2.0|[0.01400000043213...|\n",
      "|2020-12-31|     102|동북권|    111291|  강북구|             30|     0.02|              0.013|                0.4|              0.004|               12|winter|  2.0|[0.01300000026822...|\n",
      "|2020-12-31|     102|동북권|    111311|  노원구|             27|    0.021|              0.018|                0.4|              0.003|               14|winter|  2.0|[0.01799999922513...|\n",
      "|2020-12-31|     103|서남권|    111212|  강서구|             27|    0.019|              0.021|                0.3|              0.004|               10|winter|  2.0|[0.02099999971687...|\n",
      "|2020-12-31|     103|서남권|    111221|  구로구|             27|    0.017|              0.023|                0.4|              0.004|                5|winter|  2.0|[0.02300000004470...|\n",
      "|2020-12-31|     103|서남권|    111231|영등포구|             23|    0.015|              0.021|                0.5|              0.003|               10|winter|  2.0|[0.02099999971687...|\n",
      "|2020-12-31|     103|서남권|    111241|  동작구|             30|    0.016|              0.023|                0.4|              0.003|               13|winter|  2.0|[0.02300000004470...|\n",
      "|2020-12-31|     103|서남권|    111251|  관악구|             22|    0.014|              0.027|                0.4|              0.004|                9|winter|  2.0|[0.02700000070035...|\n",
      "|2020-12-31|     103|서남권|    111281|  금천구|             29|    0.016|              0.025|                0.5|              0.003|               13|winter|  2.0|[0.02500000037252...|\n",
      "+----------+--------+------+----------+--------+---------------+---------+-------------------+-------------------+-------------------+-----------------+------+-----+--------------------+\n",
      "only showing top 20 rows\n",
      "\n"
     ]
    }
   ],
   "source": [
    "_trainDf.show()"
   ]
  },
  {
   "cell_type": "markdown",
   "id": "6ac65326",
   "metadata": {},
   "source": [
    "# 문제9-2-2의 답"
   ]
  },
  {
   "cell_type": "code",
   "execution_count": 295,
   "id": "e8bfec14",
   "metadata": {},
   "outputs": [
    {
     "name": "stdout",
     "output_type": "stream",
     "text": [
      "+-------------+----------------+--------------------+\n",
      "|      pValues|degreesOfFreedom|          statistics|\n",
      "+-------------+----------------+--------------------+\n",
      "|[0.0,0.0,0.0]| [213, 333, 258]|[1416.18557589984...|\n",
      "+-------------+----------------+--------------------+\n",
      "\n"
     ]
    }
   ],
   "source": [
    "from pyspark.ml.stat import ChiSquareTest\n",
    "r = ChiSquareTest.test(_trainDf, \"features\", \"label\")\n",
    "r.show()"
   ]
  },
  {
   "cell_type": "markdown",
   "id": "33c5a798",
   "metadata": {},
   "source": [
    "#### ※pValues의 값들이 0.0이므로, 이산화질소농도, 미세먼지의 양, 오존농도와 계절은 유의미한 상관관계를 갖는다."
   ]
  }
 ],
 "metadata": {
  "kernelspec": {
   "display_name": "Python 3",
   "language": "python",
   "name": "python3"
  },
  "language_info": {
   "codemirror_mode": {
    "name": "ipython",
    "version": 3
   },
   "file_extension": ".py",
   "mimetype": "text/x-python",
   "name": "python",
   "nbconvert_exporter": "python",
   "pygments_lexer": "ipython3",
   "version": "3.8.8"
  }
 },
 "nbformat": 4,
 "nbformat_minor": 5
}
