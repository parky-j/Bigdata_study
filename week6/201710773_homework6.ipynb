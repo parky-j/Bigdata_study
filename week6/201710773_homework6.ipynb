{
 "cells": [
  {
   "cell_type": "code",
   "execution_count": 123,
   "metadata": {
    "colab": {
     "base_uri": "https://localhost:8080/"
    },
    "id": "XyfKuznh0XF7",
    "outputId": "0f8af36e-0b3e-4772-ce16-1d0206132e97"
   },
   "outputs": [
    {
     "name": "stdout",
     "output_type": "stream",
     "text": [
      "Requirement already satisfied: findspark in /usr/local/lib/python3.7/dist-packages (1.4.2)\n"
     ]
    }
   ],
   "source": [
    "!apt-get install openjdk-11-jdk-headless -qq > /dev/null\n",
    "!wget -q https://downloads.apache.org/spark/spark-3.1.2/spark-3.1.2-bin-hadoop2.7.tgz\n",
    "!tar -xf spark-3.1.2-bin-hadoop2.7.tgz\n",
    "!pip install findspark\n",
    "\n",
    "import os\n",
    "os.environ[\"JAVA_HOME\"] = \"/usr/lib/jvm/java-11-openjdk-amd64\"\n",
    "os.environ[\"SPARK_HOME\"] = \"/content/spark-3.1.2-bin-hadoop2.7\"\n",
    "\n",
    "import findspark\n",
    "findspark.init()"
   ]
  },
  {
   "cell_type": "code",
   "execution_count": 124,
   "metadata": {
    "id": "G4QD3qVD0Zl2"
   },
   "outputs": [],
   "source": [
    "import pyspark\n",
    "myConf=pyspark.SparkConf()\n",
    "spark = pyspark.sql.SparkSession.builder\\\n",
    "    .master(\"local\")\\\n",
    "    .appName(\"myApp\")\\\n",
    "    .config(conf=myConf)\\\n",
    "    .getOrCreate()"
   ]
  },
  {
   "cell_type": "code",
   "execution_count": 125,
   "metadata": {
    "id": "6_VYHgqn1hw7"
   },
   "outputs": [],
   "source": [
    "df = spark\\\n",
    "        .read\\\n",
    "        .format('com.databricks.spark.csv')\\\n",
    "        .options(header='true', inferschema='true', delimiter=',')\\\n",
    "        .load(os.path.join('data','서울특별시_공공자전거 일별 대여건수_(2018_2019.03).csv'))"
   ]
  },
  {
   "cell_type": "code",
   "execution_count": 126,
   "metadata": {
    "id": "3isdqHcX42Sw"
   },
   "outputs": [],
   "source": [
    "df=df.withColumnRenamed('�뿩����','date')\n",
    "df=df.withColumnRenamed('�뿩�Ǽ�','count')"
   ]
  },
  {
   "cell_type": "code",
   "execution_count": 127,
   "metadata": {
    "id": "b32gQkPP5os7"
   },
   "outputs": [],
   "source": [
    "from pyspark.sql.functions import to_date\n",
    "\n",
    "_dfCasted=df.withColumn('date', to_date(df['date'], 'yyyy-MM-dd'))"
   ]
  },
  {
   "cell_type": "code",
   "execution_count": 128,
   "metadata": {
    "id": "Tu71hvB26Bec"
   },
   "outputs": [],
   "source": [
    "myDf = _dfCasted.withColumn('count', _dfCasted['count'].cast(\"integer\"))"
   ]
  },
  {
   "cell_type": "code",
   "execution_count": 129,
   "metadata": {
    "colab": {
     "base_uri": "https://localhost:8080/"
    },
    "id": "1ddZwtI67bWT",
    "outputId": "f6ad2a90-5edd-4994-9494-8826986754bf"
   },
   "outputs": [
    {
     "name": "stdout",
     "output_type": "stream",
     "text": [
      "+----------+----------+\n",
      "|      year|sum(count)|\n",
      "+----------+----------+\n",
      "|2018-05-28|     40775|\n",
      "|2018-08-10|     36178|\n",
      "|2018-03-17|     20165|\n",
      "|2018-06-06|     40440|\n",
      "|2018-06-26|      6391|\n",
      "|2018-08-08|     37140|\n",
      "|2018-08-11|     31293|\n",
      "|2018-09-01|     43847|\n",
      "|2018-09-09|     54213|\n",
      "|2018-10-05|      7772|\n",
      "|2018-11-02|     44917|\n",
      "|2018-06-30|     26911|\n",
      "|2018-11-01|     41911|\n",
      "|2019-02-23|     23742|\n",
      "|2018-03-23|     17904|\n",
      "|2018-05-26|     37761|\n",
      "|2018-09-08|     55470|\n",
      "|2019-01-07|     16795|\n",
      "|2019-01-08|     15833|\n",
      "|2019-01-28|     17317|\n",
      "+----------+----------+\n",
      "only showing top 20 rows\n",
      "\n"
     ]
    }
   ],
   "source": [
    "myDf.groupBy('date').agg({\"count\":\"sum\"}).withColumnRenamed('date','year').show()"
   ]
  },
  {
   "cell_type": "code",
   "execution_count": 130,
   "metadata": {
    "id": "WiwVDXp0B3Hq"
   },
   "outputs": [],
   "source": [
    "from pyspark.sql.functions import year, month"
   ]
  },
  {
   "cell_type": "code",
   "execution_count": 131,
   "metadata": {
    "id": "WX7hKku0DUs7"
   },
   "outputs": [],
   "source": [
    "myDf_new = myDf.withColumn('year', year(myDf.date))\n",
    "myDf_new = myDf_new.withColumn('month', month(myDf.date)) "
   ]
  },
  {
   "cell_type": "markdown",
   "metadata": {},
   "source": [
    "# 문제 1-1 - 시작/답"
   ]
  },
  {
   "cell_type": "code",
   "execution_count": 132,
   "metadata": {
    "colab": {
     "base_uri": "https://localhost:8080/"
    },
    "id": "hhP8C1fqHd_H",
    "outputId": "cb2526bd-4c1d-45d0-f7f5-9a3eb538fdc3"
   },
   "outputs": [
    {
     "name": "stdout",
     "output_type": "stream",
     "text": [
      "+----+----------+\n",
      "|year|sum(count)|\n",
      "+----+----------+\n",
      "|2018|  10124874|\n",
      "|2019|   1871935|\n",
      "+----+----------+\n",
      "\n"
     ]
    }
   ],
   "source": [
    "myDf_new.groupBy('year').agg({\"count\":\"sum\"}).show()"
   ]
  },
  {
   "cell_type": "markdown",
   "metadata": {},
   "source": [
    "# 문제 1-2 - 시작"
   ]
  },
  {
   "cell_type": "code",
   "execution_count": 133,
   "metadata": {
    "id": "MW7VEVo4INyU"
   },
   "outputs": [],
   "source": [
    "year_monthDf = myDf_new.groupBy('year','month').agg({\"count\":\"sum\"}).sort('year', 'month')"
   ]
  },
  {
   "cell_type": "markdown",
   "metadata": {},
   "source": [
    "# 문제 1-2 - 답"
   ]
  },
  {
   "cell_type": "code",
   "execution_count": 134,
   "metadata": {
    "colab": {
     "base_uri": "https://localhost:8080/"
    },
    "id": "w2ikEHvNLEgS",
    "outputId": "ecead683-37db-48a4-ab56-8ede814fbc5c",
    "scrolled": true
   },
   "outputs": [
    {
     "name": "stdout",
     "output_type": "stream",
     "text": [
      "+----+-----+----------+\n",
      "|year|month|sum(count)|\n",
      "+----+-----+----------+\n",
      "|2018|    1|    164367|\n",
      "|2018|    2|    168741|\n",
      "|2018|    3|    462661|\n",
      "|2018|    4|    687885|\n",
      "|2018|    5|    965609|\n",
      "|2018|    6|   1207123|\n",
      "|2018|    7|   1100015|\n",
      "|2018|    8|   1037505|\n",
      "|2018|    9|   1447993|\n",
      "|2018|   10|   1420621|\n",
      "|2018|   11|    961532|\n",
      "|2018|   12|    500822|\n",
      "|2019|    1|    495573|\n",
      "|2019|    2|    471543|\n",
      "|2019|    3|    904819|\n",
      "+----+-----+----------+\n",
      "\n"
     ]
    }
   ],
   "source": [
    "year_monthDf.show()"
   ]
  },
  {
   "cell_type": "markdown",
   "metadata": {},
   "source": [
    "# 문제 1-3 - 시작/답"
   ]
  },
  {
   "cell_type": "code",
   "execution_count": 137,
   "metadata": {
    "colab": {
     "base_uri": "https://localhost:8080/",
     "height": 331
    },
    "id": "0HOzMwrEJRrn",
    "outputId": "dc599a53-0f45-4a74-9a65-d703897f7888"
   },
   "outputs": [
    {
     "data": {
      "image/png": "[encoded data removed]",
      "text/plain": [
       "<Figure size 1080x360 with 1 Axes>"
      ]
     },
     "metadata": {
      "needs_background": "light"
     },
     "output_type": "display_data"
    }
   ],
   "source": [
    "from matplotlib import pyplot as plt\n",
    "\n",
    "plt.figure(figsize=(15,5))\n",
    "x_values = year_monthDf.rdd.map(lambda fields : str(fields[0])+'-'+str(fields[1])).collect()\n",
    "y_values = year_monthDf.rdd.map(lambda fields : fields[2]).collect()\n",
    "plt.plot(x_values, y_values)\n",
    "plt.show()"
   ]
  }
 ],
 "metadata": {
  "colab": {
   "collapsed_sections": [],
   "name": "201710773_homework6.ipynb",
   "provenance": []
  },
  "kernelspec": {
   "display_name": "Python 3",
   "language": "python",
   "name": "python3"
  },
  "language_info": {
   "codemirror_mode": {
    "name": "ipython",
    "version": 3
   },
   "file_extension": ".py",
   "mimetype": "text/x-python",
   "name": "python",
   "nbconvert_exporter": "python",
   "pygments_lexer": "ipython3",
   "version": "3.8.8"
  }
 },
 "nbformat": 4,
 "nbformat_minor": 1
}
