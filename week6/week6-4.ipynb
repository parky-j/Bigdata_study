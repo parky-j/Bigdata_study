{
 "cells": [
  {
   "cell_type": "code",
   "execution_count": 53,
   "id": "1c9e44f7",
   "metadata": {},
   "outputs": [],
   "source": [
    "import findspark\n",
    "findspark.init()\n",
    "import pyspark\n",
    "myConf=pyspark.SparkConf()\n",
    "spark = pyspark.sql.SparkSession.builder\\\n",
    "    .master(\"local\")\\\n",
    "    .appName(\"myApp\")\\\n",
    "    .config(conf=myConf)\\\n",
    "    .getOrCreate()"
   ]
  },
  {
   "cell_type": "code",
   "execution_count": 54,
   "id": "a2a96aab",
   "metadata": {},
   "outputs": [],
   "source": [
    "import os\n",
    "tDf = spark\\\n",
    "    .read\\\n",
    "    .options(header='false', inferschema='true', delimiter='\\t')\\\n",
    "    .csv(os.path.join('data', 'ds_spark_heightweight.txt'))"
   ]
  },
  {
   "cell_type": "markdown",
   "id": "ae047583",
   "metadata": {},
   "source": [
    "# 컬럼 조회 select"
   ]
  },
  {
   "cell_type": "code",
   "execution_count": 55,
   "id": "db020798",
   "metadata": {},
   "outputs": [],
   "source": [
    "myDf = spark\\\n",
    "        .read.format('com.databricks.spark.csv')\\\n",
    "        .options(header='true', inferschema='true')\\\n",
    "        .load(os.path.join('data','myDf.csv'))"
   ]
  },
  {
   "cell_type": "code",
   "execution_count": 56,
   "id": "a6496783",
   "metadata": {},
   "outputs": [
    {
     "name": "stdout",
     "output_type": "stream",
     "text": [
      "+----+\n",
      "|name|\n",
      "+----+\n",
      "| js1|\n",
      "| js2|\n",
      "+----+\n",
      "\n"
     ]
    }
   ],
   "source": [
    "_name=myDf.select('name')\n",
    "_name.show()"
   ]
  },
  {
   "cell_type": "code",
   "execution_count": 57,
   "id": "519c3441",
   "metadata": {},
   "outputs": [
    {
     "name": "stdout",
     "output_type": "stream",
     "text": [
      "+----+---+\n",
      "|name|age|\n",
      "+----+---+\n",
      "| js1| 10|\n",
      "| js2| 20|\n",
      "+----+---+\n",
      "\n"
     ]
    }
   ],
   "source": [
    "_name=myDf.select('name', 'age').show()"
   ]
  },
  {
   "cell_type": "code",
   "execution_count": 58,
   "id": "c5ae761b",
   "metadata": {},
   "outputs": [
    {
     "name": "stdout",
     "output_type": "stream",
     "text": [
      "+----+---+\n",
      "|name|age|\n",
      "+----+---+\n",
      "| js1| 10|\n",
      "| js2| 20|\n",
      "+----+---+\n",
      "\n"
     ]
    }
   ],
   "source": [
    "cols = ['name', 'age']\n",
    "myDf.select(*cols).show()"
   ]
  },
  {
   "cell_type": "markdown",
   "id": "f55b8de0",
   "metadata": {},
   "source": [
    "# 컬럼을 list로 변환"
   ]
  },
  {
   "cell_type": "code",
   "execution_count": 59,
   "id": "fae5ab2b",
   "metadata": {},
   "outputs": [
    {
     "data": {
      "text/plain": [
       "[Row(name='js1'), Row(name='js2')]"
      ]
     },
     "execution_count": 59,
     "metadata": {},
     "output_type": "execute_result"
    }
   ],
   "source": [
    "myDf.select('name').collect()"
   ]
  },
  {
   "cell_type": "code",
   "execution_count": 60,
   "id": "af4f5b5a",
   "metadata": {},
   "outputs": [
    {
     "data": {
      "text/plain": [
       "['js1', 'js2']"
      ]
     },
     "execution_count": 60,
     "metadata": {},
     "output_type": "execute_result"
    }
   ],
   "source": [
    "myDf.select('name').rdd.map(lambda x: x[0]).collect()"
   ]
  },
  {
   "cell_type": "code",
   "execution_count": 61,
   "id": "37add651",
   "metadata": {},
   "outputs": [
    {
     "data": {
      "text/plain": [
       "['js1', 'js2']"
      ]
     },
     "execution_count": 61,
     "metadata": {},
     "output_type": "execute_result"
    }
   ],
   "source": [
    "myDf.select('name').rdd.flatMap(lambda x: x).collect()"
   ]
  },
  {
   "cell_type": "code",
   "execution_count": 62,
   "id": "ca7f9b2e",
   "metadata": {},
   "outputs": [
    {
     "name": "stdout",
     "output_type": "stream",
     "text": [
      "+----+---+--------------+\n",
      "|name|age|name LIKE js,%|\n",
      "+----+---+--------------+\n",
      "| js1| 10|         false|\n",
      "| js2| 20|         false|\n",
      "+----+---+--------------+\n",
      "\n"
     ]
    }
   ],
   "source": [
    "myDf.select(\"name\", \"age\", myDf.name.like(\"js,%\")).show()"
   ]
  },
  {
   "cell_type": "code",
   "execution_count": 63,
   "id": "dddbf421",
   "metadata": {},
   "outputs": [
    {
     "name": "stdout",
     "output_type": "stream",
     "text": [
      "+----+---+-------------------+\n",
      "|name|age|startswith(name, j)|\n",
      "+----+---+-------------------+\n",
      "| js1| 10|               true|\n",
      "| js2| 20|               true|\n",
      "+----+---+-------------------+\n",
      "\n"
     ]
    }
   ],
   "source": [
    "myDf.select(\"name\", \"age\", myDf.name.startswith(\"j\")).show()"
   ]
  },
  {
   "cell_type": "code",
   "execution_count": 64,
   "id": "8446659c",
   "metadata": {},
   "outputs": [
    {
     "name": "stdout",
     "output_type": "stream",
     "text": [
      "+----+---+-------------------+\n",
      "|name|age|endswith(name, lee)|\n",
      "+----+---+-------------------+\n",
      "| js1| 10|              false|\n",
      "| js2| 20|              false|\n",
      "+----+---+-------------------+\n",
      "\n"
     ]
    }
   ],
   "source": [
    "myDf.select(\"name\", \"age\", myDf.name.endswith(\"lee\")).show()"
   ]
  },
  {
   "cell_type": "code",
   "execution_count": 65,
   "id": "d0fc3b89",
   "metadata": {},
   "outputs": [],
   "source": [
    "myDf1 = myDf.alias(\"myDf1\")"
   ]
  },
  {
   "cell_type": "code",
   "execution_count": 66,
   "id": "1c744efa",
   "metadata": {},
   "outputs": [
    {
     "name": "stdout",
     "output_type": "stream",
     "text": [
      "+----------+\n",
      "|short name|\n",
      "+----------+\n",
      "|       js1|\n",
      "|       js2|\n",
      "+----------+\n",
      "\n"
     ]
    }
   ],
   "source": [
    "myDf1.select(myDf1.name.substr(1,3).alias(\"short name\")).show(3)"
   ]
  },
  {
   "cell_type": "code",
   "execution_count": 67,
   "id": "c3330ce0",
   "metadata": {},
   "outputs": [
    {
     "name": "stdout",
     "output_type": "stream",
     "text": [
      "+---+--------------------------------------+\n",
      "|age|CASE WHEN (age < 11) THEN 1 ELSE 0 END|\n",
      "+---+--------------------------------------+\n",
      "| 10|                                     1|\n",
      "| 20|                                     0|\n",
      "+---+--------------------------------------+\n",
      "\n"
     ]
    }
   ],
   "source": [
    "from pyspark.sql.functions import when\n",
    "myDf.select(\"age\", when(myDf.age < 11, 1).otherwise(0)).show()"
   ]
  },
  {
   "cell_type": "code",
   "execution_count": 68,
   "id": "15773fc5",
   "metadata": {},
   "outputs": [
    {
     "name": "stdout",
     "output_type": "stream",
     "text": [
      "+---+---+\n",
      "|age|<11|\n",
      "+---+---+\n",
      "| 10|  1|\n",
      "| 20|  0|\n",
      "+---+---+\n",
      "\n"
     ]
    }
   ],
   "source": [
    "from pyspark.sql.functions import when\n",
    "myDf.select(\"age\", (when(myDf.age < 11, 1).otherwise(0)).alias('<11')).show()"
   ]
  },
  {
   "cell_type": "code",
   "execution_count": 69,
   "id": "8584c4e4",
   "metadata": {},
   "outputs": [
    {
     "name": "stdout",
     "output_type": "stream",
     "text": [
      "+--------+\n",
      "|how tall|\n",
      "+--------+\n",
      "|     <11|\n",
      "|     >11|\n",
      "+--------+\n",
      "\n"
     ]
    }
   ],
   "source": [
    "from pyspark.sql.functions import when\n",
    "_myDf=myDf.select(when(myDf['age'] >11.0, \">11\").otherwise(\"<11\").alias(\"how tall\")).show()"
   ]
  },
  {
   "cell_type": "code",
   "execution_count": 70,
   "id": "7dd5e23f",
   "metadata": {},
   "outputs": [
    {
     "name": "stdout",
     "output_type": "stream",
     "text": [
      "+---+----+---+\n",
      "|_c0|name|age|\n",
      "+---+----+---+\n",
      "|  0| js1| 10|\n",
      "+---+----+---+\n",
      "\n"
     ]
    }
   ],
   "source": [
    "myDf.where(myDf['age'] < 11).show()"
   ]
  },
  {
   "cell_type": "code",
   "execution_count": 71,
   "id": "3d3c3f09",
   "metadata": {},
   "outputs": [
    {
     "name": "stdout",
     "output_type": "stream",
     "text": [
      "+----+---+\n",
      "|name|age|\n",
      "+----+---+\n",
      "| js1| 10|\n",
      "+----+---+\n",
      "\n"
     ]
    }
   ],
   "source": [
    "myDf.where(myDf['age'] < 11)\\\n",
    "    .select(myDf['name'], myDf['age']).show()"
   ]
  },
  {
   "cell_type": "markdown",
   "id": "135ec610",
   "metadata": {},
   "source": [
    "# filter"
   ]
  },
  {
   "cell_type": "code",
   "execution_count": 72,
   "id": "98f3e7f0",
   "metadata": {},
   "outputs": [
    {
     "name": "stdout",
     "output_type": "stream",
     "text": [
      "+---+----+---+\n",
      "|_c0|name|age|\n",
      "+---+----+---+\n",
      "|  1| js2| 20|\n",
      "+---+----+---+\n",
      "\n"
     ]
    }
   ],
   "source": [
    "myDf.filter(myDf['age'] > 11).show()"
   ]
  },
  {
   "cell_type": "markdown",
   "id": "2d1ae639",
   "metadata": {},
   "source": [
    "# regexp_replace 컬럼의 내용 변경"
   ]
  },
  {
   "cell_type": "code",
   "execution_count": 73,
   "id": "1b54e483",
   "metadata": {},
   "outputs": [
    {
     "name": "stdout",
     "output_type": "stream",
     "text": [
      "+---+----+---+-------+\n",
      "|_c0|name|age|nameNew|\n",
      "+---+----+---+-------+\n",
      "|  0| js1| 10|    lim|\n",
      "|  1| js2| 20|    js2|\n",
      "+---+----+---+-------+\n",
      "\n"
     ]
    }
   ],
   "source": [
    "from pyspark.sql.functions import *\n",
    "\n",
    "_heightDf = myDf.withColumn('nameNew', regexp_replace('name', 'js1', 'lim'))\n",
    "_heightDf.show()"
   ]
  },
  {
   "cell_type": "markdown",
   "id": "38c0c252",
   "metadata": {},
   "source": [
    "# groupBy"
   ]
  },
  {
   "cell_type": "code",
   "execution_count": 74,
   "id": "6ff60ab0",
   "metadata": {},
   "outputs": [
    {
     "data": {
      "text/plain": [
       "<pyspark.sql.group.GroupedData at 0x23468008be0>"
      ]
     },
     "execution_count": 74,
     "metadata": {},
     "output_type": "execute_result"
    }
   ],
   "source": [
    "myDf.groupby(myDf['age'])"
   ]
  },
  {
   "cell_type": "code",
   "execution_count": 75,
   "id": "b037887b",
   "metadata": {},
   "outputs": [
    {
     "name": "stdout",
     "output_type": "stream",
     "text": [
      "+---+--------+--------+\n",
      "|age|max(_c0)|max(age)|\n",
      "+---+--------+--------+\n",
      "| 20|       1|      20|\n",
      "| 10|       0|      10|\n",
      "+---+--------+--------+\n",
      "\n"
     ]
    }
   ],
   "source": [
    "myDf.groupby(myDf['age']).max().show()"
   ]
  },
  {
   "cell_type": "code",
   "execution_count": 80,
   "id": "a136dc68",
   "metadata": {},
   "outputs": [
    {
     "name": "stdout",
     "output_type": "stream",
     "text": [
      "+---+--------+\n",
      "|age|sum(age)|\n",
      "+---+--------+\n",
      "| 20|      20|\n",
      "| 10|      10|\n",
      "+---+--------+\n",
      "\n"
     ]
    }
   ],
   "source": [
    "myDf.groupBy('age').agg({\"age\":\"sum\"}).show()"
   ]
  },
  {
   "cell_type": "code",
   "execution_count": 78,
   "id": "e6665bac",
   "metadata": {},
   "outputs": [
    {
     "ename": "NameError",
     "evalue": "name 'wcDf' is not defined",
     "output_type": "error",
     "traceback": [
      "\u001b[1;31m---------------------------------------------------------------------------\u001b[0m",
      "\u001b[1;31mNameError\u001b[0m                                 Traceback (most recent call last)",
      "\u001b[1;32m<ipython-input-78-bd2eaec1ce74>\u001b[0m in \u001b[0;36m<module>\u001b[1;34m\u001b[0m\n\u001b[1;32m----> 1\u001b[1;33m \u001b[0mwcDf\u001b[0m\u001b[1;33m.\u001b[0m\u001b[0mgroupBy\u001b[0m\u001b[1;33m(\u001b[0m\u001b[0mwcDf\u001b[0m\u001b[1;33m.\u001b[0m\u001b[0mClubCountry\u001b[0m\u001b[1;33m)\u001b[0m\u001b[1;33m.\u001b[0m\u001b[0mcount\u001b[0m\u001b[1;33m(\u001b[0m\u001b[1;33m)\u001b[0m\u001b[1;33m.\u001b[0m\u001b[0mshow\u001b[0m\u001b[1;33m(\u001b[0m\u001b[1;33m)\u001b[0m\u001b[1;33m\u001b[0m\u001b[1;33m\u001b[0m\u001b[0m\n\u001b[0m",
      "\u001b[1;31mNameError\u001b[0m: name 'wcDf' is not defined"
     ]
    }
   ],
   "source": [
    "wcDf.groupBy(wcDf.ClubCountry).count().show()\n"
   ]
  },
  {
   "cell_type": "code",
   "execution_count": null,
   "id": "3dec4b82",
   "metadata": {},
   "outputs": [],
   "source": []
  }
 ],
 "metadata": {
  "kernelspec": {
   "display_name": "Python 3",
   "language": "python",
   "name": "python3"
  },
  "language_info": {
   "codemirror_mode": {
    "name": "ipython",
    "version": 3
   },
   "file_extension": ".py",
   "mimetype": "text/x-python",
   "name": "python",
   "nbconvert_exporter": "python",
   "pygments_lexer": "ipython3",
   "version": "3.8.8"
  }
 },
 "nbformat": 4,
 "nbformat_minor": 5
}
