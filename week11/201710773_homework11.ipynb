{
 "cells": [
  {
   "cell_type": "code",
   "execution_count": 322,
   "id": "83a0704e",
   "metadata": {},
   "outputs": [],
   "source": [
    "import findspark\n",
    "findspark.init()\n",
    "import pyspark\n",
    "myConf=pyspark.SparkConf()\n",
    "spark = pyspark.sql.SparkSession.builder\\\n",
    "    .master(\"local\")\\\n",
    "    .appName(\"myApp\")\\\n",
    "    .config(conf=myConf)\\\n",
    "    .getOrCreate()"
   ]
  },
  {
   "cell_type": "code",
   "execution_count": 333,
   "id": "ba5ed680",
   "metadata": {},
   "outputs": [],
   "source": [
    "from sklearn.datasets import make_blobs\n",
    "\n",
    "X, y = make_blobs(n_samples=100, centers=4, cluster_std=0.60, random_state=0)"
   ]
  },
  {
   "cell_type": "code",
   "execution_count": 334,
   "id": "57755523",
   "metadata": {},
   "outputs": [],
   "source": [
    "k = 4"
   ]
  },
  {
   "cell_type": "code",
   "execution_count": 335,
   "id": "9cd17ba8",
   "metadata": {},
   "outputs": [],
   "source": [
    "import numpy as np\n",
    "\n",
    "centroids = np.array([X[0],X[1],X[3],X[4]], dtype = float)"
   ]
  },
  {
   "cell_type": "code",
   "execution_count": 336,
   "id": "ebd71f35",
   "metadata": {
    "scrolled": true
   },
   "outputs": [],
   "source": [
    "row, col = X.shape"
   ]
  },
  {
   "cell_type": "code",
   "execution_count": 337,
   "id": "4333f2b1",
   "metadata": {
    "scrolled": true
   },
   "outputs": [],
   "source": [
    "clusterAssigned = np.zeros(shape = (row, k), dtype = float)"
   ]
  },
  {
   "cell_type": "code",
   "execution_count": 338,
   "id": "4539a660",
   "metadata": {},
   "outputs": [],
   "source": [
    "def normDist(x1, x2):\n",
    "    dist = np.linalg.norm(x1 - x2)\n",
    "    return dist"
   ]
  },
  {
   "cell_type": "code",
   "execution_count": 339,
   "id": "d7bb19b1",
   "metadata": {
    "scrolled": true
   },
   "outputs": [],
   "source": [
    "def cluster(x, y, k, centroids):\n",
    "    row, col = x.shape\n",
    "    clusterAssigned = np.zeros(shape=(row, col), dtype=float)\n",
    "    clusterUpdated=True\n",
    "    iter = 1\n",
    "    while(clusterUpdated):\n",
    "        #################################\n",
    "        ### changed for the homework #### \n",
    "        print(\"iter {} Centroids =\\n{}\".format(iter, centroids))\n",
    "        ### changed for the homework #### \n",
    "        #################################\n",
    "        for i in range(row):\n",
    "            minDist = np.inf  \n",
    "            minIndex = -1 \n",
    "            for j in range(k):\n",
    "                distJI = normDist(centroids[j], x[i])\n",
    "                if distJI < minDist:\n",
    "                    minDist = distJI\n",
    "                    minIndex = j\n",
    "            clusterAssigned[i] = [minIndex, minDist] \n",
    "        _centroids=np.zeros(shape = (k, x.shape[1]), dtype=float)\n",
    "        for cent in range(k):\n",
    "            _centroids[cent] = np.mean(x[clusterAssigned[:,0]==cent],axis=0)\n",
    "        comparison = np.equal(centroids, _centroids)\n",
    "        \n",
    "        #################################\n",
    "        #################################\n",
    "        ### changed for the homework #### \n",
    "        correction = np.zeros(shape = (row, 1), dtype = bool)\n",
    "        relation = np.zeros(shape = (k, 1), dtype = int)\n",
    "        \n",
    "        # y에 할당된 클러스터 넘버링과 clusterAssigned의 넘버링이 서로 다르므로 이를 보정함.\n",
    "        for i in range(k):\n",
    "            temp = np.zeros(shape = (k, 1), dtype = int)\n",
    "            for j in range(y.shape[0]):\n",
    "                if i==y[j]:\n",
    "                    cluster = int(clusterAssigned[j][0])\n",
    "                temp[cluster] += 1\n",
    "            relation[i] = np.argmax(temp)\n",
    "            \n",
    "        # 보정된 배열(relation)을 바탕으로 클러스터가 동일하게 배정되었는지 확인함.\n",
    "        for blob in range(y.shape[0]):\n",
    "            correction[blob] = (clusterAssigned[blob][0] == relation[y[blob]])\n",
    "        if False in correction:\n",
    "            cnt = 0\n",
    "            for i in range(len(correction)):\n",
    "                if correction[i] == False:\n",
    "                    cnt += 1\n",
    "            print(\"not correctly assigned : {} \\n\".format(cnt))\n",
    "        else :\n",
    "            print(\"all correctly assigned \\n\")\n",
    "        ### changed for the homework #### \n",
    "        #################################\n",
    "        #################################\n",
    "            \n",
    "        if(comparison.all() == True):\n",
    "            clusterUpdated = False\n",
    "            return centroids, clusterAssigned\n",
    "        else:\n",
    "            centroids = _centroids\n",
    "            iter += 1"
   ]
  },
  {
   "cell_type": "code",
   "execution_count": 340,
   "id": "0412678e",
   "metadata": {
    "scrolled": true
   },
   "outputs": [
    {
     "name": "stdout",
     "output_type": "stream",
     "text": [
      "iter 1 Centroids =\n",
      "[[ 0.669787    3.59540802]\n",
      " [-2.02396992  7.99569054]\n",
      " [ 1.06923853  4.53068484]\n",
      " [ 1.71444449  5.02521524]]\n",
      "not correctly assigned : 10 \n",
      "\n",
      "iter 2 Centroids =\n",
      "[[ 0.32236346  2.26329365]\n",
      " [-1.27208964  7.74944718]\n",
      " [ 0.78452776  4.5486942 ]\n",
      " [ 1.82769987  4.7971034 ]]\n",
      "not correctly assigned : 10 \n",
      "\n",
      "iter 3 Centroids =\n",
      "[[ 0.40318663  1.92930913]\n",
      " [-1.27208964  7.74944718]\n",
      " [ 0.32268897  4.29359399]\n",
      " [ 1.85082304  4.43985409]]\n",
      "not correctly assigned : 19 \n",
      "\n",
      "iter 4 Centroids =\n",
      "[[ 0.97564659  1.43530916]\n",
      " [-1.27208964  7.74944718]\n",
      " [-0.41097869  3.93110351]\n",
      " [ 1.57982688  4.39215911]]\n",
      "not correctly assigned : 8 \n",
      "\n",
      "iter 5 Centroids =\n",
      "[[ 1.97918933  0.97920012]\n",
      " [-1.27208964  7.74944718]\n",
      " [-1.0671867   3.41638534]\n",
      " [ 1.25665654  4.37698484]]\n",
      "not correctly assigned : 1 \n",
      "\n",
      "iter 6 Centroids =\n",
      "[[ 1.97918933  0.97920012]\n",
      " [-1.27208964  7.74944718]\n",
      " [-1.43468106  3.216216  ]\n",
      " [ 0.97698781  4.3136601 ]]\n",
      "not correctly assigned : 1 \n",
      "\n",
      "iter 7 Centroids =\n",
      "[[ 1.97918933  0.97920012]\n",
      " [-1.27208964  7.74944718]\n",
      " [-1.52704861  3.14337865]\n",
      " [ 0.87673717  4.2964758 ]]\n",
      "not correctly assigned : 1 \n",
      "\n"
     ]
    }
   ],
   "source": [
    "centroids, clusterAssigned = cluster(X, y, k, centroids)"
   ]
  },
  {
   "cell_type": "markdown",
   "id": "0a0ada68",
   "metadata": {},
   "source": [
    "#####※하나의 blob을 제외한 모든 blob이 정상적으로 클러스터링되었다."
   ]
  },
  {
   "cell_type": "code",
   "execution_count": 306,
   "id": "cbf97366",
   "metadata": {
    "scrolled": true
   },
   "outputs": [
    {
     "data": {
      "text/plain": [
       "<matplotlib.collections.PathCollection at 0x1b95d65f2b0>"
      ]
     },
     "execution_count": 306,
     "metadata": {},
     "output_type": "execute_result"
    },
    {
     "data": {
      "image/png": "[encoded data removed]",
      "text/plain": [
       "<Figure size 432x288 with 1 Axes>"
      ]
     },
     "metadata": {
      "needs_background": "light"
     },
     "output_type": "display_data"
    }
   ],
   "source": [
    "%matplotlib inline\n",
    "import matplotlib.pyplot as plt\n",
    "\n",
    "plt.scatter(X[:,0],X[:,1],color='blue')\n",
    "plt.scatter(centroids[:,0],centroids[:,1],color='red')"
   ]
  },
  {
   "cell_type": "code",
   "execution_count": null,
   "id": "76c2e6ff",
   "metadata": {},
   "outputs": [],
   "source": []
  }
 ],
 "metadata": {
  "kernelspec": {
   "display_name": "Python 3",
   "language": "python",
   "name": "python3"
  },
  "language_info": {
   "codemirror_mode": {
    "name": "ipython",
    "version": 3
   },
   "file_extension": ".py",
   "mimetype": "text/x-python",
   "name": "python",
   "nbconvert_exporter": "python",
   "pygments_lexer": "ipython3",
   "version": "3.8.8"
  }
 },
 "nbformat": 4,
 "nbformat_minor": 5
}
