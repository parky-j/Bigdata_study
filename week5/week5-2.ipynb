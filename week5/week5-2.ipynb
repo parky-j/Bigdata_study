{
 "cells": [
  {
   "cell_type": "markdown",
   "id": "78201365",
   "metadata": {},
   "source": [
    "# combineByKey\n",
    "### (파티션 처음 시작할 때, 같은 파티션 내에서, 다른 파티션 넘어갈 때)\n",
    "\n",
    "### 결과물은 이중 튜플 (key,(sum,count))\n",
    "\n",
    "#### combiner\n",
    "#### merge values\n",
    "#### merge combiner"
   ]
  },
  {
   "cell_type": "code",
   "execution_count": 1,
   "id": "2dc30a3b",
   "metadata": {},
   "outputs": [],
   "source": [
    "_testList=[(\"key1\",1),(\"key1\",3),(\"key2\",2),(\"key1\",2),(\"key2\",4),\n",
    "           (\"key1\",5),(\"key2\",6),\n",
    "           (\"key1\",7),(\"key1\",8),(\"key2\",9),(\"key2\",3)]"
   ]
  },
  {
   "cell_type": "code",
   "execution_count": 3,
   "id": "6f61dc3c",
   "metadata": {},
   "outputs": [],
   "source": [
    "import findspark\n",
    "findspark.init()\n",
    "import pyspark\n",
    "myConf=pyspark.SparkConf()\n",
    "spark = pyspark.sql.SparkSession.builder\\\n",
    "    .master(\"local\")\\\n",
    "    .appName(\"myApp\")\\\n",
    "    .config(conf=myConf)\\\n",
    "    .getOrCreate()"
   ]
  },
  {
   "cell_type": "markdown",
   "id": "d32df81b",
   "metadata": {},
   "source": [
    "## 파티션이 하나면 combine과 merge values가 함께 쓰임"
   ]
  },
  {
   "cell_type": "code",
   "execution_count": 4,
   "id": "222988ba",
   "metadata": {},
   "outputs": [],
   "source": [
    "_testRdd=spark.sparkContext.parallelize(_testList)"
   ]
  },
  {
   "cell_type": "code",
   "execution_count": 5,
   "id": "6de7a33b",
   "metadata": {},
   "outputs": [
    {
     "data": {
      "text/plain": [
       "1"
      ]
     },
     "execution_count": 5,
     "metadata": {},
     "output_type": "execute_result"
    }
   ],
   "source": [
    "_testRdd.getNumPartitions()"
   ]
  },
  {
   "cell_type": "code",
   "execution_count": 8,
   "id": "f95a8567",
   "metadata": {},
   "outputs": [
    {
     "data": {
      "text/plain": [
       "[('key1', '1*#3#2#5#7#8'), ('key2', '2*#4#6#9#3')]"
      ]
     },
     "execution_count": 8,
     "metadata": {},
     "output_type": "execute_result"
    }
   ],
   "source": [
    "_testRdd.combineByKey(lambda v : str(v)+\"*\",\\\n",
    "                      lambda c, v : c+\"#\"+str(v), lambda c1, c2 : c1+'&'+c2)\\\n",
    "                        .collect()"
   ]
  },
  {
   "cell_type": "markdown",
   "id": "dccdae2d",
   "metadata": {},
   "source": [
    "# 파티션 증가시켜 merge combiner"
   ]
  },
  {
   "cell_type": "code",
   "execution_count": 9,
   "id": "36695082",
   "metadata": {},
   "outputs": [],
   "source": [
    "_testRdd=spark.sparkContext.parallelize(_testList, 2)"
   ]
  },
  {
   "cell_type": "code",
   "execution_count": 10,
   "id": "860cf6b4",
   "metadata": {},
   "outputs": [
    {
     "name": "stdout",
     "output_type": "stream",
     "text": [
      "Partitions 0 -> [('key1', 1), ('key1', 3), ('key2', 2), ('key1', 2), ('key2', 4)]\n",
      "Partitions 1 -> [('key1', 5), ('key2', 6), ('key1', 7), ('key1', 8), ('key2', 9), ('key2', 3)]\n"
     ]
    }
   ],
   "source": [
    "partitions = _testRdd.glom().collect()\n",
    "for num, partition in enumerate(partitions):\n",
    "    print(f'Partitions {num} -> {partition}')"
   ]
  },
  {
   "cell_type": "code",
   "execution_count": 13,
   "id": "9114acaa",
   "metadata": {},
   "outputs": [
    {
     "data": {
      "text/plain": [
       "[('key1', '1*#3#2&5*#7#8'), ('key2', '2*#4&6*#9#3')]"
      ]
     },
     "execution_count": 13,
     "metadata": {},
     "output_type": "execute_result"
    }
   ],
   "source": [
    "_testRdd.combineByKey(lambda v : str(v)+\"*\", lambda c, v : c+\"#\"+str(v), lambda c1, c2 : c1+'&'+c2).collect()"
   ]
  },
  {
   "cell_type": "code",
   "execution_count": 14,
   "id": "f55a8c1e",
   "metadata": {},
   "outputs": [
    {
     "data": {
      "text/plain": [
       "[('key1', (26, 6)), ('key2', (24, 5))]"
      ]
     },
     "execution_count": 14,
     "metadata": {},
     "output_type": "execute_result"
    }
   ],
   "source": [
    "_testRdd.combineByKey(lambda value: (value,1),\n",
    "                     lambda x,value: (x[0]+value, x[1]+1),\n",
    "                     lambda x,y: (x[0]+y[0], x[1]+y[1])) \\\n",
    "        .collect()"
   ]
  },
  {
   "cell_type": "code",
   "execution_count": 15,
   "id": "1007a679",
   "metadata": {},
   "outputs": [],
   "source": [
    "_testCbkRdd=_testRdd.combineByKey(lambda value: (value,1),\n",
    "                     lambda x,value: (x[0]+value, x[1]+1),                      \n",
    "                     lambda x,y: (x[0]+y[0], x[1]+y[1]))"
   ]
  },
  {
   "cell_type": "code",
   "execution_count": 16,
   "id": "d9ea5960",
   "metadata": {},
   "outputs": [
    {
     "data": {
      "text/plain": [
       "{'key1': 4.333333333333333, 'key2': 4.8}"
      ]
     },
     "execution_count": 16,
     "metadata": {},
     "output_type": "execute_result"
    }
   ],
   "source": [
    "averageByKey = _testCbkRdd.map(lambda x:(x[0],x[1][0]/x[1][1]))\n",
    "averageByKey.collectAsMap()"
   ]
  },
  {
   "cell_type": "markdown",
   "id": "311d663b",
   "metadata": {},
   "source": [
    "# combineByKey 예제"
   ]
  },
  {
   "cell_type": "code",
   "execution_count": 18,
   "id": "e8c841c2",
   "metadata": {},
   "outputs": [],
   "source": [
    "marks = spark.sparkContext.parallelize([('kim',86),('lim',87),('kim',75),\n",
    "                                      ('kim',91),('lim',78),('lim',92),\n",
    "                                      ('lim',79),('lee',99)])"
   ]
  },
  {
   "cell_type": "code",
   "execution_count": 19,
   "id": "a1f73926",
   "metadata": {},
   "outputs": [],
   "source": [
    "marksByKey = marks.combineByKey(lambda value: (value,1),\n",
    "                             lambda x,value: (x[0]+value, x[1]+1),\n",
    "                             lambda x,y: (x[0]+y[0], x[1]+y[1]))"
   ]
  },
  {
   "cell_type": "code",
   "execution_count": 20,
   "id": "6c53f873",
   "metadata": {},
   "outputs": [
    {
     "data": {
      "text/plain": [
       "[('kim', (252, 3)), ('lim', (336, 4)), ('lee', (99, 1))]"
      ]
     },
     "execution_count": 20,
     "metadata": {},
     "output_type": "execute_result"
    }
   ],
   "source": [
    "marksByKey.collect()"
   ]
  },
  {
   "cell_type": "code",
   "execution_count": 21,
   "id": "4d25f033",
   "metadata": {},
   "outputs": [],
   "source": [
    "heights = spark.sparkContext.parallelize([\n",
    "        ('M',182.),('F',164.),('M',180.),('M',185.),('M',171.),('F',162.)\n",
    "    ])"
   ]
  },
  {
   "cell_type": "code",
   "execution_count": 27,
   "id": "668296a2",
   "metadata": {},
   "outputs": [],
   "source": [
    "heightsByKey = heights.combineByKey(lambda value: (value,1),\n",
    "                             lambda x,value: (x[0]+value, x[1]+1),\n",
    "                             lambda x,y: (x[0]+y[0], x[1]+y[1]))"
   ]
  },
  {
   "cell_type": "code",
   "execution_count": 28,
   "id": "ea0bef3d",
   "metadata": {},
   "outputs": [
    {
     "data": {
      "text/plain": [
       "[('M', (718.0, 4)), ('F', (326.0, 2))]"
      ]
     },
     "execution_count": 28,
     "metadata": {},
     "output_type": "execute_result"
    }
   ],
   "source": [
    "heightsByKey.collect()"
   ]
  },
  {
   "cell_type": "code",
   "execution_count": 29,
   "id": "aa011786",
   "metadata": {},
   "outputs": [
    {
     "name": "stdout",
     "output_type": "stream",
     "text": [
      "{'M': 179.5, 'F': 163.0}\n"
     ]
    }
   ],
   "source": [
    "avgByKey = heightsByKey.map(lambda x: (x[0],x[1][0]/x[1][1]))\n",
    "\n",
    "print (avgByKey.collectAsMap())"
   ]
  },
  {
   "cell_type": "code",
   "execution_count": null,
   "id": "cfe29a97",
   "metadata": {},
   "outputs": [],
   "source": []
  }
 ],
 "metadata": {
  "kernelspec": {
   "display_name": "Python 3",
   "language": "python",
   "name": "python3"
  },
  "language_info": {
   "codemirror_mode": {
    "name": "ipython",
    "version": 3
   },
   "file_extension": ".py",
   "mimetype": "text/x-python",
   "name": "python",
   "nbconvert_exporter": "python",
   "pygments_lexer": "ipython3",
   "version": "3.8.8"
  }
 },
 "nbformat": 4,
 "nbformat_minor": 5
}
