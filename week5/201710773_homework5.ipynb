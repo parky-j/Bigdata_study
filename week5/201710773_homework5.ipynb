{
 "cells": [
  {
   "cell_type": "code",
   "execution_count": 92,
   "metadata": {
    "colab": {
     "base_uri": "https://localhost:8080/"
    },
    "id": "PjWXOfIi6xBt",
    "outputId": "452bf502-2b90-45be-c72d-23424d0eeb62"
   },
   "outputs": [
    {
     "name": "stdout",
     "output_type": "stream",
     "text": [
      "Requirement already satisfied: findspark in /usr/local/lib/python3.7/dist-packages (1.4.2)\n"
     ]
    }
   ],
   "source": [
    "!apt-get install openjdk-11-jdk-headless -qq > /dev/null\n",
    "!wget -q https://downloads.apache.org/spark/spark-3.1.2/spark-3.1.2-bin-hadoop2.7.tgz\n",
    "!tar -xf spark-3.1.2-bin-hadoop2.7.tgz\n",
    "!pip install findspark\n",
    "\n",
    "import os\n",
    "os.environ[\"JAVA_HOME\"] = \"/usr/lib/jvm/java-11-openjdk-amd64\"\n",
    "os.environ[\"SPARK_HOME\"] = \"/content/spark-3.1.2-bin-hadoop2.7\"\n",
    "\n",
    "import findspark\n",
    "findspark.init()"
   ]
  },
  {
   "cell_type": "code",
   "execution_count": 93,
   "metadata": {
    "id": "kMmUW8hE6ztJ"
   },
   "outputs": [],
   "source": [
    "seongjeok=[('김하나','English',100),('김하나','Math',80),\n",
    "('임하나','English',70),('임하나','Math',100),\n",
    "('김갑돌','English',82.3),('김갑돌','Math',98.5)]"
   ]
  },
  {
   "cell_type": "code",
   "execution_count": 94,
   "metadata": {
    "id": "ibEbv2DD7FPh"
   },
   "outputs": [],
   "source": [
    "import pyspark\n",
    "myConf=pyspark.SparkConf()\n",
    "spark = pyspark.sql.SparkSession.builder\\\n",
    "    .master(\"local\")\\\n",
    "    .appName(\"myApp\")\\\n",
    "    .config(conf=myConf)\\\n",
    "    .getOrCreate()"
   ]
  },
  {
   "cell_type": "code",
   "execution_count": 95,
   "metadata": {
    "id": "oz5u1oea7JqT"
   },
   "outputs": [],
   "source": [
    "_seongjeokRdd = spark.sparkContext.parallelize(seongjeok)"
   ]
  },
  {
   "cell_type": "markdown",
   "metadata": {
    "id": "_DlgUObFCDa_"
   },
   "source": [
    "# Question1"
   ]
  },
  {
   "cell_type": "code",
   "execution_count": 96,
   "metadata": {
    "id": "XES0aO8P7SHR"
   },
   "outputs": [],
   "source": [
    "Q1 =_seongjeokRdd\\\n",
    "      .map(lambda x: (x[0],x[2]))\\\n",
    "      .reduceByKey(lambda x,y:x+y)\\\n",
    "      .collect()"
   ]
  },
  {
   "cell_type": "markdown",
   "metadata": {
    "id": "dX0B2_7MJADJ"
   },
   "source": [
    "# Question1 - Answer"
   ]
  },
  {
   "cell_type": "code",
   "execution_count": 97,
   "metadata": {
    "colab": {
     "base_uri": "https://localhost:8080/"
    },
    "id": "W1evJ2EW7TNY",
    "outputId": "cf79c86d-627d-4151-c551-646103543833"
   },
   "outputs": [
    {
     "name": "stdout",
     "output_type": "stream",
     "text": [
      "김하나 180\n",
      "임하나 170\n",
      "김갑돌 180.8\n"
     ]
    }
   ],
   "source": [
    "for i in Q1:\n",
    "  print (i[0], end=' ')\n",
    "  print (i[1])"
   ]
  },
  {
   "cell_type": "markdown",
   "metadata": {
    "id": "rN852C0BCAqa"
   },
   "source": [
    "# Question2"
   ]
  },
  {
   "cell_type": "code",
   "execution_count": 98,
   "metadata": {
    "id": "EyIEZ9oG7-mL"
   },
   "outputs": [],
   "source": [
    "Q2 = _seongjeokRdd\\\n",
    "    .map(lambda x: (x[1],x[2]))\\\n",
    "    .reduceByKey(lambda x,y:x+y)\\\n",
    "    .collect()"
   ]
  },
  {
   "cell_type": "markdown",
   "metadata": {
    "id": "uvaywMF4I-Lq"
   },
   "source": [
    "## Question2 - Answer"
   ]
  },
  {
   "cell_type": "code",
   "execution_count": 99,
   "metadata": {
    "colab": {
     "base_uri": "https://localhost:8080/"
    },
    "id": "7EAy2tjRB1LA",
    "outputId": "3fb99525-a012-44a6-f444-c14a64dcf28b"
   },
   "outputs": [
    {
     "name": "stdout",
     "output_type": "stream",
     "text": [
      "English 252.3\n",
      "Math 278.5\n"
     ]
    }
   ],
   "source": [
    "for i in Q2:\n",
    "  print (i[0], i[1])"
   ]
  },
  {
   "cell_type": "markdown",
   "metadata": {
    "id": "lZ_THWMjCK_T"
   },
   "source": [
    "# Question3"
   ]
  },
  {
   "cell_type": "code",
   "execution_count": 100,
   "metadata": {
    "id": "Dvelm3kvB5Ts"
   },
   "outputs": [],
   "source": [
    "_marks = _seongjeokRdd.map(lambda x: (x[0], x[2]))"
   ]
  },
  {
   "cell_type": "code",
   "execution_count": 101,
   "metadata": {
    "id": "j6f-HxvmCJue"
   },
   "outputs": [],
   "source": [
    "Q3 = _marks.combineByKey(lambda value: (value,1),\n",
    "                             lambda x,value: (x[0]+value, x[1]+1),\n",
    "                             lambda x,y: (x[0]+y[0], x[1]+y[1]))"
   ]
  },
  {
   "cell_type": "markdown",
   "metadata": {
    "id": "XO25rr-oI4fy"
   },
   "source": [
    "# Question3 - Answer"
   ]
  },
  {
   "cell_type": "code",
   "execution_count": 102,
   "metadata": {
    "colab": {
     "base_uri": "https://localhost:8080/"
    },
    "id": "_dseiEbPHNnP",
    "outputId": "3cef69e8-eb91-449c-9b6c-69fa0903f57e"
   },
   "outputs": [
    {
     "name": "stdout",
     "output_type": "stream",
     "text": [
      "김하나 (180, 2)\n",
      "임하나 (170, 2)\n",
      "김갑돌 (180.8, 2)\n"
     ]
    }
   ],
   "source": [
    "for i in Q3.collect():\n",
    "  print (i[0], i[1])"
   ]
  },
  {
   "cell_type": "markdown",
   "metadata": {
    "id": "Mxc5gI2-CNtS"
   },
   "source": [
    "# Question4"
   ]
  },
  {
   "cell_type": "code",
   "execution_count": 103,
   "metadata": {
    "id": "z4Iys97uDeKJ"
   },
   "outputs": [],
   "source": [
    "Q4 = Q3.map(lambda x: (x[0],x[1][0]/x[1][1]))"
   ]
  },
  {
   "cell_type": "markdown",
   "metadata": {
    "id": "0JNAK0wlI7z7"
   },
   "source": [
    "# Question4 - Answer"
   ]
  },
  {
   "cell_type": "code",
   "execution_count": 104,
   "metadata": {
    "colab": {
     "base_uri": "https://localhost:8080/"
    },
    "id": "2WjnVoY1GUDZ",
    "outputId": "3da71751-43a3-4d65-8af7-ead2151ee99f"
   },
   "outputs": [
    {
     "name": "stdout",
     "output_type": "stream",
     "text": [
      "김하나 90.0\n",
      "임하나 85.0\n",
      "김갑돌 90.4\n"
     ]
    }
   ],
   "source": [
    "for i in Q4.collect():\n",
    "  print (i[0], i[1])"
   ]
  },
  {
   "cell_type": "code",
   "execution_count": null,
   "metadata": {
    "id": "9zlswVjHISN5"
   },
   "outputs": [],
   "source": []
  }
 ],
 "metadata": {
  "colab": {
   "collapsed_sections": [],
   "name": "201710773_homework5.ipynb",
   "provenance": []
  },
  "kernelspec": {
   "display_name": "Python 3",
   "language": "python",
   "name": "python3"
  },
  "language_info": {
   "codemirror_mode": {
    "name": "ipython",
    "version": 3
   },
   "file_extension": ".py",
   "mimetype": "text/x-python",
   "name": "python",
   "nbconvert_exporter": "python",
   "pygments_lexer": "ipython3",
   "version": "3.8.8"
  }
 },
 "nbformat": 4,
 "nbformat_minor": 1
}
