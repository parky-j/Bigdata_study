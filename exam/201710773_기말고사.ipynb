{
 "cells": [
  {
   "cell_type": "markdown",
   "id": "be4e1494",
   "metadata": {},
   "source": [
    "## 201710773 박영제"
   ]
  },
  {
   "cell_type": "code",
   "execution_count": 150,
   "id": "b3a7cffe",
   "metadata": {},
   "outputs": [],
   "source": [
    "import findspark\n",
    "findspark.init()\n",
    "import pyspark\n",
    "myConf=pyspark.SparkConf()\n",
    "spark = pyspark.sql.SparkSession.builder\\\n",
    "    .master(\"local\")\\\n",
    "    .appName(\"myApp\")\\\n",
    "    .config(conf=myConf)\\\n",
    "    .getOrCreate()"
   ]
  },
  {
   "cell_type": "markdown",
   "id": "6778ec60",
   "metadata": {},
   "source": [
    "# 문제 1 시작"
   ]
  },
  {
   "cell_type": "markdown",
   "id": "80bcd5be",
   "metadata": {},
   "source": [
    "# 문제 1-1의 답"
   ]
  },
  {
   "cell_type": "code",
   "execution_count": 151,
   "id": "d3e63cb1",
   "metadata": {},
   "outputs": [],
   "source": [
    "import os\n",
    "from pyspark.sql import Row\n",
    "df = spark.read.csv(\"data/서울시 지하철 호선별 역별 유_무임 승하차 인원 정보.csv\", encoding='euc-kr', header='True')"
   ]
  },
  {
   "cell_type": "code",
   "execution_count": 152,
   "id": "0f180ff1",
   "metadata": {
    "scrolled": true
   },
   "outputs": [
    {
     "name": "stdout",
     "output_type": "stream",
     "text": [
      "root\n",
      " |-- 사용월: string (nullable = true)\n",
      " |-- 호선명: string (nullable = true)\n",
      " |-- 지하철역: string (nullable = true)\n",
      " |-- 유임승차인원: string (nullable = true)\n",
      " |-- 무임승차인원: string (nullable = true)\n",
      " |-- 유임하차인원: string (nullable = true)\n",
      " |-- 무임하차인원: string (nullable = true)\n",
      " |-- 작업일자: string (nullable = true)\n",
      "\n"
     ]
    }
   ],
   "source": [
    "df.printSchema()"
   ]
  },
  {
   "cell_type": "markdown",
   "id": "e5bf13db",
   "metadata": {},
   "source": [
    "#### 인원에 관련된 스키마의 내용들은 integer형으로 바뀌는 것이 옳기에 변환합니다."
   ]
  },
  {
   "cell_type": "code",
   "execution_count": 153,
   "id": "68a548b7",
   "metadata": {},
   "outputs": [],
   "source": [
    "from pyspark.sql.types import IntegerType\n",
    "\n",
    "df = df.withColumn('유임승차인원', df['유임승차인원'].cast(\"integer\"))\\\n",
    "        .withColumn('무임승차인원', df['무임승차인원'].cast(\"integer\"))\\\n",
    "        .withColumn('유임하차인원', df['유임하차인원'].cast(\"integer\"))\\\n",
    "        .withColumn('무임하차인원', df['무임하차인원'].cast(\"integer\"))"
   ]
  },
  {
   "cell_type": "code",
   "execution_count": 154,
   "id": "33600b07",
   "metadata": {},
   "outputs": [
    {
     "name": "stdout",
     "output_type": "stream",
     "text": [
      "root\n",
      " |-- 사용월: string (nullable = true)\n",
      " |-- 호선명: string (nullable = true)\n",
      " |-- 지하철역: string (nullable = true)\n",
      " |-- 유임승차인원: integer (nullable = true)\n",
      " |-- 무임승차인원: integer (nullable = true)\n",
      " |-- 유임하차인원: integer (nullable = true)\n",
      " |-- 무임하차인원: integer (nullable = true)\n",
      " |-- 작업일자: string (nullable = true)\n",
      "\n"
     ]
    }
   ],
   "source": [
    "df.printSchema()"
   ]
  },
  {
   "cell_type": "markdown",
   "id": "5da5ce32",
   "metadata": {},
   "source": [
    "# 문제 1-2의 답"
   ]
  },
  {
   "cell_type": "code",
   "execution_count": 155,
   "id": "2163df15",
   "metadata": {
    "scrolled": true
   },
   "outputs": [
    {
     "name": "stdout",
     "output_type": "stream",
     "text": [
      "데이터의 건수: 55171 개\n"
     ]
    }
   ],
   "source": [
    "print(\"데이터의 건수:\",df.count(),'개')"
   ]
  },
  {
   "cell_type": "markdown",
   "id": "c4989e2d",
   "metadata": {},
   "source": [
    "# 문제 1-3의 답"
   ]
  },
  {
   "cell_type": "code",
   "execution_count": 156,
   "id": "2f44f9c8",
   "metadata": {},
   "outputs": [],
   "source": [
    "from pyspark.sql import functions as F\n",
    "from pyspark.sql.window import Window\n",
    "\n",
    "win = Window.partitionBy(\"호선명\").orderBy(F.col(\"유임승차인원\").desc())"
   ]
  },
  {
   "cell_type": "code",
   "execution_count": 157,
   "id": "01e3a609",
   "metadata": {
    "scrolled": true
   },
   "outputs": [
    {
     "name": "stdout",
     "output_type": "stream",
     "text": [
      "+------+------+--------+------------+------------+------------+------------+--------+----+\n",
      "|사용월|호선명|지하철역|유임승차인원|무임승차인원|유임하차인원|무임하차인원|작업일자|rank|\n",
      "+------+------+--------+------------+------------+------------+------------+--------+----+\n",
      "|201605|일산선|    화정|      515925|      139163|      535460|      142410|20160608|   1|\n",
      "|201512|일산선|    화정|      508044|      136734|      529106|      139931|20160108|   2|\n",
      "|201603|일산선|    화정|      502144|      140596|      526030|      144088|20160408|   3|\n",
      "|201703|일산선|    화정|      499911|      141327|      529944|      145502|20170403|   4|\n",
      "|201510|일산선|    화정|      499388|      520595|      140545|      144148|20151108|   5|\n",
      "|201905|일산선|    화정|      499218|      149790|      520966|      152915|20190603|   6|\n",
      "|201612|일산선|    화정|      497514|      132807|      521734|      136086|20170108|   7|\n",
      "|201805|일산선|    화정|      494994|      139239|      515748|      142997|20180603|   8|\n",
      "|201610|일산선|    화정|      492146|      137462|      513849|      140303|20161108|   9|\n",
      "|201610|일산선|    화정|      492146|      137462|      513849|      140303|20161108|   9|\n",
      "|201912|일산선|    삼송|      491895|      100818|      457339|       99480|20200103|  11|\n",
      "|201712|일산선|    화정|      490937|      127978|      512966|      131552|20180103|  12|\n",
      "|201910|일산선|    화정|      490653|      151951|      508464|      155220|20191103|  13|\n",
      "|201705|일산선|    화정|      490644|      141492|      512873|      145412|20170603|  14|\n",
      "|201803|일산선|    화정|      489304|      137398|      514249|      141440|20180403|  15|\n",
      "|201803|일산선|    화정|      489304|      137398|      514249|      141440|20180403|  15|\n",
      "|201604|일산선|    화정|      485899|      135932|      507461|      139440|20160508|  17|\n",
      "|201709|일산선|    화정|      484872|      139874|      504092|      143148|20171003|  18|\n",
      "|201910|일산선|    삼송|      484643|      105885|      454354|      105185|20191103|  19|\n",
      "|201810|일산선|    화정|      484532|      139895|      509026|      143101|20181103|  20|\n",
      "|201911|일산선|    화정|      483740|      141225|      499920|      143929|20191203|  21|\n",
      "|201511|일산선|    화정|      482906|      505536|      128261|      131672|20151204|  22|\n",
      "|201611|일산선|    화정|      482740|      129876|      508266|      133286|20161208|  23|\n",
      "|201607|일산선|    화정|      482155|      131711|      502448|      134935|20160808|  24|\n",
      "|201811|일산선|    화정|      482071|      132358|      501768|      135435|20181203|  25|\n",
      "|201704|일산선|    화정|      480690|      137811|      502664|      141700|20170503|  26|\n",
      "|201911|일산선|    삼송|      480461|       99525|      450592|       98935|20191203|  27|\n",
      "|201912|일산선|    화정|      480423|      144255|      495808|      147011|20200103|  28|\n",
      "|201606|일산선|    화정|      480161|      134955|      498158|      137884|20160708|  29|\n",
      "|201711|일산선|    화정|      476604|      131931|      500377|      135554|20171203|  30|\n",
      "+------+------+--------+------------+------------+------------+------------+--------+----+\n",
      "only showing top 30 rows\n",
      "\n"
     ]
    }
   ],
   "source": [
    "from pyspark.sql.functions import rank\n",
    "\n",
    "rankDf = df.withColumn(\"rank\", rank().over(win))\n",
    "rankDf.show(30)"
   ]
  },
  {
   "cell_type": "markdown",
   "id": "6645d7e1",
   "metadata": {},
   "source": [
    "# 문제 1-4의 답"
   ]
  },
  {
   "cell_type": "code",
   "execution_count": 158,
   "id": "06438eb6",
   "metadata": {
    "scrolled": true
   },
   "outputs": [
    {
     "name": "stdout",
     "output_type": "stream",
     "text": [
      "+------+--------------+--------------------+------------+------------+------------+------------+--------+----+\n",
      "|사용월|        호선명|            지하철역|유임승차인원|무임승차인원|유임하차인원|무임하차인원|작업일자|rank|\n",
      "+------+--------------+--------------------+------------+------------+------------+------------+--------+----+\n",
      "|201605|        일산선|                화정|      515925|      139163|      535460|      142410|20160608|   1|\n",
      "|201905|        장항선|                아산|      109243|       12901|       93737|       11808|20190603|   1|\n",
      "|201512|        경부선|              영등포|     1439049|      280623|     1545631|      280969|20160108|   1|\n",
      "|201905|    우이신설선|        북한산보국문|      161867|       45041|      141742|       45814|20190603|   1|\n",
      "|201512|        분당선|                야탑|      769442|      157846|      809197|      156034|20160108|   1|\n",
      "|201512|         7호선|      가산디지털단지|     1245731|       82588|     1243464|       78424|20160108|   1|\n",
      "|201905|        수인선|              인하대|      200474|       28246|      189885|       26442|20190603|   1|\n",
      "|201603|        안산선|              상록수|      632180|       89801|      619361|       90941|20160408|   1|\n",
      "|201512|         4호선|                혜화|     1461258|      138010|     1521596|      138133|20160108|   1|\n",
      "|201501|         1호선|              서울역|     1890411|     1667163|      238403|      220008|20150206|   1|\n",
      "|201703|        경의선|                일산|      257203|       59955|      247634|       60582|20170403|   1|\n",
      "|201712|         3호선|          고속터미널|     1843154|      200178|     1760221|      189058|20180103|   1|\n",
      "|201910|        경강선|            경기광주|      201936|       32028|      186835|       32156|20191103|   1|\n",
      "|201905|        경춘선|            평내호평|      155530|       47748|      155068|       45489|20190603|   1|\n",
      "|201912|         9호선|              신논현|     1063535|       65383|     1095786|       62732|20200103|   1|\n",
      "|201807|    9호선2단계|              봉은사|      452395|       43126|      434135|       40845|20180803|   1|\n",
      "|201710|         6호선|              이태원|      580419|       36941|      680830|       38853|20171103|   1|\n",
      "|201612|         5호선|광화문(세종문화회관)|     1328714|      109907|     1404285|      115604|20170108|   1|\n",
      "|201907|         8호선|                문정|      542664|       57243|      566478|       56677|20190803|   1|\n",
      "|201907|         8호선|                문정|      542664|       57243|      566478|       56677|20190803|   1|\n",
      "|201907|         8호선|                문정|      542664|       57243|      566478|       56677|20190803|   1|\n",
      "|201512|        과천선|                범계|      916951|      111589|      919452|      110456|20160108|   1|\n",
      "|201603|        경인선|                부천|     1173740|      212425|     1160226|      212450|20160408|   1|\n",
      "|201603|        중앙선|                회기|      914516|      135656|      900142|      135321|20160408|   1|\n",
      "|201912|  9호선2~3단계|              봉은사|      613139|       56618|      632524|       53899|20200103|   1|\n",
      "|201501|         2호선|                강남|     3266271|     3353256|      164508|      149186|20150206|   1|\n",
      "|201708|공항철도 1호선|        인천국제공항|      545461|       59577|      508252|       57008|20170903|   1|\n",
      "|201605|        경원선|              의정부|      626917|      130279|      662652|      131349|20160608|   1|\n",
      "+------+--------------+--------------------+------------+------------+------------+------------+--------+----+\n",
      "\n"
     ]
    }
   ],
   "source": [
    "rankDf.filter(rankDf['rank'] == 1).show(30)"
   ]
  },
  {
   "cell_type": "markdown",
   "id": "2c217662",
   "metadata": {},
   "source": [
    "# 문제 1-5의 답"
   ]
  },
  {
   "cell_type": "code",
   "execution_count": 159,
   "id": "5f2c1768",
   "metadata": {},
   "outputs": [],
   "source": [
    "from pyspark.sql.window import Window\n",
    "\n",
    "byLineAvg = Window.partitionBy('호선명')\n",
    "rankDf = rankDf.withColumn(\"meanByLine\", F.avg(rankDf['유임승차인원']).over(byLineAvg))"
   ]
  },
  {
   "cell_type": "code",
   "execution_count": 160,
   "id": "95d2fdce",
   "metadata": {},
   "outputs": [],
   "source": [
    "from pyspark.sql.window import Window\n",
    "\n",
    "byLineStd = Window.partitionBy('호선명')\n",
    "rankDf = rankDf.withColumn(\"sdByLine\", F.stddev(rankDf['유임승차인원']).over(byLineStd))"
   ]
  },
  {
   "cell_type": "code",
   "execution_count": 161,
   "id": "a740a698",
   "metadata": {},
   "outputs": [],
   "source": [
    "rankDf = rankDf.withColumn(\"zscore\", (F.col('유임승차인원')-F.col('meanByLine'))/F.col('sdByLine'))"
   ]
  },
  {
   "cell_type": "code",
   "execution_count": 162,
   "id": "4eb6b41b",
   "metadata": {
    "scrolled": true
   },
   "outputs": [
    {
     "name": "stdout",
     "output_type": "stream",
     "text": [
      "+------+------------+------------------+------------------+--------------------+\n",
      "|호선명|유임승차인원|        meanByLine|          sdByLine|              zscore|\n",
      "+------+------------+------------------+------------------+--------------------+\n",
      "|일산선|      237714|231630.21716649432|127730.48519577553| 0.04762984203951724|\n",
      "|일산선|      363144|231630.21716649432|127730.48519577553|  1.0296193788971475|\n",
      "|일산선|      294566|231630.21716649432|127730.48519577553|  0.4927232738295993|\n",
      "|일산선|      208122|231630.21716649432|127730.48519577553|-0.18404546988499038|\n",
      "|일산선|      237249|231630.21716649432|127730.48519577553|0.043989364206153625|\n",
      "|일산선|      159355|231630.21716649432|127730.48519577553| -0.5658415612820729|\n",
      "|일산선|           7|231630.21716649432|127730.48519577553|  -1.813374597391374|\n",
      "|일산선|      171040|231630.21716649432|127730.48519577553|-0.47435987637270977|\n",
      "|일산선|      147292|231630.21716649432|127730.48519577553| -0.6602826023656541|\n",
      "|일산선|      432339|231630.21716649432|127730.48519577553|  1.5713459674554167|\n",
      "|일산선|       42372|231630.21716649432|127730.48519577553| -1.4816996653258914|\n",
      "|일산선|      343473|231630.21716649432|127730.48519577553|  0.8756154230689848|\n",
      "|일산선|      135812|231630.21716649432|127730.48519577553|  -0.750159345434502|\n",
      "|일산선|      404768|231630.21716649432|127730.48519577553|   1.355493033383012|\n",
      "|일산선|      222777|231630.21716649432|127730.48519577553|-0.06931170074962748|\n",
      "|일산선|      159601|231630.21716649432|127730.48519577553| -0.5639156310734547|\n",
      "|일산선|      153303|231630.21716649432|127730.48519577553|  -0.613222576007915|\n",
      "|일산선|       38762|231630.21716649432|127730.48519577553| -1.5099622996881334|\n",
      "|일산선|      264900|231630.21716649432|127730.48519577553|  0.2604686170455886|\n",
      "|일산선|      196096|231630.21716649432|127730.48519577553| -0.2781968385388201|\n",
      "+------+------------+------------------+------------------+--------------------+\n",
      "only showing top 20 rows\n",
      "\n"
     ]
    }
   ],
   "source": [
    "rankDf.select('호선명','유임승차인원','meanByLine','sdByLine','zscore').show()"
   ]
  },
  {
   "cell_type": "markdown",
   "id": "4249c198",
   "metadata": {},
   "source": [
    "# 문제 2 시작"
   ]
  },
  {
   "cell_type": "code",
   "execution_count": 163,
   "id": "b98668a9",
   "metadata": {},
   "outputs": [],
   "source": [
    "from sklearn.datasets import make_regression\n",
    "X, y, coef = make_regression(n_samples = 200,\n",
    "                            n_features = 4,\n",
    "                            n_informative = 3,\n",
    "                            n_targets = 1,\n",
    "                            noise = 0.0,\n",
    "                            coef = True)"
   ]
  },
  {
   "cell_type": "markdown",
   "id": "0d453918",
   "metadata": {},
   "source": [
    "# 문제 2-1의 답"
   ]
  },
  {
   "cell_type": "code",
   "execution_count": 164,
   "id": "5ae0b345",
   "metadata": {},
   "outputs": [],
   "source": [
    "def gradientDescent(x,y,theta,alpha,numIterations):\n",
    "    for i in range(numIterations):\n",
    "        h = np.dot(x,theta)\n",
    "        error = h-y\n",
    "        cost = np.sum((h-y)**2)/len(x)\n",
    "        gradient = np.dot(x.T,error)*2/len(x)\n",
    "        theta -= alpha*gradient\n",
    "\n",
    "    return theta"
   ]
  },
  {
   "cell_type": "code",
   "execution_count": 165,
   "id": "a1f10b1f",
   "metadata": {},
   "outputs": [],
   "source": [
    "import numpy as np\n",
    "\n",
    "alpha = 0.01\n",
    "theta = np.array(np.ones([X.shape[1]]))"
   ]
  },
  {
   "cell_type": "code",
   "execution_count": 166,
   "id": "4315f87c",
   "metadata": {
    "scrolled": true
   },
   "outputs": [],
   "source": [
    "w4,w3,w2,w1 = gradientDescent(X, y, theta, alpha, 700)"
   ]
  },
  {
   "cell_type": "markdown",
   "id": "6b2bd329",
   "metadata": {},
   "source": [
    "##### gradient방법에서 도출된 계수와 거의 일치한다."
   ]
  },
  {
   "cell_type": "code",
   "execution_count": 231,
   "id": "dae8c06b",
   "metadata": {},
   "outputs": [
    {
     "name": "stdout",
     "output_type": "stream",
     "text": [
      "예측: [23.418167691851977, 38.87142850570739, 90.57174195549767, -3.3659664431461196e-05]\n",
      "coef: [23.41820526 38.87122219 90.57197391  0.        ]\n"
     ]
    }
   ],
   "source": [
    "print(\"예측:\",[w4,w3,w2,w1])\n",
    "print(\"coef:\",coef)"
   ]
  },
  {
   "cell_type": "markdown",
   "id": "e30e80bb",
   "metadata": {},
   "source": [
    "# 문제 2-2의 답"
   ]
  },
  {
   "cell_type": "code",
   "execution_count": 168,
   "id": "307fd94c",
   "metadata": {},
   "outputs": [],
   "source": [
    "import pandas as pd\n",
    "\n",
    "pdDf = pd.DataFrame(X)\n",
    "pdDf['y'] = y\n",
    "\n",
    "blobDf = spark.createDataFrame(pdDf)"
   ]
  },
  {
   "cell_type": "code",
   "execution_count": 169,
   "id": "c1bb8ff8",
   "metadata": {},
   "outputs": [],
   "source": [
    "blobDf = blobDf.withColumnRenamed(\"0\", \"x0\")\\\n",
    "            .withColumnRenamed(\"1\", \"x1\")\\\n",
    "            .withColumnRenamed(\"2\", \"x2\")\\\n",
    "            .withColumnRenamed(\"3\", \"x3\")"
   ]
  },
  {
   "cell_type": "code",
   "execution_count": 170,
   "id": "712e86d8",
   "metadata": {
    "scrolled": true
   },
   "outputs": [
    {
     "name": "stdout",
     "output_type": "stream",
     "text": [
      "+-------------------+-------------------+--------------------+--------------------+--------------------+\n",
      "|                 x0|                 x1|                  x2|                  x3|                   y|\n",
      "+-------------------+-------------------+--------------------+--------------------+--------------------+\n",
      "| 0.2753910465802733|-0.8487638481871769|  -0.557176224337695| -0.3194524092805922|  -77.00787452397248|\n",
      "|-0.4658141225995953| 0.5329100256157533|-0.10820307490851391|  2.6149614406286954|0.006167200099902459|\n",
      "|  1.803468753210042|  -1.15035394953932|  0.8238924292175069| -1.0761875535398011|   72.13990106867794|\n",
      "|-1.0172023083449973| 2.1470439547868327| 0.24514767635212772|0.030462558894281795|   81.84067911303453|\n",
      "|0.40062162494063036|-2.0473291598843635|  -0.331745609630397| 0.43782995658782975|  -100.2472019185588|\n",
      "|-0.7191901671560752| 1.8486926681409195|  1.0934616552337013| -0.8600628180408383|  154.05578101035226|\n",
      "|-1.6977719297243352| 1.3509634860123205| -0.3028378475969654|  0.4928042135590237| -14.673791326512031|\n",
      "|-1.1574209876093482| 1.3536611622694104|  2.4310503431487325|  0.7017397362897184|  245.69876979257188|\n",
      "|-1.6139591070970178|0.18384940336512165|   2.192933211118946|   0.658822485112664|   167.9687149384996|\n",
      "| 2.6011571564253013| 0.6791413813971726|  1.3692680811163507|  1.3819000212051022|   211.3308006348901|\n",
      "+-------------------+-------------------+--------------------+--------------------+--------------------+\n",
      "only showing top 10 rows\n",
      "\n"
     ]
    }
   ],
   "source": [
    "blobDf.show(10)"
   ]
  },
  {
   "cell_type": "markdown",
   "id": "87dff153",
   "metadata": {},
   "source": [
    "# 문제 2-3의 답"
   ]
  },
  {
   "cell_type": "code",
   "execution_count": 171,
   "id": "1e60b862",
   "metadata": {},
   "outputs": [],
   "source": [
    "(trainDf, testDf) = blobDf.randomSplit([0.6, 0.4])"
   ]
  },
  {
   "cell_type": "markdown",
   "id": "7a78411a",
   "metadata": {},
   "source": [
    "# 문제 2-4의 답"
   ]
  },
  {
   "cell_type": "code",
   "execution_count": 172,
   "id": "dc2a22a1",
   "metadata": {},
   "outputs": [],
   "source": [
    "from pyspark.ml.feature import VectorAssembler\n",
    "\n",
    "va = VectorAssembler(inputCols = [\"x0\",\"x1\",\"x2\",\"x3\"],\n",
    "                                   outputCol = 'features')"
   ]
  },
  {
   "cell_type": "code",
   "execution_count": 173,
   "id": "0d15d1d9",
   "metadata": {},
   "outputs": [],
   "source": [
    "from pyspark.ml.regression import LinearRegression\n",
    "\n",
    "lr = LinearRegression(featuresCol = 'features', labelCol='y')"
   ]
  },
  {
   "cell_type": "code",
   "execution_count": 174,
   "id": "8edde23f",
   "metadata": {},
   "outputs": [],
   "source": [
    "from pyspark.ml import Pipeline\n",
    "\n",
    "pipeline = Pipeline(stages=[va,lr])"
   ]
  },
  {
   "cell_type": "code",
   "execution_count": 175,
   "id": "0220b0f3",
   "metadata": {},
   "outputs": [],
   "source": [
    "model = pipeline.fit(trainDf)\n",
    "modelTrainDf = model.transform(trainDf)"
   ]
  },
  {
   "cell_type": "code",
   "execution_count": 176,
   "id": "c20dc0f1",
   "metadata": {
    "scrolled": true
   },
   "outputs": [
    {
     "name": "stdout",
     "output_type": "stream",
     "text": [
      "Coefficients: [23.418205255034245,38.87122218622474,90.5719739058417,-2.828151260420349e-15]\n",
      "Intercept: 0.000\n"
     ]
    }
   ],
   "source": [
    "print(\"Coefficients: {}\".format(model.stages[-1].coefficients))\n",
    "print(\"Intercept: {:.3f}\".format(model.stages[-1].intercept))"
   ]
  },
  {
   "cell_type": "code",
   "execution_count": 177,
   "id": "2fc81a7c",
   "metadata": {
    "scrolled": false
   },
   "outputs": [
    {
     "name": "stdout",
     "output_type": "stream",
     "text": [
      "+-------------------+-------------------+\n",
      "|                  y|         prediction|\n",
      "+-------------------+-------------------+\n",
      "|  7.046728285491227|  7.046728285491198|\n",
      "|  -27.9954281589948|-27.995428158994816|\n",
      "|-177.76934902525045|-177.76934902525045|\n",
      "| 100.97338403058319| 100.97338403058316|\n",
      "|-127.46347435194868|-127.46347435194868|\n",
      "|  9.105928376291153|  9.105928376291137|\n",
      "| -141.6916514438945| -141.6916514438945|\n",
      "| 2.1285910974660993|  2.128591097466094|\n",
      "|-161.38637560475334| -161.3863756047533|\n",
      "| 17.714584312858655| 17.714584312858644|\n",
      "+-------------------+-------------------+\n",
      "only showing top 10 rows\n",
      "\n"
     ]
    }
   ],
   "source": [
    "modelTrainDf.select('y','prediction').show(10)"
   ]
  },
  {
   "cell_type": "markdown",
   "id": "5c2484e5",
   "metadata": {},
   "source": [
    "# 문제 2-5의 답"
   ]
  },
  {
   "cell_type": "code",
   "execution_count": 178,
   "id": "c8f34088",
   "metadata": {},
   "outputs": [],
   "source": [
    "modelTestDf = model.transform(testDf)"
   ]
  },
  {
   "cell_type": "code",
   "execution_count": 179,
   "id": "0cd4236d",
   "metadata": {},
   "outputs": [],
   "source": [
    "from pyspark.ml.evaluation import RegressionEvaluator\n",
    "\n",
    "evaluator = RegressionEvaluator(labelCol=\"y\", predictionCol=\"prediction\", metricName=\"r2\")"
   ]
  },
  {
   "cell_type": "code",
   "execution_count": 180,
   "id": "85bbd449",
   "metadata": {},
   "outputs": [
    {
     "name": "stdout",
     "output_type": "stream",
     "text": [
      "r2: 1.0\n"
     ]
    }
   ],
   "source": [
    "print(\"r2:\",evaluator.evaluate(modelTestDf))"
   ]
  },
  {
   "cell_type": "markdown",
   "id": "27925779",
   "metadata": {},
   "source": [
    "# 문제 3 시작"
   ]
  },
  {
   "cell_type": "markdown",
   "id": "66463735",
   "metadata": {},
   "source": [
    "# 문제 3-1 답"
   ]
  },
  {
   "cell_type": "markdown",
   "id": "b847a2f8",
   "metadata": {},
   "source": [
    "##### 파일 작성 시, 긍정은 1, 부정은 0으로 하여 레이블링 했습니다."
   ]
  },
  {
   "cell_type": "code",
   "execution_count": 227,
   "id": "dc0ee9de",
   "metadata": {
    "scrolled": true
   },
   "outputs": [],
   "source": [
    "import os\n",
    "spiderDf = spark\\\n",
    "        .read\\\n",
    "        .options(header='false', inferschema='true', delimiter='\\t')\\\n",
    "        .csv(os.path.join('data', 'spiderman.txt'))"
   ]
  },
  {
   "cell_type": "code",
   "execution_count": 228,
   "id": "cb0b00f5",
   "metadata": {
    "scrolled": true
   },
   "outputs": [
    {
     "name": "stdout",
     "output_type": "stream",
     "text": [
      "root\n",
      " |-- _c0: string (nullable = true)\n",
      " |-- _c1: double (nullable = true)\n",
      "\n"
     ]
    }
   ],
   "source": [
    "spiderDf.printSchema()"
   ]
  },
  {
   "cell_type": "code",
   "execution_count": 229,
   "id": "edbe6cab",
   "metadata": {
    "scrolled": true
   },
   "outputs": [],
   "source": [
    "spiderDf = spiderDf.withColumnRenamed(\"_c0\", \"review\")\\\n",
    "                    .withColumnRenamed(\"_c1\", \"label\")"
   ]
  },
  {
   "cell_type": "code",
   "execution_count": 230,
   "id": "4ee28ee1",
   "metadata": {
    "scrolled": true
   },
   "outputs": [
    {
     "name": "stdout",
     "output_type": "stream",
     "text": [
      "+----------------------------------+-----+\n",
      "|                            review|label|\n",
      "+----------------------------------+-----+\n",
      "|고구마 먹은 영화 유치해서 못보겠다|  0.0|\n",
      "|  노잼이네요.. 왜 배우들이 출연...|  0.0|\n",
      "|   제발 뻘짓 좀 그만하셨으면......|  0.0|\n",
      "|         스토리가 매우 매우 아쉽다|  0.0|\n",
      "|             영화 약간 이해가 안됨|  0.0|\n",
      "|좋아하는 배우들인데 최근 영화라...|  0.0|\n",
      "| 그지같네 도대체 이 따위 영화를...|  0.0|\n",
      "|  스크린보다 시계를 더 많이 봄....|  0.0|\n",
      "| 이때까지 본 영화중에 제일 최악...|  0.0|\n",
      "|    나만 짜증.. 줄거리 한줄평.....|  0.0|\n",
      "+----------------------------------+-----+\n",
      "only showing top 10 rows\n",
      "\n"
     ]
    }
   ],
   "source": [
    "spiderDf.show(10)"
   ]
  },
  {
   "cell_type": "markdown",
   "id": "ca82ee3e",
   "metadata": {},
   "source": [
    "# 문제 3-2의 답"
   ]
  },
  {
   "cell_type": "code",
   "execution_count": 185,
   "id": "6979c584",
   "metadata": {},
   "outputs": [],
   "source": [
    "from pyspark.ml.feature import Tokenizer\n",
    "\n",
    "tokenizer = Tokenizer(inputCol=\"review\", outputCol=\"tokens\")\n",
    "tokDf = tokenizer.transform(spiderDf)"
   ]
  },
  {
   "cell_type": "markdown",
   "id": "2a604f40",
   "metadata": {},
   "source": [
    "#### 불필요 단어 제거"
   ]
  },
  {
   "cell_type": "code",
   "execution_count": 186,
   "id": "218050ed",
   "metadata": {},
   "outputs": [],
   "source": [
    "def RemoveUselessWords(wordList):\n",
    "    removed=list()\n",
    "    \n",
    "    for w in wordList:\n",
    "        removed.append(w.replace(\"!\",\"\").replace(\".\",\"\").replace(\"..\",\"\").replace('...',\"\").replace('....',\"\").replace(\",\",\"\").replace('ㅋ',\"\").replace('ㄹㅇ',\"\").replace(' ',\"\").replace('ㅠ',\"\"))\n",
    "                       \n",
    "    return removed"
   ]
  },
  {
   "cell_type": "code",
   "execution_count": 187,
   "id": "58f0ab3a",
   "metadata": {},
   "outputs": [],
   "source": [
    "from pyspark.sql import functions as f\n",
    "from pyspark.sql.types import ArrayType, StringType\n",
    "\n",
    "removeUdf=f.udf(RemoveUselessWords, ArrayType(StringType()))"
   ]
  },
  {
   "cell_type": "code",
   "execution_count": 188,
   "id": "3dbb8e0d",
   "metadata": {},
   "outputs": [],
   "source": [
    "wordsDf = tokDf.withColumn('words', removeUdf(f.col('tokens')))"
   ]
  },
  {
   "cell_type": "code",
   "execution_count": 189,
   "id": "bb328182",
   "metadata": {
    "scrolled": true
   },
   "outputs": [
    {
     "name": "stdout",
     "output_type": "stream",
     "text": [
      "+----------------------------------+-----+------------------------------+------------------------------+\n",
      "|                            review|label|                        tokens|                         words|\n",
      "+----------------------------------+-----+------------------------------+------------------------------+\n",
      "|고구마 먹은 영화 유치해서 못보겠다|  0.0|[고구마, 먹은, 영화, 유치해...|[고구마, 먹은, 영화, 유치해...|\n",
      "|  노잼이네요.. 왜 배우들이 출연...|  0.0|[노잼이네요.., 왜, 배우들이...|[노잼이네요, 왜, 배우들이, ...|\n",
      "|   제발 뻘짓 좀 그만하셨으면......|  0.0|[제발, 뻘짓, 좀, 그만하셨으...|[제발, 뻘짓, 좀, 그만하셨으...|\n",
      "|         스토리가 매우 매우 아쉽다|  0.0|[스토리가, 매우, 매우, 아쉽다]|[스토리가, 매우, 매우, 아쉽다]|\n",
      "|             영화 약간 이해가 안됨|  0.0|    [영화, 약간, 이해가, 안됨]|    [영화, 약간, 이해가, 안됨]|\n",
      "+----------------------------------+-----+------------------------------+------------------------------+\n",
      "only showing top 5 rows\n",
      "\n"
     ]
    }
   ],
   "source": [
    "wordsDf.show(5)"
   ]
  },
  {
   "cell_type": "markdown",
   "id": "3c024ee6",
   "metadata": {},
   "source": [
    "#### 불용어 제거"
   ]
  },
  {
   "cell_type": "code",
   "execution_count": 190,
   "id": "9d83efa7",
   "metadata": {},
   "outputs": [],
   "source": [
    "stopwords = ['그', '수', '본', '등', '때', '걸', '다', '게', '날', '짱', '거', '중', '더', '넘', '두', '달', '올', '뻔', '단', '개', '듯']"
   ]
  },
  {
   "cell_type": "code",
   "execution_count": 191,
   "id": "092e89f4",
   "metadata": {},
   "outputs": [],
   "source": [
    "from pyspark.ml.feature import StopWordsRemover\n",
    "\n",
    "stop = StopWordsRemover(inputCol=\"words\", outputCol=\"nostops\")"
   ]
  },
  {
   "cell_type": "code",
   "execution_count": 192,
   "id": "f8bc5b72",
   "metadata": {},
   "outputs": [
    {
     "data": {
      "text/plain": [
       "StopWordsRemover_1afe127dddcd"
      ]
     },
     "execution_count": 192,
     "metadata": {},
     "output_type": "execute_result"
    }
   ],
   "source": [
    "stop.setStopWords(stopwords)"
   ]
  },
  {
   "cell_type": "code",
   "execution_count": 193,
   "id": "cb35d65f",
   "metadata": {
    "scrolled": false
   },
   "outputs": [
    {
     "name": "stdout",
     "output_type": "stream",
     "text": [
      "+---------------------------------------------------+--------------------------------------------------------+\n",
      "|review                                             |nostops                                                 |\n",
      "+---------------------------------------------------+--------------------------------------------------------+\n",
      "|고구마 먹은 영화 유치해서 못보겠다                 |[고구마, 먹은, 영화, 유치해서, 못보겠다]                |\n",
      "|노잼이네요.. 왜 배우들이 출연했는지 이해가 잘 안됨 |[노잼이네요, 왜, 배우들이, 출연했는지, 이해가, 잘, 안됨]|\n",
      "|제발 뻘짓 좀 그만하셨으면.... 이건 여러모로 낭비다.|[제발, 뻘짓, 좀, 그만하셨으면, 이건, 여러모로, 낭비다]  |\n",
      "|스토리가 매우 매우 아쉽다                          |[스토리가, 매우, 매우, 아쉽다]                          |\n",
      "|영화 약간 이해가 안됨                              |[영화, 약간, 이해가, 안됨]                              |\n",
      "+---------------------------------------------------+--------------------------------------------------------+\n",
      "only showing top 5 rows\n",
      "\n"
     ]
    }
   ],
   "source": [
    "stopDf=stop.transform(wordsDf)\n",
    "stopDf.select('review','nostops').show(5, truncate=False)"
   ]
  },
  {
   "cell_type": "markdown",
   "id": "0efce1c4",
   "metadata": {},
   "source": [
    "# 문제 3-3의 답"
   ]
  },
  {
   "cell_type": "code",
   "execution_count": 194,
   "id": "d7b07614",
   "metadata": {},
   "outputs": [],
   "source": [
    "from pyspark.ml.feature import HashingTF, IDF\n",
    "\n",
    "hashTF = HashingTF(inputCol=\"nostops\", outputCol=\"hash\")"
   ]
  },
  {
   "cell_type": "code",
   "execution_count": 195,
   "id": "bdf6109d",
   "metadata": {},
   "outputs": [],
   "source": [
    "hashDf = hashTF.transform(stopDf)"
   ]
  },
  {
   "cell_type": "code",
   "execution_count": 196,
   "id": "dae94eb0",
   "metadata": {},
   "outputs": [],
   "source": [
    "idf = IDF(inputCol=\"hash\", outputCol=\"idf\")"
   ]
  },
  {
   "cell_type": "code",
   "execution_count": 197,
   "id": "74040978",
   "metadata": {},
   "outputs": [],
   "source": [
    "idfModel = idf.fit(hashDf)"
   ]
  },
  {
   "cell_type": "code",
   "execution_count": 198,
   "id": "2a71df9f",
   "metadata": {},
   "outputs": [],
   "source": [
    "idfDf = idfModel.transform(hashDf)"
   ]
  },
  {
   "cell_type": "code",
   "execution_count": 218,
   "id": "16d3802d",
   "metadata": {
    "scrolled": true
   },
   "outputs": [
    {
     "name": "stdout",
     "output_type": "stream",
     "text": [
      "+----------------------------------+--------------------+\n",
      "|                            review|                 idf|\n",
      "+----------------------------------+--------------------+\n",
      "|고구마 먹은 영화 유치해서 못보겠다|(262144,[114067,1...|\n",
      "|  노잼이네요.. 왜 배우들이 출연...|(262144,[14123,77...|\n",
      "|   제발 뻘짓 좀 그만하셨으면......|(262144,[24759,45...|\n",
      "|         스토리가 매우 매우 아쉽다|(262144,[8121,118...|\n",
      "|             영화 약간 이해가 안됨|(262144,[35471,10...|\n",
      "+----------------------------------+--------------------+\n",
      "only showing top 5 rows\n",
      "\n"
     ]
    }
   ],
   "source": [
    "idfDf.select('review','idf').show(5)"
   ]
  },
  {
   "cell_type": "markdown",
   "id": "06a1ead5",
   "metadata": {},
   "source": [
    "# 문제 3-4의 답"
   ]
  },
  {
   "cell_type": "code",
   "execution_count": 200,
   "id": "07ef4e17",
   "metadata": {},
   "outputs": [],
   "source": [
    "from pyspark.ml.classification import NaiveBayes\n",
    "\n",
    "nb = NaiveBayes(featuresCol='hash', labelCol='label', modelType='multinomial', predictionCol='prediction',smoothing=1.0)"
   ]
  },
  {
   "cell_type": "code",
   "execution_count": 201,
   "id": "12885221",
   "metadata": {},
   "outputs": [],
   "source": [
    "model=nb.fit(hashDf)\n",
    "predictions=model.transform(hashDf)"
   ]
  },
  {
   "cell_type": "code",
   "execution_count": 202,
   "id": "eae31a59",
   "metadata": {
    "scrolled": false
   },
   "outputs": [
    {
     "name": "stdout",
     "output_type": "stream",
     "text": [
      "+----------------------------------+-----+----------+\n",
      "|                            review|label|prediction|\n",
      "+----------------------------------+-----+----------+\n",
      "|고구마 먹은 영화 유치해서 못보겠다|  0.0|       0.0|\n",
      "|  노잼이네요.. 왜 배우들이 출연...|  0.0|       0.0|\n",
      "|   제발 뻘짓 좀 그만하셨으면......|  0.0|       0.0|\n",
      "|         스토리가 매우 매우 아쉽다|  0.0|       0.0|\n",
      "|             영화 약간 이해가 안됨|  0.0|       0.0|\n",
      "|좋아하는 배우들인데 최근 영화라...|  0.0|       0.0|\n",
      "| 그지같네 도대체 이 따위 영화를...|  0.0|       0.0|\n",
      "|  스크린보다 시계를 더 많이 봄....|  0.0|       0.0|\n",
      "| 이때까지 본 영화중에 제일 최악...|  0.0|       0.0|\n",
      "|    나만 짜증.. 줄거리 한줄평.....|  0.0|       0.0|\n",
      "+----------------------------------+-----+----------+\n",
      "only showing top 10 rows\n",
      "\n"
     ]
    }
   ],
   "source": [
    "predictions.select('review','label','prediction').show(10)"
   ]
  },
  {
   "cell_type": "markdown",
   "id": "b50d16e6",
   "metadata": {},
   "source": [
    "# 문제 3-5의 답"
   ]
  },
  {
   "cell_type": "code",
   "execution_count": 203,
   "id": "71c3575c",
   "metadata": {},
   "outputs": [],
   "source": [
    "(trainDf, testDf) = hashDf.randomSplit([0.5, 0.5])"
   ]
  },
  {
   "cell_type": "code",
   "execution_count": 204,
   "id": "7084ebc2",
   "metadata": {},
   "outputs": [],
   "source": [
    "splitModel = nb.fit(trainDf)"
   ]
  },
  {
   "cell_type": "markdown",
   "id": "c6afb72a",
   "metadata": {},
   "source": [
    "#### test data에 대한 예측"
   ]
  },
  {
   "cell_type": "code",
   "execution_count": 205,
   "id": "1a4b1230",
   "metadata": {},
   "outputs": [],
   "source": [
    "testPredict = splitModel.transform(testDf)"
   ]
  },
  {
   "cell_type": "code",
   "execution_count": 206,
   "id": "b3e73c6b",
   "metadata": {},
   "outputs": [
    {
     "name": "stdout",
     "output_type": "stream",
     "text": [
      "+----------------------------------+-----+----------+\n",
      "|                            review|label|prediction|\n",
      "+----------------------------------+-----+----------+\n",
      "|        감동 그 자체 스파이더맨 짱|  1.0|       0.0|\n",
      "|고구마 먹은 영화 유치해서 못보겠다|  0.0|       0.0|\n",
      "| 그냥 대박임 그 시절 스파이더맨...|  1.0|       0.0|\n",
      "|  그냥 진짜 재밌어 진짜 잘 만든...|  1.0|       1.0|\n",
      "| 그지같네 도대체 이 따위 영화를...|  0.0|       0.0|\n",
      "|  극장에서 보는 거 적극 추천 최고!|  1.0|       1.0|\n",
      "| 다음 날 새벽 출근임에도 불구하...|  1.0|       0.0|\n",
      "| 똥 싸다가 막힌 느낌 안보는거를...|  0.0|       0.0|\n",
      "|                띵작입니다 ㄹㅇ!!!|  1.0|       0.0|\n",
      "|로맨틱 코미디로 방향을 잡았으면...|  0.0|       0.0|\n",
      "|  보는 내내 명치끝이 탁 막혀서 ...|  1.0|       1.0|\n",
      "|  스토리 개 말도 안되는 억지 고...|  0.0|       0.0|\n",
      "| 어릴적 영화관에서 처음으로 본 ...|  1.0|       0.0|\n",
      "| 어설픈 연출력 어설픈 결말 현실...|  0.0|       0.0|\n",
      "|  어우 핵노잼 영화가 왜 이렇게 ...|  0.0|       0.0|\n",
      "+----------------------------------+-----+----------+\n",
      "only showing top 15 rows\n",
      "\n"
     ]
    }
   ],
   "source": [
    "testPredict.select('review','label','prediction').show(15)"
   ]
  },
  {
   "cell_type": "code",
   "execution_count": 207,
   "id": "615600d9",
   "metadata": {},
   "outputs": [],
   "source": [
    "from pyspark.ml.evaluation import BinaryClassificationEvaluator\n",
    "\n",
    "evaluator=BinaryClassificationEvaluator(rawPredictionCol=\"prediction\", labelCol=\"label\")"
   ]
  },
  {
   "cell_type": "code",
   "execution_count": 208,
   "id": "32713153",
   "metadata": {
    "scrolled": true
   },
   "outputs": [
    {
     "data": {
      "text/plain": [
       "0.7307692307692308"
      ]
     },
     "execution_count": 208,
     "metadata": {},
     "output_type": "execute_result"
    }
   ],
   "source": [
    "evaluator.evaluate(testPredict)"
   ]
  },
  {
   "cell_type": "markdown",
   "id": "98c316f2",
   "metadata": {},
   "source": [
    "# 문제 3-6의 답"
   ]
  },
  {
   "cell_type": "code",
   "execution_count": 209,
   "id": "d9275208",
   "metadata": {},
   "outputs": [],
   "source": [
    "testDf = spark.createDataFrame(\n",
    "    [\n",
    "        [\"고구가 먹은 느낌 킬링타음으로도 아쉽다\"],\n",
    "        [\"내돈 아깝 핵노잼 영화가 이렇게 지루해서 못보겠다\"],\n",
    "        [\"보다가 채널 돌림 재미없다\"],\n",
    "        [\"최고의 영화\"],\n",
    "        [\"여운이 긴 명작\"],\n",
    "        [\"띵작입니다 몰입하고 숨도 못쉬고 봤어요 꼭 보세요\"]\n",
    "    ],\n",
    "    ['sentences']\n",
    ")"
   ]
  },
  {
   "cell_type": "markdown",
   "id": "81e156f7",
   "metadata": {},
   "source": [
    "#### hashingTF 계산"
   ]
  },
  {
   "cell_type": "code",
   "execution_count": 210,
   "id": "ff71a48b",
   "metadata": {},
   "outputs": [],
   "source": [
    "from pyspark.ml.feature import Tokenizer\n",
    "\n",
    "tokenizer = Tokenizer(inputCol=\"sentences\", outputCol=\"tokens\")\n",
    "test_tokDf = tokenizer.transform(testDf)"
   ]
  },
  {
   "cell_type": "code",
   "execution_count": 211,
   "id": "725f7d60",
   "metadata": {},
   "outputs": [],
   "source": [
    "test_wordsDf = test_tokDf.withColumn('words', removeUdf(f.col('tokens')))"
   ]
  },
  {
   "cell_type": "code",
   "execution_count": 212,
   "id": "186e20fa",
   "metadata": {},
   "outputs": [],
   "source": [
    "test_hashTF = HashingTF(inputCol=\"nostops\", outputCol=\"hash\")"
   ]
  },
  {
   "cell_type": "code",
   "execution_count": 213,
   "id": "38d11758",
   "metadata": {},
   "outputs": [],
   "source": [
    "from pyspark.ml import Pipeline\n",
    "\n",
    "pipeline = Pipeline(stages=[stop,test_hashTF])"
   ]
  },
  {
   "cell_type": "code",
   "execution_count": 214,
   "id": "bca5f0eb",
   "metadata": {},
   "outputs": [],
   "source": [
    "test_model = pipeline.fit(test_wordsDf)\n",
    "test_df_fin = test_model.transform(test_wordsDf)"
   ]
  },
  {
   "cell_type": "code",
   "execution_count": 215,
   "id": "2c45fa00",
   "metadata": {
    "scrolled": true
   },
   "outputs": [
    {
     "name": "stdout",
     "output_type": "stream",
     "text": [
      "+----------------------------------+-------------------------------+-------------------------------+-------------------------------+--------------------+\n",
      "|                         sentences|                         tokens|                          words|                        nostops|                hash|\n",
      "+----------------------------------+-------------------------------+-------------------------------+-------------------------------+--------------------+\n",
      "|고구가 먹은 느낌 킬링타음으로도...| [고구가, 먹은, 느낌, 킬링타...| [고구가, 먹은, 느낌, 킬링타...| [고구가, 먹은, 느낌, 킬링타...|(262144,[8121,745...|\n",
      "| 내돈 아깝 핵노잼 영화가 이렇게...| [내돈, 아깝, 핵노잼, 영화가...| [내돈, 아깝, 핵노잼, 영화가...| [내돈, 아깝, 핵노잼, 영화가...|(262144,[35595,47...|\n",
      "|         보다가 채널 돌림 재미없다| [보다가, 채널, 돌림, 재미없다]| [보다가, 채널, 돌림, 재미없다]| [보다가, 채널, 돌림, 재미없다]|(262144,[103639,2...|\n",
      "|                       최고의 영화|                 [최고의, 영화]|                 [최고의, 영화]|                 [최고의, 영화]|(262144,[17393,14...|\n",
      "|                    여운이 긴 명작|             [여운이, 긴, 명작]|             [여운이, 긴, 명작]|             [여운이, 긴, 명작]|(262144,[11597,14...|\n",
      "|띵작입니다 몰입하고 숨도 못쉬고...|[띵작입니다, 몰입하고, 숨도,...|[띵작입니다, 몰입하고, 숨도,...|[띵작입니다, 몰입하고, 숨도,...|(262144,[3788,969...|\n",
      "+----------------------------------+-------------------------------+-------------------------------+-------------------------------+--------------------+\n",
      "\n"
     ]
    }
   ],
   "source": [
    "test_df_fin.show()"
   ]
  },
  {
   "cell_type": "markdown",
   "id": "e98b24a2",
   "metadata": {},
   "source": [
    "#### 예측"
   ]
  },
  {
   "cell_type": "code",
   "execution_count": 216,
   "id": "1b437f10",
   "metadata": {},
   "outputs": [],
   "source": [
    "test_predictions = model.transform(test_df_fin)"
   ]
  },
  {
   "cell_type": "code",
   "execution_count": 217,
   "id": "7546e00c",
   "metadata": {},
   "outputs": [
    {
     "name": "stdout",
     "output_type": "stream",
     "text": [
      "+------------------------------------------------+----------+\n",
      "|sentences                                       |prediction|\n",
      "+------------------------------------------------+----------+\n",
      "|고구가 먹은 느낌 킬링타음으로도 아쉽다          |0.0       |\n",
      "|내돈 아깝 핵노잼 영화가 이렇게 지루해서 못보겠다|0.0       |\n",
      "|보다가 채널 돌림 재미없다                       |0.0       |\n",
      "|최고의 영화                                     |1.0       |\n",
      "|여운이 긴 명작                                  |1.0       |\n",
      "|띵작입니다 몰입하고 숨도 못쉬고 봤어요 꼭 보세요|1.0       |\n",
      "+------------------------------------------------+----------+\n",
      "\n"
     ]
    }
   ],
   "source": [
    "test_predictions.select('sentences','prediction').show(truncate=False)"
   ]
  }
 ],
 "metadata": {
  "kernelspec": {
   "display_name": "Python 3",
   "language": "python",
   "name": "python3"
  },
  "language_info": {
   "codemirror_mode": {
    "name": "ipython",
    "version": 3
   },
   "file_extension": ".py",
   "mimetype": "text/x-python",
   "name": "python",
   "nbconvert_exporter": "python",
   "pygments_lexer": "ipython3",
   "version": "3.8.8"
  }
 },
 "nbformat": 4,
 "nbformat_minor": 5
}
