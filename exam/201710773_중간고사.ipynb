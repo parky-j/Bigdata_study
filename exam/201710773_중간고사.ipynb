{
 "cells": [
  {
   "cell_type": "markdown",
   "id": "be4e1494",
   "metadata": {},
   "source": [
    "## 201710773 박영제"
   ]
  },
  {
   "cell_type": "code",
   "execution_count": 1,
   "id": "b3a7cffe",
   "metadata": {},
   "outputs": [],
   "source": [
    "import findspark\n",
    "findspark.init()\n",
    "import pyspark\n",
    "myConf=pyspark.SparkConf()\n",
    "spark = pyspark.sql.SparkSession.builder\\\n",
    "    .master(\"local\")\\\n",
    "    .appName(\"myApp\")\\\n",
    "    .config(conf=myConf)\\\n",
    "    .getOrCreate()"
   ]
  },
  {
   "cell_type": "code",
   "execution_count": 6,
   "id": "d3e63cb1",
   "metadata": {},
   "outputs": [],
   "source": [
    "import urllib\n",
    "import requests\n",
    "\n",
    "KEY='73725974496a736c34395757705847'\n",
    "TYPE='json'\n",
    "SERVICE='InfoTrdarAptQq'\n",
    "START_INDEX='0'\n",
    "END_INDEX='100'\n",
    "STDR_YY_CD='2021'\n",
    "params=\"/\".join([KEY,TYPE,SERVICE,START_INDEX,END_INDEX,STDR_YY_CD])\n",
    "_url='http://openapi.seoul.go.kr:8088'\n",
    "url=urllib.parse.urljoin(_url,params)\n",
    "data=requests.get(url)"
   ]
  },
  {
   "cell_type": "markdown",
   "id": "6778ec60",
   "metadata": {},
   "source": [
    "# 문제 1 시작"
   ]
  },
  {
   "cell_type": "markdown",
   "id": "80bcd5be",
   "metadata": {},
   "source": [
    "# 문제 1-1의 답"
   ]
  },
  {
   "cell_type": "code",
   "execution_count": 8,
   "id": "821665c4",
   "metadata": {},
   "outputs": [
    {
     "name": "stdout",
     "output_type": "stream",
     "text": [
      "http://openapi.seoul.go.kr:8088/73725974496a736c34395757705847/json/InfoTrdarAptQq/0/100/2021\n"
     ]
    }
   ],
   "source": [
    "print(url)"
   ]
  },
  {
   "cell_type": "markdown",
   "id": "5da5ce32",
   "metadata": {},
   "source": [
    "# 문제 1-2의 답"
   ]
  },
  {
   "cell_type": "code",
   "execution_count": 21,
   "id": "2163df15",
   "metadata": {},
   "outputs": [
    {
     "data": {
      "text/plain": [
       "{'STDR_YY_CD': '2021',\n",
       " 'TRDAR_SE_CD': 'D',\n",
       " 'TRDAR_SE_CD_NM': '발달상권',\n",
       " 'APT_HSMP_CO': 3.0,\n",
       " 'AE_66_SQMT_BELO_HSHLD_CO': 157.0,\n",
       " 'AE_66_SQMT_HSHLD_CO': 0.0,\n",
       " 'AE_99_SQMT_HSHLD_CO': 0.0,\n",
       " 'AE_132_SQMT_HSHLD_CO': 0.0,\n",
       " 'AE_165_SQMT_HSHLD_CO': 0.0,\n",
       " 'PC_1_HDMIL_BELO_HSHLD_CO': 0.0,\n",
       " 'PC_1_HDMIL_HSHLD_CO': 157.0,\n",
       " 'PC_2_HDMIL_HSHLD_CO': 0.0,\n",
       " 'PC_3_HDMIL_HSHLD_CO': 0.0,\n",
       " 'PC_4_HDMIL_HSHLD_CO': 0.0,\n",
       " 'PC_5_HDMIL_HSHLD_CO': 0.0,\n",
       " 'PC_6_HDMIL_ABOVE_HSHLD_CO': 0.0,\n",
       " 'AVRG_AE': 31.0,\n",
       " 'AVRG_MKTC': 161157476.0,\n",
       " 'STDR_QU_CD': '1',\n",
       " 'TRDAR_CD': '1001158',\n",
       " 'TRDAR_CD_NM': '당산역_2'}"
      ]
     },
     "execution_count": 21,
     "metadata": {},
     "output_type": "execute_result"
    }
   ],
   "source": [
    "seoul=data.json()\n",
    "resultJson = seoul['InfoTrdarAptQq']['row']\n",
    "resultJson[1]"
   ]
  },
  {
   "cell_type": "markdown",
   "id": "cc5df36f",
   "metadata": {},
   "source": [
    "# 문제 1-3의 답"
   ]
  },
  {
   "cell_type": "code",
   "execution_count": 51,
   "id": "b3b88288",
   "metadata": {
    "scrolled": false
   },
   "outputs": [],
   "source": [
    "Rdd=spark.sparkContext.parallelize(resultJson)"
   ]
  },
  {
   "cell_type": "code",
   "execution_count": 84,
   "id": "5609b304",
   "metadata": {
    "scrolled": true
   },
   "outputs": [
    {
     "name": "stdout",
     "output_type": "stream",
     "text": [
      "골목상권  5.0    0.0      150247619.0      동남로82길              \n",
      "발달상권  3.0    0.0      161157476.0      당산역_2               \n",
      "발달상권  1.0    0.0      81750000.0       서울 성북구 안암역          \n",
      "전통시장  37.0   1.0      183067389.0      길동복조리시장             \n",
      "관광특구  71.0   87.0     409473123.0      이태원 관광특구            \n",
      "관광특구  8.0    271.0    237967427.0      동대문패션타운 관광특구        \n",
      "관광특구  5.0    0.0      112097903.0      종로·청계 관광특구          \n",
      "관광특구  22.0   1156.0   527347107.0      잠실 관광특구             \n",
      "골목상권  26.0   22.0     249322039.0      계동길                 \n",
      "골목상권  5.0    0.0      87700490.0       난계로27길              \n",
      "골목상권  5.0    0.0      161118305.0      돈화문로11가길            \n",
      "골목상권  41.0   0.0      105457249.0      명륜길                 \n",
      "골목상권  41.0   0.0      214023214.0      백석동길                \n",
      "골목상권  3.0    0.0      213246032.0      북촌로11길              \n",
      "골목상권  2.0    2.0      443000000.0      북촌로5길               \n",
      "골목상권  5.0    6.0      430007143.0      북촌로5나길              \n",
      "골목상권  1.0    2.0      572000000.0      삼청로5길               \n",
      "골목상권  12.0   0.0      152368531.0      성균관로5길              \n",
      "골목상권  19.0   0.0      141952840.0      숭인동길                \n",
      "골목상권  100.0  0.0      177741821.0      옥인길                 \n",
      "골목상권  1.0    0.0      112279412.0      율곡로16길              \n",
      "골목상권  20.0   0.0      153940955.0      이화장길                \n",
      "골목상권  9.0    0.0      256264683.0      자하문로7길              \n",
      "골목상권  3.0    0.0      81284178.0       종로58가길              \n",
      "골목상권  87.0   0.0      124591950.0      종로65길               \n",
      "골목상권  15.0   0.0      185365873.0      지봉로8길               \n",
      "골목상권  8.0    0.0      142664918.0      창경궁로35길             \n",
      "골목상권  17.0   0.0      107096078.0      창신2길                \n",
      "골목상권  8.0    0.0      95141667.0       창신5길                \n",
      "골목상권  86.0   0.0      116533576.0      창신길                 \n",
      "골목상권  50.0   0.0      99746000.0       통일로12길              \n",
      "골목상권  19.0   30.0     309926113.0      평창길                 \n",
      "골목상권  14.0   0.0      229306432.0      필운대로1길              \n",
      "골목상권  16.0   33.0     272737678.0      난계로11길              \n",
      "골목상권  9.0    0.0      157574074.0      난계로21길              \n",
      "골목상권  32.0   0.0      153392079.0      다산로33길              \n",
      "골목상권  8.0    0.0      179132297.0      다산로36길              \n",
      "골목상권  10.0   1.0      242063093.0      다산로38길              \n",
      "골목상권  2.0    0.0      176972222.0      다산로39길              \n",
      "골목상권  27.0   0.0      181864758.0      동호로10길              \n",
      "골목상권  150.0  0.0      124396733.0      동호로11길              \n",
      "골목상권  41.0   12.0     208647667.0      동호로15길              \n",
      "골목상권  42.0   43.0     307355149.0      동호로20길              \n",
      "골목상권  18.0   0.0      155018621.0      동호로8길               \n",
      "골목상권  28.0   1.0      184979178.0      장충단로8길              \n",
      "골목상권  33.0   0.0      206531628.0      청구로17길              \n",
      "골목상권  9.0    0.0      189915947.0      청구로1길               \n",
      "골목상권  7.0    0.0      167530465.0      퇴계로12길              \n",
      "골목상권  3.0    0.0      168158730.0      퇴계로18길              \n",
      "골목상권  7.0    0.0      119134454.0      퇴계로46길              \n",
      "골목상권  6.0    0.0      130876389.0      퇴계로56길              \n",
      "골목상권  13.0   0.0      213297572.0      퇴계로8길               \n",
      "골목상권  27.0   0.0      170019584.0      퇴계로90길              \n",
      "골목상권  4.0    0.0      250343750.0      녹사평대로11길            \n",
      "골목상권  10.0   0.0      380352237.0      녹사평대로26길            \n",
      "골목상권  8.0    5.0      382973462.0      녹사평대로32길            \n",
      "골목상권  9.0    13.0     463599167.0      녹사평대로40나길           \n",
      "골목상권  22.0   5.0      291820883.0      녹사평대로46길            \n",
      "골목상권  35.0   84.0     559442404.0      대사관로34길             \n",
      "골목상권  38.0   0.0      294402723.0      두텁바위로1길             \n",
      "골목상권  104.0  16.0     242145926.0      백범로79길              \n",
      "골목상권  11.0   709.0    496683400.0      백범로90길              \n",
      "골목상권  72.0   244.0    662098926.0      서빙고로71길             \n",
      "골목상권  44.0   1.0      200752888.0      소월로20길              \n",
      "골목상권  114.0  4.0      171466325.0      신흥로20길              \n",
      "골목상권  49.0   129.0    614161825.0      우사단로10길             \n",
      "골목상권  15.0   127.0    654105268.0      우사단로14길             \n",
      "골목상권  22.0   12.0     489858622.0      우사단로4길              \n",
      "골목상권  23.0   5.0      269352177.0      원효로19길              \n",
      "골목상권  16.0   0.0      281720858.0      원효로41길              \n",
      "골목상권  40.0   0.0      228417439.0      원효로53길              \n",
      "골목상권  10.0   0.0      215459650.0      원효로89길              \n",
      "골목상권  49.0   10.0     387698359.0      이촌로22길              \n",
      "골목상권  11.0   19.0     483746950.0      이태원로27길             \n",
      "골목상권  30.0   109.0    480723433.0      이태원로54길             \n",
      "골목상권  33.0   106.0    573284176.0      장문로45길              \n",
      "골목상권  14.0   0.0      166160048.0      청파로47길              \n",
      "골목상권  89.0   4.0      220994083.0      청파로47나길             \n",
      "골목상권  122.0  0.0      215433642.0      청파로71길              \n",
      "골목상권  58.0   0.0      219067232.0      청파로73길              \n",
      "골목상권  25.0   240.0    341969048.0      한강대로104길            \n",
      "골목상권  8.0    151.0    457474986.0      한강대로15길             \n",
      "골목상권  3.0    431.0    989166024.0      한강대로43길             \n",
      "골목상권  14.0   1.0      286364302.0      한강대로52길             \n",
      "골목상권  9.0    1.0      364824342.0      한강대로62길             \n",
      "골목상권  6.0    12.0     419996429.0      한강대로7길              \n",
      "골목상권  7.0    58.0     352673085.0      한남대로20길             \n",
      "골목상권  22.0   40.0     349667714.0      회나무로13길             \n",
      "골목상권  90.0   0.0      231388058.0      효창원로39길             \n",
      "골목상권  127.0  21.0     277169594.0      후암로28길              \n",
      "골목상권  61.0   0.0      201004295.0      고산자로6길              \n",
      "골목상권  39.0   0.0      182191459.0      금호산2길               \n",
      "골목상권  69.0   0.0      200790347.0      금호산길                \n",
      "골목상권  23.0   9.0      451650381.0      둘레9길                \n",
      "골목상권  15.0   144.0    318029114.0      뚝섬로5길               \n",
      "골목상권  10.0   0.0      140662018.0      마장로27길              \n",
      "골목상권  7.0    0.0      261575022.0      마장로39길              \n",
      "골목상권  20.0   0.0      228218098.0      마조로16길              \n",
      "골목상권  26.0   0.0      149740447.0      마조로1길               \n",
      "골목상권  9.0    1530.0   599287898.0      매봉길                 \n"
     ]
    }
   ],
   "source": [
    "dicRdd = Rdd.collect()\n",
    "flag = 0\n",
    "for node in dicRdd:\n",
    "    print(\"{:<4}  {:<5}  {:<7}  {:<15}  {:<20}\"\\\n",
    "            .format(node['TRDAR_SE_CD_NM'],\n",
    "            node['APT_HSMP_CO'],\n",
    "            node['PC_6_HDMIL_ABOVE_HSHLD_CO'],\n",
    "            node['AVRG_MKTC'],\n",
    "            node['TRDAR_CD_NM']))\n",
    "    flag+=1\n",
    "    if(flag==100):\n",
    "        break"
   ]
  },
  {
   "cell_type": "markdown",
   "id": "4249c198",
   "metadata": {},
   "source": [
    "# 문제 2 시작"
   ]
  },
  {
   "cell_type": "code",
   "execution_count": 56,
   "id": "b98668a9",
   "metadata": {},
   "outputs": [],
   "source": [
    "yesterday=[\n",
    "\n",
    "    [\"Yesterday 어제는\"],\n",
    "\n",
    "    [\"All my troubles seemed to far away 내 모든 문제들이 참 멀리 있는 것 같았는데\"],\n",
    "\n",
    "    [\"Now it looks as though they're here to stay 이제는 그 모든 문제들이 여기에 있는 것처럼 보여\"],\n",
    "\n",
    "    [\"Oh, I believe in yesterday 오, 어제가 좋았는데\"],\n",
    "\n",
    "    [\"Suddenly 갑자기 그-림-자-가 2021 그-림-자-가 2021\"],\n",
    "\n",
    "    [\"I'm not half the man I used to be 난 예전 내 모습의 반도 못한 사람이 되어버렸어\"],\n",
    "\n",
    "    [\"There's a shadow hanging over me 내 위에 그림자가 드리워져 있네\"],\n",
    "\n",
    "    [\"Oh!, yesterday came suddenly 오!, 이제는 너무 갑자기 와버렸어..\"],\n",
    "\n",
    "]"
   ]
  },
  {
   "cell_type": "code",
   "execution_count": 69,
   "id": "5ae0b345",
   "metadata": {},
   "outputs": [],
   "source": [
    "myRdd2=spark.sparkContext.parallelize(yesterday)\n",
    "sentences=myRdd2.reduce(lambda x,y:x+y)"
   ]
  },
  {
   "cell_type": "code",
   "execution_count": 93,
   "id": "a1f10b1f",
   "metadata": {},
   "outputs": [],
   "source": [
    "myRdd2=spark.sparkContext.parallelize(sentences)\n",
    "countWord = myRdd2\\\n",
    "    .flatMap(lambda x:x.split())\\\n",
    "    .map(lambda x:(x,1))\\\n",
    "    .reduceByKey(lambda x,y:x+y)\\\n",
    "    .map(lambda x:(x[1],x[0]))\\\n",
    "    .sortByKey(True)\\\n",
    "    .map(lambda x:(x[1],x[0]))"
   ]
  },
  {
   "cell_type": "markdown",
   "id": "0d453918",
   "metadata": {},
   "source": [
    "# 문제 2-1의 답"
   ]
  },
  {
   "cell_type": "code",
   "execution_count": 94,
   "id": "4315f87c",
   "metadata": {
    "scrolled": true
   },
   "outputs": [
    {
     "data": {
      "text/plain": [
       "[('Yesterday', 1),\n",
       " ('어제는', 1),\n",
       " ('All', 1),\n",
       " ('my', 1),\n",
       " ('troubles', 1),\n",
       " ('seemed', 1),\n",
       " ('far', 1),\n",
       " ('away', 1),\n",
       " ('참', 1),\n",
       " ('멀리', 1),\n",
       " ('것', 1),\n",
       " ('같았는데', 1),\n",
       " ('Now', 1),\n",
       " ('it', 1),\n",
       " ('looks', 1),\n",
       " ('as', 1),\n",
       " ('though', 1),\n",
       " (\"they're\", 1),\n",
       " ('here', 1),\n",
       " ('stay', 1),\n",
       " ('그', 1),\n",
       " ('여기에', 1),\n",
       " ('것처럼', 1),\n",
       " ('보여', 1),\n",
       " ('Oh,', 1),\n",
       " ('believe', 1),\n",
       " ('in', 1),\n",
       " ('오,', 1),\n",
       " ('어제가', 1),\n",
       " ('좋았는데', 1),\n",
       " ('Suddenly', 1),\n",
       " (\"I'm\", 1),\n",
       " ('not', 1),\n",
       " ('half', 1),\n",
       " ('the', 1),\n",
       " ('man', 1),\n",
       " ('used', 1),\n",
       " ('be', 1),\n",
       " ('난', 1),\n",
       " ('예전', 1),\n",
       " ('모습의', 1),\n",
       " ('반도', 1),\n",
       " ('못한', 1),\n",
       " ('사람이', 1),\n",
       " ('되어버렸어', 1),\n",
       " (\"There's\", 1),\n",
       " ('a', 1),\n",
       " ('shadow', 1),\n",
       " ('hanging', 1),\n",
       " ('over', 1),\n",
       " ('me', 1),\n",
       " ('위에', 1),\n",
       " ('그림자가', 1),\n",
       " ('드리워져', 1),\n",
       " ('있네', 1),\n",
       " ('Oh!,', 1),\n",
       " ('came', 1),\n",
       " ('suddenly', 1),\n",
       " ('오!,', 1),\n",
       " ('너무', 1),\n",
       " ('와버렸어..', 1),\n",
       " ('모든', 2),\n",
       " ('문제들이', 2),\n",
       " ('있는', 2),\n",
       " ('이제는', 2),\n",
       " ('I', 2),\n",
       " ('yesterday', 2),\n",
       " ('갑자기', 2),\n",
       " ('그-림-자-가', 2),\n",
       " ('2021', 2),\n",
       " ('to', 3),\n",
       " ('내', 3)]"
      ]
     },
     "execution_count": 94,
     "metadata": {},
     "output_type": "execute_result"
    }
   ],
   "source": [
    "countWord.collect()"
   ]
  },
  {
   "cell_type": "code",
   "execution_count": 102,
   "id": "dae8c06b",
   "metadata": {},
   "outputs": [],
   "source": [
    "countFreqWord=countWord.filter(lambda x:x[1]>1)\\\n",
    "            .map(lambda x:(x[1],x[0]))\\\n",
    "            .sortByKey(False)\\\n",
    "            .map(lambda x:(x[1],x[0]))"
   ]
  },
  {
   "cell_type": "markdown",
   "id": "e30e80bb",
   "metadata": {},
   "source": [
    "# 문제 2-2의 답"
   ]
  },
  {
   "cell_type": "code",
   "execution_count": 371,
   "id": "0a90c711",
   "metadata": {
    "scrolled": true
   },
   "outputs": [
    {
     "data": {
      "text/plain": [
       "[('to', 3),\n",
       " ('내', 3),\n",
       " ('모든', 2),\n",
       " ('문제들이', 2),\n",
       " ('있는', 2),\n",
       " ('이제는', 2),\n",
       " ('I', 2),\n",
       " ('yesterday', 2),\n",
       " ('갑자기', 2),\n",
       " ('그-림-자-가', 2),\n",
       " ('2021', 2)]"
      ]
     },
     "execution_count": 371,
     "metadata": {},
     "output_type": "execute_result"
    }
   ],
   "source": [
    "countFreqWord.collect()"
   ]
  },
  {
   "cell_type": "code",
   "execution_count": 378,
   "id": "307fd94c",
   "metadata": {},
   "outputs": [
    {
     "data": {
      "text/plain": [
       "['YESTERDAY 어제는',\n",
       " 'ALL MY TROUBLES SEEMED TO FAR AWAY 내 모든 문제들이 참 멀리 있는 것 같았는데',\n",
       " \"NOW IT LOOKS AS THOUGH THEY'RE HERE TO STAY 이제는 그 모든 문제들이 여기에 있는 것처럼 보여\",\n",
       " 'OH, I BELIEVE IN YESTERDAY 오, 어제가 좋았는데',\n",
       " 'SUDDENLY 갑자기 그림자가  그림자가 ',\n",
       " \"I'M NOT HALF THE MAN I USED TO BE 난 예전 내 모습의 반도 못한 사람이 되어버렸어\",\n",
       " \"THERE'S A SHADOW HANGING OVER ME 내 위에 그림자가 드리워져 있네\",\n",
       " 'OH, YESTERDAY CAME SUDDENLY 오, 이제는 너무 갑자기 와버렸어..']"
      ]
     },
     "execution_count": 378,
     "metadata": {},
     "output_type": "execute_result"
    }
   ],
   "source": [
    "characters = ['-','!']\n",
    "string = []\n",
    "for i in sentences:\n",
    "    strin = i.replace('-',\"\")\n",
    "    strin = strin.replace('!',\"\")\n",
    "    strin = strin.upper()\n",
    "    strin = strin.replace('2021',\"\")\n",
    "    string.append(strin)\n",
    "string"
   ]
  },
  {
   "cell_type": "code",
   "execution_count": 379,
   "id": "c1bb8ff8",
   "metadata": {},
   "outputs": [],
   "source": [
    "myRdd2=spark.sparkContext.parallelize(string)\n",
    "\n",
    "countWord = myRdd2\\\n",
    "    .flatMap(lambda x:x.split())\\\n",
    "    .map(lambda x:(x,1))\\\n",
    "    .reduceByKey(lambda x,y:x+y)\\\n",
    "    .map(lambda x:(x[1],x[0]))\\\n",
    "    .sortByKey(True)\\\n",
    "    .map(lambda x:(x[1],x[0]))\n",
    "\n",
    "countFreqWord=countWord.filter(lambda x:x[1]>1)\\\n",
    "            .map(lambda x:(x[1],x[0]))\\\n",
    "            .sortByKey(False)\\\n",
    "            .map(lambda x:(x[1],x[0]))"
   ]
  },
  {
   "cell_type": "markdown",
   "id": "87dff153",
   "metadata": {},
   "source": [
    "# 문제 2-3의 답"
   ]
  },
  {
   "cell_type": "code",
   "execution_count": 386,
   "id": "1e60b862",
   "metadata": {},
   "outputs": [
    {
     "data": {
      "text/plain": [
       "[('YESTERDAY', 3),\n",
       " ('TO', 3),\n",
       " ('내', 3),\n",
       " ('그림자가', 3),\n",
       " ('모든', 2),\n",
       " ('문제들이', 2),\n",
       " ('있는', 2),\n",
       " ('이제는', 2),\n",
       " ('OH,', 2),\n",
       " ('I', 2),\n",
       " ('오,', 2),\n",
       " ('SUDDENLY', 2),\n",
       " ('갑자기', 2)]"
      ]
     },
     "execution_count": 386,
     "metadata": {},
     "output_type": "execute_result"
    }
   ],
   "source": [
    "countFreqWord.collect()"
   ]
  },
  {
   "cell_type": "markdown",
   "id": "7a78411a",
   "metadata": {},
   "source": [
    "# 문제 2-4의 답"
   ]
  },
  {
   "cell_type": "code",
   "execution_count": 394,
   "id": "dc2a22a1",
   "metadata": {},
   "outputs": [
    {
     "data": {
      "text/plain": [
       "[('YESTERDAY', 3),\n",
       " ('TO', 3),\n",
       " ('그림자가', 3),\n",
       " ('모든', 2),\n",
       " ('문제들이', 2),\n",
       " ('있는', 2),\n",
       " ('이제는', 2),\n",
       " ('OH,', 2),\n",
       " ('오,', 2),\n",
       " ('SUDDENLY', 2),\n",
       " ('갑자기', 2)]"
      ]
     },
     "execution_count": 394,
     "metadata": {},
     "output_type": "execute_result"
    }
   ],
   "source": [
    "countWord.filter(lambda x:x[1]>1)\\\n",
    "            .map(lambda x:(x[1],x[0]))\\\n",
    "            .sortByKey(False)\\\n",
    "            .map(lambda x:(x[1],x[0]))\\\n",
    "            .filter(lambda x:len(x[0])>1)\\\n",
    "            .collect()"
   ]
  },
  {
   "cell_type": "markdown",
   "id": "27925779",
   "metadata": {},
   "source": [
    "# 문제 3 시작"
   ]
  },
  {
   "cell_type": "code",
   "execution_count": 333,
   "id": "dc0ee9de",
   "metadata": {
    "scrolled": true
   },
   "outputs": [],
   "source": [
    "import os\n",
    "fname=os.path.join('data','서울특별시 코로나19 자치구별 확진자 발생동향.json')\n",
    "with open(fname, \"r\", encoding=\"utf-8\") as f:\n",
    "    data = json.load(f)\n",
    "_data=data['DATA']"
   ]
  },
  {
   "cell_type": "code",
   "execution_count": 334,
   "id": "edbe6cab",
   "metadata": {
    "scrolled": true
   },
   "outputs": [],
   "source": [
    "covidRdd=spark.sparkContext.parallelize(_data)"
   ]
  },
  {
   "cell_type": "code",
   "execution_count": 335,
   "id": "4ee28ee1",
   "metadata": {
    "scrolled": true
   },
   "outputs": [
    {
     "name": "stdout",
     "output_type": "stream",
     "text": [
      "root\n",
      " |-- ddm: string (nullable = true)\n",
      " |-- ddmadd: string (nullable = true)\n",
      " |-- dobong: string (nullable = true)\n",
      " |-- dobongadd: string (nullable = true)\n",
      " |-- dongjak: string (nullable = true)\n",
      " |-- dongjakadd: string (nullable = true)\n",
      " |-- ep: string (nullable = true)\n",
      " |-- epadd: string (nullable = true)\n",
      " |-- etc: string (nullable = true)\n",
      " |-- etcadd: string (nullable = true)\n",
      " |-- gangbuk: string (nullable = true)\n",
      " |-- gangbukadd: string (nullable = true)\n",
      " |-- gangdong: string (nullable = true)\n",
      " |-- gangdongadd: string (nullable = true)\n",
      " |-- gangnam: string (nullable = true)\n",
      " |-- gangnamadd: string (nullable = true)\n",
      " |-- gangseo: string (nullable = true)\n",
      " |-- gangseoadd: string (nullable = true)\n",
      " |-- geumcheon: string (nullable = true)\n",
      " |-- geumcheonadd: string (nullable = true)\n",
      " |-- guro: string (nullable = true)\n",
      " |-- guroadd: string (nullable = true)\n",
      " |-- gwanak: string (nullable = true)\n",
      " |-- gwanakadd: string (nullable = true)\n",
      " |-- gwangjin: string (nullable = true)\n",
      " |-- gwangjinadd: string (nullable = true)\n",
      " |-- jcg_dt: string (nullable = true)\n",
      " |-- jongno: string (nullable = true)\n",
      " |-- jongnoadd: string (nullable = true)\n",
      " |-- junggu: string (nullable = true)\n",
      " |-- jungguadd: string (nullable = true)\n",
      " |-- jungnang: string (nullable = true)\n",
      " |-- jungnangadd: string (nullable = true)\n",
      " |-- mapo: string (nullable = true)\n",
      " |-- mapoadd: string (nullable = true)\n",
      " |-- nowon: string (nullable = true)\n",
      " |-- nowonadd: string (nullable = true)\n",
      " |-- sdm: string (nullable = true)\n",
      " |-- sdmadd: string (nullable = true)\n",
      " |-- seocho: string (nullable = true)\n",
      " |-- seochoadd: string (nullable = true)\n",
      " |-- seongbuk: string (nullable = true)\n",
      " |-- seongbukadd: string (nullable = true)\n",
      " |-- seongdong: string (nullable = true)\n",
      " |-- seongdongadd: string (nullable = true)\n",
      " |-- songpa: string (nullable = true)\n",
      " |-- songpaadd: string (nullable = true)\n",
      " |-- work_dttm: long (nullable = true)\n",
      " |-- yangcheon: string (nullable = true)\n",
      " |-- yangcheonadd: string (nullable = true)\n",
      " |-- ydp: string (nullable = true)\n",
      " |-- ydpadd: string (nullable = true)\n",
      " |-- yongsan: string (nullable = true)\n",
      " |-- yongsanadd: string (nullable = true)\n",
      "\n"
     ]
    }
   ],
   "source": [
    "covidDf=spark.createDataFrame(covidRdd)\n",
    "covidDf.printSchema()"
   ]
  },
  {
   "cell_type": "markdown",
   "id": "66463735",
   "metadata": {},
   "source": [
    "# 문제 3-1 답"
   ]
  },
  {
   "cell_type": "code",
   "execution_count": 336,
   "id": "1d939835",
   "metadata": {},
   "outputs": [
    {
     "name": "stdout",
     "output_type": "stream",
     "text": [
      "전체 데이터 수:  628\n"
     ]
    }
   ],
   "source": [
    "# 전체 데이터 수\n",
    "\n",
    "print(\"전체 데이터 수: \",len(covidDf.toPandas()))"
   ]
  },
  {
   "cell_type": "code",
   "execution_count": 346,
   "id": "fb546841",
   "metadata": {},
   "outputs": [
    {
     "name": "stdout",
     "output_type": "stream",
     "text": [
      "+---+------+------+---------+-------+----------+---+-----+---+------+-------+----------+--------+-----------+-------+----------+-------+----------+---------+------------+----+-------+------+---------+--------+-----------+------+------+---------+------+---------+--------+-----------+----+-------+-----+--------+---+------+------+---------+--------+-----------+---------+------------+------+---------+---------+---------+------------+---+------+-------+----------+\n",
      "|ddm|ddmadd|dobong|dobongadd|dongjak|dongjakadd| ep|epadd|etc|etcadd|gangbuk|gangbukadd|gangdong|gangdongadd|gangnam|gangnamadd|gangseo|gangseoadd|geumcheon|geumcheonadd|guro|guroadd|gwanak|gwanakadd|gwangjin|gwangjinadd|jcg_dt|jongno|jongnoadd|junggu|jungguadd|jungnang|jungnangadd|mapo|mapoadd|nowon|nowonadd|sdm|sdmadd|seocho|seochoadd|seongbuk|seongbukadd|seongdong|seongdongadd|songpa|songpaadd|work_dttm|yangcheon|yangcheonadd|ydp|ydpadd|yongsan|yongsanadd|\n",
      "+---+------+------+---------+-------+----------+---+-----+---+------+-------+----------+--------+-----------+-------+----------+-------+----------+---------+------------+----+-------+------+---------+--------+-----------+------+------+---------+------+---------+--------+-----------+----+-------+-----+--------+---+------+------+---------+--------+-----------+---------+------------+------+---------+---------+---------+------------+---+------+-------+----------+\n",
      "|  0|     0|     0|        0|      0|         0|  0|    0|  0|     0|      0|         0|       0|          0|      0|         0|      0|         0|        0|           0|   0|      0|     0|        0|       0|          0|     0|     0|        0|     0|        0|       0|          0|   0|      0|    0|       0|  0|     0|     0|        0|       0|          0|        0|           0|     0|        0|        0|        0|           0|  0|     0|      0|         0|\n",
      "+---+------+------+---------+-------+----------+---+-----+---+------+-------+----------+--------+-----------+-------+----------+-------+----------+---------+------------+----+-------+------+---------+--------+-----------+------+------+---------+------+---------+--------+-----------+----+-------+-----+--------+---+------+------+---------+--------+-----------+---------+------------+------+---------+---------+---------+------------+---+------+-------+----------+\n",
      "\n"
     ]
    }
   ],
   "source": [
    "# 결측값이 존재하는 row를 제거한 후, 결측값 개수출력\n",
    "\n",
    "from pyspark.sql.functions import isnan, when, count, col\n",
    "_coivdDf = covidDf.toPandas().dropna()\n",
    "covidDf=spark.createDataFrame(_coivdDf)\n",
    "covidDf.select([count(when(col(c).isNull(), c)).alias(c) for c in covidDf.columns]).show()"
   ]
  },
  {
   "cell_type": "code",
   "execution_count": 347,
   "id": "0b8f234b",
   "metadata": {},
   "outputs": [
    {
     "name": "stdout",
     "output_type": "stream",
     "text": [
      "전체 데이터 수:\n",
      " ddm             0\n",
      "ddmadd          0\n",
      "dobong          0\n",
      "dobongadd       0\n",
      "dongjak         0\n",
      "dongjakadd      0\n",
      "ep              0\n",
      "epadd           0\n",
      "etc             0\n",
      "etcadd          0\n",
      "gangbuk         0\n",
      "gangbukadd      0\n",
      "gangdong        0\n",
      "gangdongadd     0\n",
      "gangnam         0\n",
      "gangnamadd      0\n",
      "gangseo         0\n",
      "gangseoadd      0\n",
      "geumcheon       0\n",
      "geumcheonadd    0\n",
      "guro            0\n",
      "guroadd         0\n",
      "gwanak          0\n",
      "gwanakadd       0\n",
      "gwangjin        0\n",
      "gwangjinadd     0\n",
      "jcg_dt          0\n",
      "jongno          0\n",
      "jongnoadd       0\n",
      "junggu          0\n",
      "jungguadd       0\n",
      "jungnang        0\n",
      "jungnangadd     0\n",
      "mapo            0\n",
      "mapoadd         0\n",
      "nowon           0\n",
      "nowonadd        0\n",
      "sdm             0\n",
      "sdmadd          0\n",
      "seocho          0\n",
      "seochoadd       0\n",
      "seongbuk        0\n",
      "seongbukadd     0\n",
      "seongdong       0\n",
      "seongdongadd    0\n",
      "songpa          0\n",
      "songpaadd       0\n",
      "work_dttm       0\n",
      "yangcheon       0\n",
      "yangcheonadd    0\n",
      "ydp             0\n",
      "ydpadd          0\n",
      "yongsan         0\n",
      "yongsanadd      0\n",
      "dtype: int64\n"
     ]
    }
   ],
   "source": [
    "# 결측값 제거 후 전체 결측값의 개수 출력\n",
    "\n",
    "print(\"전체 데이터 수:\\n\",covidDf.toPandas().isnull().sum())"
   ]
  },
  {
   "cell_type": "markdown",
   "id": "ca82ee3e",
   "metadata": {},
   "source": [
    "# 문제 3-2의 답"
   ]
  },
  {
   "cell_type": "code",
   "execution_count": 349,
   "id": "6979c584",
   "metadata": {},
   "outputs": [
    {
     "name": "stdout",
     "output_type": "stream",
     "text": [
      "+------+----+-------+----+\n",
      "|jongno|mapo|yongsan| tot|\n",
      "+------+----+-------+----+\n",
      "|  2036|4191|   3076|null|\n",
      "|  2023|4176|   3064|null|\n",
      "|  2008|4164|   3055|null|\n",
      "|  1989|4157|   3049|null|\n",
      "|  1977|4134|   3041|null|\n",
      "|  1968|4127|   3031|null|\n",
      "|  1958|4121|   3023|null|\n",
      "|  1949|4112|   3006|null|\n",
      "|  1925|4102|   2995|null|\n",
      "|  1900|4082|   2976|null|\n",
      "|  1879|4060|   2957|null|\n",
      "|  1865|4035|   2938|null|\n",
      "|  1853|4023|   2916|null|\n",
      "|  1842|4012|   2906|null|\n",
      "|  1831|3994|   2878|null|\n",
      "|  1816|3969|   2853|null|\n",
      "|  1785|3935|   2840|null|\n",
      "|  1760|3911|   2825|null|\n",
      "|  1745|3889|   2814|null|\n",
      "|  1733|3869|   2805|null|\n",
      "+------+----+-------+----+\n",
      "only showing top 20 rows\n",
      "\n"
     ]
    }
   ],
   "source": [
    "from pyspark.sql.functions import udf\n",
    "from pyspark.sql.types import FloatType, IntegerType\n",
    "\n",
    "calTotUdf = udf(lambda x,y,z: int(x)+int(y)+int(z), FloatType())\n",
    "\n",
    "covidDf.select(covidDf['jongno'],covidDf['mapo'],covidDf['yongsan'])\\\n",
    "    .withColumn('tot',calTotUdf(covidDf['jongno'],covidDf['mapo'],covidDf['yongsan']))\\\n",
    "    .show()"
   ]
  },
  {
   "cell_type": "markdown",
   "id": "b0cb0560",
   "metadata": {},
   "source": [
    "# 문제 3-3의 답"
   ]
  },
  {
   "cell_type": "code",
   "execution_count": 331,
   "id": "d7b07614",
   "metadata": {},
   "outputs": [
    {
     "name": "stdout",
     "output_type": "stream",
     "text": [
      "+-------------+------+\n",
      "|       jcg_dt|jongno|\n",
      "+-------------+------+\n",
      "|2020.03.31.10|    13|\n",
      "|2020.03.30.10|    13|\n",
      "|2020.03.29.10|    13|\n",
      "|2020.03.28.10|    13|\n",
      "|2020.03.27.00|    13|\n",
      "|2020.03.26.00|    13|\n",
      "|2020.03.25.00|    13|\n",
      "|2020.03.24.00|    12|\n",
      "|2020.03.23.00|    11|\n",
      "|2020.03.22.00|    11|\n",
      "|2020.03.21.00|    11|\n",
      "|2020.03.20.00|    11|\n",
      "|2020.03.19.00|    11|\n",
      "|2020.03.18.00|    11|\n",
      "|2020.03.17.10|    11|\n",
      "|2020.03.16.10|    11|\n",
      "|2020.03.15.10|    11|\n",
      "|2020.03.14.10|    11|\n",
      "|2020.03.13.10|    11|\n",
      "|2020.03.12.10|    11|\n",
      "+-------------+------+\n",
      "only showing top 20 rows\n",
      "\n"
     ]
    }
   ],
   "source": [
    "covidDf.select(covidDf['jcg_dt'],covidDf['jongno'])\\\n",
    "    .where(covidDf.jcg_dt.like(\"2020.03%\"))\\\n",
    "    .show()"
   ]
  },
  {
   "cell_type": "markdown",
   "id": "70516592",
   "metadata": {},
   "source": [
    "# 문제 3-4의 답"
   ]
  },
  {
   "cell_type": "code",
   "execution_count": 348,
   "id": "bdf6109d",
   "metadata": {},
   "outputs": [
    {
     "name": "stdout",
     "output_type": "stream",
     "text": [
      "+-----+---------------+---------------+\n",
      "|month|           2020|           2021|\n",
      "+-----+---------------+---------------+\n",
      "|   07|5.0229172869E13|5.0419339301E13|\n",
      "|   11| 4.860887697E13|           null|\n",
      "|   01|           null|5.0229172869E13|\n",
      "|   09| 4.860887697E13|4.8952317052E13|\n",
      "|   05|5.0229172869E13| 5.187804198E13|\n",
      "|   08|5.0229172869E13|5.0502369731E13|\n",
      "|   03|5.0229172869E13|5.0229172869E13|\n",
      "|   02| 3.240591798E12|4.5368285172E13|\n",
      "|   06| 4.860887697E13|   4.8713853E13|\n",
      "|   10|5.0229172869E13|3.7582770554E13|\n",
      "|   12|5.0229172869E13|           null|\n",
      "|   04| 4.860887697E13| 4.860887697E13|\n",
      "|     |           null|           null|\n",
      "+-----+---------------+---------------+\n",
      "\n"
     ]
    },
    {
     "ename": "AttributeError",
     "evalue": "'NoneType' object has no attribute 'withColumn'",
     "output_type": "error",
     "traceback": [
      "\u001b[1;31m---------------------------------------------------------------------------\u001b[0m",
      "\u001b[1;31mAttributeError\u001b[0m                            Traceback (most recent call last)",
      "\u001b[1;32m<ipython-input-348-5fccdeb887cb>\u001b[0m in \u001b[0;36m<module>\u001b[1;34m\u001b[0m\n\u001b[0;32m     10\u001b[0m             \u001b[1;33m.\u001b[0m\u001b[0mdrop\u001b[0m\u001b[1;33m(\u001b[0m\u001b[1;34m'20'\u001b[0m\u001b[1;33m)\u001b[0m\u001b[1;33m.\u001b[0m\u001b[0mshow\u001b[0m\u001b[1;33m(\u001b[0m\u001b[1;33m)\u001b[0m\u001b[1;33m\u001b[0m\u001b[1;33m\u001b[0m\u001b[0m\n\u001b[0;32m     11\u001b[0m \u001b[1;33m\u001b[0m\u001b[0m\n\u001b[1;32m---> 12\u001b[1;33m \u001b[0mtemp\u001b[0m\u001b[1;33m.\u001b[0m\u001b[0mwithColumn\u001b[0m\u001b[1;33m(\u001b[0m\u001b[1;34m'year'\u001b[0m\u001b[1;33m,\u001b[0m \u001b[0mcovidDf\u001b[0m\u001b[1;33m[\u001b[0m\u001b[1;34m'year'\u001b[0m\u001b[1;33m]\u001b[0m\u001b[1;33m.\u001b[0m\u001b[0mcast\u001b[0m\u001b[1;33m(\u001b[0m\u001b[1;34m\"integer\"\u001b[0m\u001b[1;33m)\u001b[0m\u001b[1;33m)\u001b[0m\u001b[0;31m\\\u001b[0m\u001b[1;33m\u001b[0m\u001b[1;33m\u001b[0m\u001b[0m\n\u001b[0m\u001b[0;32m     13\u001b[0m     \u001b[1;33m.\u001b[0m\u001b[0mwithColumn\u001b[0m\u001b[1;33m(\u001b[0m\u001b[1;34m'month'\u001b[0m\u001b[1;33m,\u001b[0m \u001b[0mcovidDf\u001b[0m\u001b[1;33m[\u001b[0m\u001b[1;34m'month'\u001b[0m\u001b[1;33m]\u001b[0m\u001b[1;33m.\u001b[0m\u001b[0mcast\u001b[0m\u001b[1;33m(\u001b[0m\u001b[1;34m\"integer\"\u001b[0m\u001b[1;33m)\u001b[0m\u001b[1;33m)\u001b[0m\u001b[1;33m\u001b[0m\u001b[1;33m\u001b[0m\u001b[0m\n",
      "\u001b[1;31mAttributeError\u001b[0m: 'NoneType' object has no attribute 'withColumn'"
     ]
    }
   ],
   "source": [
    "from pyspark.sql.types import StringType\n",
    "from pyspark.sql import functions as F\n",
    "\n",
    "sliceYear = udf(lambda x:x[:4], StringType())\n",
    "sliceMonth = udf(lambda x:x[5:7], StringType())\n",
    "\n",
    "temp = covidDf.withColumn('year',sliceYear(covidDf['jcg_dt']))\\\n",
    "            .withColumn('month',sliceMonth(covidDf['jcg_dt']))\\\n",
    "            .groupBy('month').pivot('year').sum()\\\n",
    "            .drop('20').show()\n",
    "\n",
    "temp.withColumn('year', covidDf['year'].cast(\"integer\"))\\\n",
    "    .withColumn('month', covidDf['month'].cast(\"integer\"))"
   ]
  },
  {
   "cell_type": "code",
   "execution_count": null,
   "id": "52c10b9c",
   "metadata": {},
   "outputs": [],
   "source": []
  }
 ],
 "metadata": {
  "kernelspec": {
   "display_name": "Python 3",
   "language": "python",
   "name": "python3"
  },
  "language_info": {
   "codemirror_mode": {
    "name": "ipython",
    "version": 3
   },
   "file_extension": ".py",
   "mimetype": "text/x-python",
   "name": "python",
   "nbconvert_exporter": "python",
   "pygments_lexer": "ipython3",
   "version": "3.8.8"
  }
 },
 "nbformat": 4,
 "nbformat_minor": 5
}
