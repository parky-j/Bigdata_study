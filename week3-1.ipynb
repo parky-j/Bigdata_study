{
 "cells": [
  {
   "cell_type": "code",
   "execution_count": 4,
   "id": "58353006",
   "metadata": {},
   "outputs": [],
   "source": [
    "import os\n",
    "import pyspark\n",
    "from src import mylib\n",
    "\n",
    "keyPath = os.path.join(os.getcwd(), 'src', 'key.properties')\n",
    "key=mylib.getKey(keyPath)\n",
    "_key=str(key['dataseoul'])"
   ]
  },
  {
   "cell_type": "code",
   "execution_count": 2,
   "id": "bbf398f1",
   "metadata": {},
   "outputs": [],
   "source": [
    "import requests\n",
    "import re\n",
    "busstopurl='http://openAPI.seoul.go.kr:8088/'+_key+'/xml/CardBusTimeNew/1/5/202107/7016'\n",
    "data=requests.get(busstopurl).text"
   ]
  },
  {
   "cell_type": "code",
   "execution_count": 3,
   "id": "6c0342e2",
   "metadata": {},
   "outputs": [
    {
     "name": "stdout",
     "output_type": "stream",
     "text": [
      "<?xml version=\"1.0\" encoding=\"UTF-8\"?>\n",
      "<CardBusTimeNew>\n",
      "<list_total_count>107</list_total_count>\n",
      "<RESULT>\n",
      "<CODE>INFO-000</CODE>\n",
      "<MESSAGE>정상 처리되었습니다</MESSAGE>\n",
      "</RESULT>\n",
      "<row>\n",
      "<USE_MON>202107</USE_MON>\n",
      "<BUS_ROUTE_NO>7016</BUS_ROUTE_NO>\n",
      "<BUS_ROUTE_NM>7016번(은평차고지~상명대)</BUS_ROUTE_NM>\n",
      "<STND_BSST_ID>111000907</STND_BSST_ID>\n",
      "<BSST_ARS_NO>35331</BSST_ARS_NO>\n",
      "<BUS_STA_NM>은평공영차고지</BUS_STA_NM>\n",
      "<MIDNIGHT_RIDE_NUM>0</MIDNIGHT_RIDE_NUM>\n",
      "<MIDNIGHT_ALIGHT_NUM>0</MIDNIGHT_ALIGHT_NUM>\n",
      "<ONE_RIDE_NUM>0</ONE_RIDE_NUM>\n",
      "<ONE_ALIGHT_NUM>0</ONE_ALIGHT_NUM>\n",
      "<TWO_RIDE_NUM>0</TWO_RIDE_NUM>\n",
      "<TWO_ALIGHT_NUM>0</TWO_ALIGHT_NUM>\n",
      "<THREE_RIDE_NUM>0</THREE_RIDE_NUM>\n",
      "<THREE_ALIGHT_NUM>0</THREE_ALIGHT_NUM>\n",
      "<FOUR_RIDE_NUM>23</FOUR_RIDE_NUM>\n",
      "<FOUR_ALIGHT_NUM>1</FOUR_ALIGHT_NUM>\n",
      "<FIVE_RIDE_NUM>11</FIVE_RIDE_NUM>\n",
      "<FIVE_ALIGHT_NUM>0</FIVE_ALIGHT_NUM>\n",
      "<SIX_RIDE_NUM>28</SIX_RIDE_NUM>\n",
      "<SIX_ALIGHT_NUM>0</SIX_ALIGHT_NUM>\n",
      "<SEVEN_RIDE_NUM>119</SEVEN_RIDE_NUM>\n",
      "<SEVEN_ALIGHT_NUM>1</SEVEN_ALIGHT_NUM>\n",
      "<EIGHT_RIDE_NUM>85</EIGHT_RIDE_NUM>\n",
      "<EIGHT_ALIGHT_NUM>0</EIGHT_ALIGHT_NUM>\n",
      "<NINE_RIDE_NUM>53</NINE_RIDE_NUM>\n",
      "<NINE_ALIGHT_NUM>1</NINE_ALIGHT_NUM>\n",
      "<TEN_RIDE_NUM>23</TEN_RIDE_NUM>\n",
      "<TEN_ALIGHT_NUM>0</TEN_ALIGHT_NUM>\n",
      "<ELEVEN_RIDE_NUM>29</ELEVEN_RIDE_NUM>\n",
      "<ELEVEN_ALIGHT_NUM>0</ELEVEN_ALIGHT_NUM>\n",
      "<TWELVE_RIDE_NUM>28</TWELVE_RIDE_NUM>\n",
      "<TWELVE_ALIGHT_NUM>1</TWELVE_ALIGHT_NUM>\n",
      "<THIRTEEN_RIDE_NUM>18</THIRTEEN_RIDE_NUM>\n",
      "<THIRTEEN_ALIGHT_NUM>0</THIRTEEN_ALIGHT_NUM>\n",
      "<FOURTEEN_RIDE_NUM>26</FOURTEEN_RIDE_NUM>\n",
      "<FOURTEEN_ALIGHT_NUM>0</FOURTEEN_ALIGHT_NUM>\n",
      "<FIFTEEN_RIDE_NUM>26</FIFTEEN_RIDE_NUM>\n",
      "<FIFTEEN_ALIGHT_NUM>2</FIFTEEN_ALIGHT_NUM>\n",
      "<SIXTEEN_RIDE_NUM>31</SIXTEEN_RIDE_NUM>\n",
      "<SIXTEEN_ALIGHT_NUM>1</SIXTEEN_ALIGHT_NUM>\n",
      "<SEVENTEEN_RIDE_NUM>76</SEVENTEEN_RIDE_NUM>\n",
      "<SEVENTEEN_ALIGHT_NUM>1</SEVENTEEN_ALIGHT_NUM>\n",
      "<EIGHTEEN_RIDE_NUM>43</EIGHTEEN_RIDE_NUM>\n",
      "<EIGHTEEN_ALIGHT_NUM>3</EIGHTEEN_ALIGHT_NUM>\n",
      "<NINETEEN_RIDE_NUM>27</NINETEEN_RIDE_NUM>\n",
      "<NINETEEN_ALIGHT_NUM>2</NINETEEN_ALIGHT_NUM>\n",
      "<TWENTY_RIDE_NUM>12</TWENTY_RIDE_NUM>\n",
      "<TWENTY_ALIGHT_NUM>2</TWENTY_ALIGHT_NUM>\n",
      "<TWENTY_ONE_RIDE_NUM>10</TWENTY_ONE_RIDE_NUM>\n",
      "<TWENTY_ONE_ALIGHT_NUM>0</TWENTY_ONE_ALIGHT_NUM>\n",
      "<TWENTY_TWO_RIDE_NUM>12</TWENTY_TWO_RIDE_NUM>\n",
      "<TWENTY_TWO_ALIGHT_NUM>0</TWENTY_TWO_ALIGHT_NUM>\n",
      "<TWENTY_THREE_RIDE_NUM>0</TWENTY_THREE_RIDE_NUM>\n",
      "<TWENTY_THREE_ALIGHT_NUM>0</TWENTY_THREE_ALIGHT_NUM>\n",
      "<WORK_DT>20210803</WORK_DT>\n",
      "</row>\n",
      "<row>\n",
      "<USE_MON>202107</USE_MON>\n",
      "<BUS_ROUTE_NO>7016</BUS_ROUTE_NO>\n",
      "<BUS_ROUTE_NM>7016번(은평차고지~상명대)</BUS_ROUTE_NM>\n",
      "<STND_BSST_ID>113000182</STND_BSST_ID>\n",
      "<BSST_ARS_NO>14273</BSST_ARS_NO>\n",
      "<BUS_STA_NM>월드컵경기장북측</BUS_STA_NM>\n",
      "<MIDNIGHT_RIDE_NUM>0</MIDNIGHT_RIDE_NUM>\n",
      "<MIDNIGHT_ALIGHT_NUM>0</MIDNIGHT_ALIGHT_NUM>\n",
      "<ONE_RIDE_NUM>0</ONE_RIDE_NUM>\n",
      "<ONE_ALIGHT_NUM>0</ONE_ALIGHT_NUM>\n",
      "<TWO_RIDE_NUM>0</TWO_RIDE_NUM>\n",
      "<TWO_ALIGHT_NUM>0</TWO_ALIGHT_NUM>\n",
      "<THREE_RIDE_NUM>0</THREE_RIDE_NUM>\n",
      "<THREE_ALIGHT_NUM>0</THREE_ALIGHT_NUM>\n",
      "<FOUR_RIDE_NUM>29</FOUR_RIDE_NUM>\n",
      "<FOUR_ALIGHT_NUM>0</FOUR_ALIGHT_NUM>\n",
      "<FIVE_RIDE_NUM>3</FIVE_RIDE_NUM>\n",
      "<FIVE_ALIGHT_NUM>1</FIVE_ALIGHT_NUM>\n",
      "<SIX_RIDE_NUM>9</SIX_RIDE_NUM>\n",
      "<SIX_ALIGHT_NUM>6</SIX_ALIGHT_NUM>\n",
      "<SEVEN_RIDE_NUM>23</SEVEN_RIDE_NUM>\n",
      "<SEVEN_ALIGHT_NUM>75</SEVEN_ALIGHT_NUM>\n",
      "<EIGHT_RIDE_NUM>47</EIGHT_RIDE_NUM>\n",
      "<EIGHT_ALIGHT_NUM>125</EIGHT_ALIGHT_NUM>\n",
      "<NINE_RIDE_NUM>27</NINE_RIDE_NUM>\n",
      "<NINE_ALIGHT_NUM>35</NINE_ALIGHT_NUM>\n",
      "<TEN_RIDE_NUM>33</TEN_RIDE_NUM>\n",
      "<TEN_ALIGHT_NUM>33</TEN_ALIGHT_NUM>\n",
      "<ELEVEN_RIDE_NUM>19</ELEVEN_RIDE_NUM>\n",
      "<ELEVEN_ALIGHT_NUM>38</ELEVEN_ALIGHT_NUM>\n",
      "<TWELVE_RIDE_NUM>25</TWELVE_RIDE_NUM>\n",
      "<TWELVE_ALIGHT_NUM>29</TWELVE_ALIGHT_NUM>\n",
      "<THIRTEEN_RIDE_NUM>24</THIRTEEN_RIDE_NUM>\n",
      "<THIRTEEN_ALIGHT_NUM>48</THIRTEEN_ALIGHT_NUM>\n",
      "<FOURTEEN_RIDE_NUM>15</FOURTEEN_RIDE_NUM>\n",
      "<FOURTEEN_ALIGHT_NUM>61</FOURTEEN_ALIGHT_NUM>\n",
      "<FIFTEEN_RIDE_NUM>39</FIFTEEN_RIDE_NUM>\n",
      "<FIFTEEN_ALIGHT_NUM>44</FIFTEEN_ALIGHT_NUM>\n",
      "<SIXTEEN_RIDE_NUM>56</SIXTEEN_RIDE_NUM>\n",
      "<SIXTEEN_ALIGHT_NUM>56</SIXTEEN_ALIGHT_NUM>\n",
      "<SEVENTEEN_RIDE_NUM>49</SEVENTEEN_RIDE_NUM>\n",
      "<SEVENTEEN_ALIGHT_NUM>68</SEVENTEEN_ALIGHT_NUM>\n",
      "<EIGHTEEN_RIDE_NUM>69</EIGHTEEN_RIDE_NUM>\n",
      "<EIGHTEEN_ALIGHT_NUM>101</EIGHTEEN_ALIGHT_NUM>\n",
      "<NINETEEN_RIDE_NUM>58</NINETEEN_RIDE_NUM>\n",
      "<NINETEEN_ALIGHT_NUM>25</NINETEEN_ALIGHT_NUM>\n",
      "<TWENTY_RIDE_NUM>18</TWENTY_RIDE_NUM>\n",
      "<TWENTY_ALIGHT_NUM>33</TWENTY_ALIGHT_NUM>\n",
      "<TWENTY_ONE_RIDE_NUM>27</TWENTY_ONE_RIDE_NUM>\n",
      "<TWENTY_ONE_ALIGHT_NUM>25</TWENTY_ONE_ALIGHT_NUM>\n",
      "<TWENTY_TWO_RIDE_NUM>21</TWENTY_TWO_RIDE_NUM>\n",
      "<TWENTY_TWO_ALIGHT_NUM>21</TWENTY_TWO_ALIGHT_NUM>\n",
      "<TWENTY_THREE_RIDE_NUM>0</TWENTY_THREE_RIDE_NUM>\n",
      "<TWENTY_THREE_ALIGHT_NUM>0</TWENTY_THREE_ALIGHT_NUM>\n",
      "<WORK_DT>20210803</WORK_DT>\n",
      "</row>\n",
      "<row>\n",
      "<USE_MON>202107</USE_MON>\n",
      "<BUS_ROUTE_NO>7016</BUS_ROUTE_NO>\n",
      "<BUS_ROUTE_NM>7016번(은평차고지~상명대)</BUS_ROUTE_NM>\n",
      "<STND_BSST_ID>113000076</STND_BSST_ID>\n",
      "<BSST_ARS_NO>14167</BSST_ARS_NO>\n",
      "<BUS_STA_NM>상암초등학교</BUS_STA_NM>\n",
      "<MIDNIGHT_RIDE_NUM>3</MIDNIGHT_RIDE_NUM>\n",
      "<MIDNIGHT_ALIGHT_NUM>25</MIDNIGHT_ALIGHT_NUM>\n",
      "<ONE_RIDE_NUM>0</ONE_RIDE_NUM>\n",
      "<ONE_ALIGHT_NUM>0</ONE_ALIGHT_NUM>\n",
      "<TWO_RIDE_NUM>0</TWO_RIDE_NUM>\n",
      "<TWO_ALIGHT_NUM>0</TWO_ALIGHT_NUM>\n",
      "<THREE_RIDE_NUM>0</THREE_RIDE_NUM>\n",
      "<THREE_ALIGHT_NUM>0</THREE_ALIGHT_NUM>\n",
      "<FOUR_RIDE_NUM>0</FOUR_RIDE_NUM>\n",
      "<FOUR_ALIGHT_NUM>0</FOUR_ALIGHT_NUM>\n",
      "<FIVE_RIDE_NUM>0</FIVE_RIDE_NUM>\n",
      "<FIVE_ALIGHT_NUM>0</FIVE_ALIGHT_NUM>\n",
      "<SIX_RIDE_NUM>0</SIX_RIDE_NUM>\n",
      "<SIX_ALIGHT_NUM>7</SIX_ALIGHT_NUM>\n",
      "<SEVEN_RIDE_NUM>13</SEVEN_RIDE_NUM>\n",
      "<SEVEN_ALIGHT_NUM>192</SEVEN_ALIGHT_NUM>\n",
      "<EIGHT_RIDE_NUM>39</EIGHT_RIDE_NUM>\n",
      "<EIGHT_ALIGHT_NUM>763</EIGHT_ALIGHT_NUM>\n",
      "<NINE_RIDE_NUM>27</NINE_RIDE_NUM>\n",
      "<NINE_ALIGHT_NUM>435</NINE_ALIGHT_NUM>\n",
      "<TEN_RIDE_NUM>12</TEN_RIDE_NUM>\n",
      "<TEN_ALIGHT_NUM>282</TEN_ALIGHT_NUM>\n",
      "<ELEVEN_RIDE_NUM>26</ELEVEN_RIDE_NUM>\n",
      "<ELEVEN_ALIGHT_NUM>238</ELEVEN_ALIGHT_NUM>\n",
      "<TWELVE_RIDE_NUM>25</TWELVE_RIDE_NUM>\n",
      "<TWELVE_ALIGHT_NUM>212</TWELVE_ALIGHT_NUM>\n",
      "<THIRTEEN_RIDE_NUM>35</THIRTEEN_RIDE_NUM>\n",
      "<THIRTEEN_ALIGHT_NUM>182</THIRTEEN_ALIGHT_NUM>\n",
      "<FOURTEEN_RIDE_NUM>27</FOURTEEN_RIDE_NUM>\n",
      "<FOURTEEN_ALIGHT_NUM>227</FOURTEEN_ALIGHT_NUM>\n",
      "<FIFTEEN_RIDE_NUM>19</FIFTEEN_RIDE_NUM>\n",
      "<FIFTEEN_ALIGHT_NUM>246</FIFTEEN_ALIGHT_NUM>\n",
      "<SIXTEEN_RIDE_NUM>31</SIXTEEN_RIDE_NUM>\n",
      "<SIXTEEN_ALIGHT_NUM>214</SIXTEEN_ALIGHT_NUM>\n",
      "<SEVENTEEN_RIDE_NUM>18</SEVENTEEN_RIDE_NUM>\n",
      "<SEVENTEEN_ALIGHT_NUM>254</SEVENTEEN_ALIGHT_NUM>\n",
      "<EIGHTEEN_RIDE_NUM>30</EIGHTEEN_RIDE_NUM>\n",
      "<EIGHTEEN_ALIGHT_NUM>319</EIGHTEEN_ALIGHT_NUM>\n",
      "<NINETEEN_RIDE_NUM>23</NINETEEN_RIDE_NUM>\n",
      "<NINETEEN_ALIGHT_NUM>265</NINETEEN_ALIGHT_NUM>\n",
      "<TWENTY_RIDE_NUM>31</TWENTY_RIDE_NUM>\n",
      "<TWENTY_ALIGHT_NUM>189</TWENTY_ALIGHT_NUM>\n",
      "<TWENTY_ONE_RIDE_NUM>24</TWENTY_ONE_RIDE_NUM>\n",
      "<TWENTY_ONE_ALIGHT_NUM>127</TWENTY_ONE_ALIGHT_NUM>\n",
      "<TWENTY_TWO_RIDE_NUM>21</TWENTY_TWO_RIDE_NUM>\n",
      "<TWENTY_TWO_ALIGHT_NUM>158</TWENTY_TWO_ALIGHT_NUM>\n",
      "<TWENTY_THREE_RIDE_NUM>6</TWENTY_THREE_RIDE_NUM>\n",
      "<TWENTY_THREE_ALIGHT_NUM>70</TWENTY_THREE_ALIGHT_NUM>\n",
      "<WORK_DT>20210803</WORK_DT>\n",
      "</row>\n",
      "<row>\n",
      "<USE_MON>202107</USE_MON>\n",
      "<BUS_ROUTE_NO>7016</BUS_ROUTE_NO>\n",
      "<BUS_ROUTE_NM>7016번(은평차고지~상명대)</BUS_ROUTE_NM>\n",
      "<STND_BSST_ID>113000028</STND_BSST_ID>\n",
      "<BSST_ARS_NO>14118</BSST_ARS_NO>\n",
      "<BUS_STA_NM>월드컵파크2단지.에스플렉스센터</BUS_STA_NM>\n",
      "<MIDNIGHT_RIDE_NUM>1</MIDNIGHT_RIDE_NUM>\n",
      "<MIDNIGHT_ALIGHT_NUM>24</MIDNIGHT_ALIGHT_NUM>\n",
      "<ONE_RIDE_NUM>0</ONE_RIDE_NUM>\n",
      "<ONE_ALIGHT_NUM>0</ONE_ALIGHT_NUM>\n",
      "<TWO_RIDE_NUM>0</TWO_RIDE_NUM>\n",
      "<TWO_ALIGHT_NUM>0</TWO_ALIGHT_NUM>\n",
      "<THREE_RIDE_NUM>0</THREE_RIDE_NUM>\n",
      "<THREE_ALIGHT_NUM>0</THREE_ALIGHT_NUM>\n",
      "<FOUR_RIDE_NUM>0</FOUR_RIDE_NUM>\n",
      "<FOUR_ALIGHT_NUM>0</FOUR_ALIGHT_NUM>\n",
      "<FIVE_RIDE_NUM>0</FIVE_RIDE_NUM>\n",
      "<FIVE_ALIGHT_NUM>0</FIVE_ALIGHT_NUM>\n",
      "<SIX_RIDE_NUM>0</SIX_RIDE_NUM>\n",
      "<SIX_ALIGHT_NUM>18</SIX_ALIGHT_NUM>\n",
      "<SEVEN_RIDE_NUM>6</SEVEN_RIDE_NUM>\n",
      "<SEVEN_ALIGHT_NUM>576</SEVEN_ALIGHT_NUM>\n",
      "<EIGHT_RIDE_NUM>9</EIGHT_RIDE_NUM>\n",
      "<EIGHT_ALIGHT_NUM>2095</EIGHT_ALIGHT_NUM>\n",
      "<NINE_RIDE_NUM>5</NINE_RIDE_NUM>\n",
      "<NINE_ALIGHT_NUM>1215</NINE_ALIGHT_NUM>\n",
      "<TEN_RIDE_NUM>14</TEN_RIDE_NUM>\n",
      "<TEN_ALIGHT_NUM>522</TEN_ALIGHT_NUM>\n",
      "<ELEVEN_RIDE_NUM>13</ELEVEN_RIDE_NUM>\n",
      "<ELEVEN_ALIGHT_NUM>295</ELEVEN_ALIGHT_NUM>\n",
      "<TWELVE_RIDE_NUM>9</TWELVE_RIDE_NUM>\n",
      "<TWELVE_ALIGHT_NUM>275</TWELVE_ALIGHT_NUM>\n",
      "<THIRTEEN_RIDE_NUM>17</THIRTEEN_RIDE_NUM>\n",
      "<THIRTEEN_ALIGHT_NUM>297</THIRTEEN_ALIGHT_NUM>\n",
      "<FOURTEEN_RIDE_NUM>8</FOURTEEN_RIDE_NUM>\n",
      "<FOURTEEN_ALIGHT_NUM>261</FOURTEEN_ALIGHT_NUM>\n",
      "<FIFTEEN_RIDE_NUM>9</FIFTEEN_RIDE_NUM>\n",
      "<FIFTEEN_ALIGHT_NUM>257</FIFTEEN_ALIGHT_NUM>\n",
      "<SIXTEEN_RIDE_NUM>18</SIXTEEN_RIDE_NUM>\n",
      "<SIXTEEN_ALIGHT_NUM>220</SIXTEEN_ALIGHT_NUM>\n",
      "<SEVENTEEN_RIDE_NUM>22</SEVENTEEN_RIDE_NUM>\n",
      "<SEVENTEEN_ALIGHT_NUM>212</SEVENTEEN_ALIGHT_NUM>\n",
      "<EIGHTEEN_RIDE_NUM>85</EIGHTEEN_RIDE_NUM>\n",
      "<EIGHTEEN_ALIGHT_NUM>232</EIGHTEEN_ALIGHT_NUM>\n",
      "<NINETEEN_RIDE_NUM>30</NINETEEN_RIDE_NUM>\n",
      "<NINETEEN_ALIGHT_NUM>244</NINETEEN_ALIGHT_NUM>\n",
      "<TWENTY_RIDE_NUM>26</TWENTY_RIDE_NUM>\n",
      "<TWENTY_ALIGHT_NUM>150</TWENTY_ALIGHT_NUM>\n",
      "<TWENTY_ONE_RIDE_NUM>10</TWENTY_ONE_RIDE_NUM>\n",
      "<TWENTY_ONE_ALIGHT_NUM>139</TWENTY_ONE_ALIGHT_NUM>\n",
      "<TWENTY_TWO_RIDE_NUM>26</TWENTY_TWO_RIDE_NUM>\n",
      "<TWENTY_TWO_ALIGHT_NUM>168</TWENTY_TWO_ALIGHT_NUM>\n",
      "<TWENTY_THREE_RIDE_NUM>2</TWENTY_THREE_RIDE_NUM>\n",
      "<TWENTY_THREE_ALIGHT_NUM>70</TWENTY_THREE_ALIGHT_NUM>\n",
      "<WORK_DT>20210803</WORK_DT>\n",
      "</row>\n",
      "<row>\n",
      "<USE_MON>202107</USE_MON>\n",
      "<BUS_ROUTE_NO>7016</BUS_ROUTE_NO>\n",
      "<BUS_ROUTE_NM>7016번(은평차고지~상명대)</BUS_ROUTE_NM>\n",
      "<STND_BSST_ID>113000017</STND_BSST_ID>\n",
      "<BSST_ARS_NO>14107</BSST_ARS_NO>\n",
      "<BUS_STA_NM>월드컵파크3단지.난지천공원</BUS_STA_NM>\n",
      "<MIDNIGHT_RIDE_NUM>0</MIDNIGHT_RIDE_NUM>\n",
      "<MIDNIGHT_ALIGHT_NUM>27</MIDNIGHT_ALIGHT_NUM>\n",
      "<ONE_RIDE_NUM>0</ONE_RIDE_NUM>\n",
      "<ONE_ALIGHT_NUM>0</ONE_ALIGHT_NUM>\n",
      "<TWO_RIDE_NUM>0</TWO_RIDE_NUM>\n",
      "<TWO_ALIGHT_NUM>0</TWO_ALIGHT_NUM>\n",
      "<THREE_RIDE_NUM>0</THREE_RIDE_NUM>\n",
      "<THREE_ALIGHT_NUM>0</THREE_ALIGHT_NUM>\n",
      "<FOUR_RIDE_NUM>0</FOUR_RIDE_NUM>\n",
      "<FOUR_ALIGHT_NUM>0</FOUR_ALIGHT_NUM>\n",
      "<FIVE_RIDE_NUM>0</FIVE_RIDE_NUM>\n",
      "<FIVE_ALIGHT_NUM>0</FIVE_ALIGHT_NUM>\n",
      "<SIX_RIDE_NUM>1</SIX_RIDE_NUM>\n",
      "<SIX_ALIGHT_NUM>3</SIX_ALIGHT_NUM>\n",
      "<SEVEN_RIDE_NUM>2</SEVEN_RIDE_NUM>\n",
      "<SEVEN_ALIGHT_NUM>32</SEVEN_ALIGHT_NUM>\n",
      "<EIGHT_RIDE_NUM>9</EIGHT_RIDE_NUM>\n",
      "<EIGHT_ALIGHT_NUM>52</EIGHT_ALIGHT_NUM>\n",
      "<NINE_RIDE_NUM>7</NINE_RIDE_NUM>\n",
      "<NINE_ALIGHT_NUM>46</NINE_ALIGHT_NUM>\n",
      "<TEN_RIDE_NUM>5</TEN_RIDE_NUM>\n",
      "<TEN_ALIGHT_NUM>41</TEN_ALIGHT_NUM>\n",
      "<ELEVEN_RIDE_NUM>4</ELEVEN_RIDE_NUM>\n",
      "<ELEVEN_ALIGHT_NUM>56</ELEVEN_ALIGHT_NUM>\n",
      "<TWELVE_RIDE_NUM>8</TWELVE_RIDE_NUM>\n",
      "<TWELVE_ALIGHT_NUM>47</TWELVE_ALIGHT_NUM>\n",
      "<THIRTEEN_RIDE_NUM>10</THIRTEEN_RIDE_NUM>\n",
      "<THIRTEEN_ALIGHT_NUM>70</THIRTEEN_ALIGHT_NUM>\n",
      "<FOURTEEN_RIDE_NUM>10</FOURTEEN_RIDE_NUM>\n",
      "<FOURTEEN_ALIGHT_NUM>71</FOURTEEN_ALIGHT_NUM>\n",
      "<FIFTEEN_RIDE_NUM>11</FIFTEEN_RIDE_NUM>\n",
      "<FIFTEEN_ALIGHT_NUM>79</FIFTEEN_ALIGHT_NUM>\n",
      "<SIXTEEN_RIDE_NUM>8</SIXTEEN_RIDE_NUM>\n",
      "<SIXTEEN_ALIGHT_NUM>47</SIXTEEN_ALIGHT_NUM>\n",
      "<SEVENTEEN_RIDE_NUM>7</SEVENTEEN_RIDE_NUM>\n",
      "<SEVENTEEN_ALIGHT_NUM>64</SEVENTEEN_ALIGHT_NUM>\n",
      "<EIGHTEEN_RIDE_NUM>7</EIGHTEEN_RIDE_NUM>\n",
      "<EIGHTEEN_ALIGHT_NUM>79</EIGHTEEN_ALIGHT_NUM>\n",
      "<NINETEEN_RIDE_NUM>3</NINETEEN_RIDE_NUM>\n",
      "<NINETEEN_ALIGHT_NUM>82</NINETEEN_ALIGHT_NUM>\n",
      "<TWENTY_RIDE_NUM>3</TWENTY_RIDE_NUM>\n",
      "<TWENTY_ALIGHT_NUM>58</TWENTY_ALIGHT_NUM>\n",
      "<TWENTY_ONE_RIDE_NUM>2</TWENTY_ONE_RIDE_NUM>\n",
      "<TWENTY_ONE_ALIGHT_NUM>52</TWENTY_ONE_ALIGHT_NUM>\n",
      "<TWENTY_TWO_RIDE_NUM>2</TWENTY_TWO_RIDE_NUM>\n",
      "<TWENTY_TWO_ALIGHT_NUM>66</TWENTY_TWO_ALIGHT_NUM>\n",
      "<TWENTY_THREE_RIDE_NUM>0</TWENTY_THREE_RIDE_NUM>\n",
      "<TWENTY_THREE_ALIGHT_NUM>27</TWENTY_THREE_ALIGHT_NUM>\n",
      "<WORK_DT>20210803</WORK_DT>\n",
      "</row>\n",
      "</CardBusTimeNew>\n",
      "\n"
     ]
    }
   ],
   "source": [
    "print(data)"
   ]
  },
  {
   "cell_type": "code",
   "execution_count": 8,
   "id": "ecbd9aaa",
   "metadata": {},
   "outputs": [
    {
     "name": "stdout",
     "output_type": "stream",
     "text": [
      "은평공영차고지\n",
      "월드컵경기장북측\n",
      "상암초등학교\n",
      "월드컵파크2단지.에스플렉스센터\n",
      "월드컵파크3단지.난지천공원\n"
     ]
    }
   ],
   "source": [
    "import re\n",
    "p=re.compile('<BUS_STA_NM>(.+?)</BUS_STA_NM>')\n",
    "res=p.findall(data)\n",
    "for item in res:\n",
    "    print (item)"
   ]
  },
  {
   "cell_type": "code",
   "execution_count": 9,
   "id": "eff92a97",
   "metadata": {},
   "outputs": [
    {
     "name": "stdout",
     "output_type": "stream",
     "text": [
      "0, 0, 0, 0, 0, 0, 0, 0, 23, 1, 11, 0, 28, 0, 119, 1, 85, 0, 53, 1, 23, 0, 29, 0, 28, 1, 18, 0, 26, 0, 26, 2, 31, 1, 76, 1, 43, 3, 27, 2, 12, 2, 10, 0, 12, 0, 0, 0, 0, 0, 0, 0, 0, 0, 0, 0, 29, 0, 3, 1, 9, 6, 23, 75, 47, 125, 27, 35, 33, 33, 19, 38, 25, 29, 24, 48, 15, 61, 39, 44, 56, 56, 49, 68, 69, 101, 58, 25, 18, 33, 27, 25, 21, 21, 0, 0, 3, 25, 0, 0, 0, 0, 0, 0, 0, 0, 0, 0, 0, 7, 13, 192, 39, 763, 27, 435, 12, 282, 26, 238, 25, 212, 35, 182, 27, 227, 19, 246, 31, 214, 18, 254, 30, 319, 23, 265, 31, 189, 24, 127, 21, 158, 6, 70, 1, 24, 0, 0, 0, 0, 0, 0, 0, 0, 0, 0, 0, 18, 6, 576, 9, 2095, 5, 1215, 14, 522, 13, 295, 9, 275, 17, 297, 8, 261, 9, 257, 18, 220, 22, 212, 85, 232, 30, 244, 26, 150, 10, 139, 26, 168, 2, 70, 0, 27, 0, 0, 0, 0, 0, 0, 0, 0, 0, 0, 1, 3, 2, 32, 9, 52, 7, 46, 5, 41, 4, 56, 8, 47, 10, 70, 10, 71, 11, 79, 8, 47, 7, 64, 7, 79, 3, 82, 3, 58, 2, 52, 2, 66, 0, 27, "
     ]
    }
   ],
   "source": [
    "p=re.compile('<.*_NUM>(\\d+)</.*_NUM>')\n",
    "res=p.findall(data)\n",
    "for item in res:\n",
    "    print (item, end=\", \")"
   ]
  },
  {
   "cell_type": "code",
   "execution_count": 10,
   "id": "5276b614",
   "metadata": {},
   "outputs": [
    {
     "name": "stdout",
     "output_type": "stream",
     "text": [
      "Writing src/ds_open_cardBusTime.py\n"
     ]
    }
   ],
   "source": [
    "%%writefile src/ds_open_cardBusTime.py\n",
    "# coding: utf-8\n",
    "import os\n",
    "import mylib # NOTE: do not use 'from src import mylib'\n",
    "import requests\n",
    "import re\n",
    "\n",
    "def doIt():\n",
    "    keyPath=os.path.join(os.getcwd(), 'src', 'key.properties')\n",
    "    key=mylib.getKey(keyPath)\n",
    "    _key=str(key['dataseoul'])\n",
    "\n",
    "    busstopurl='http://openAPI.seoul.go.kr:8088/'+_key+'/xml/CardBusTimeNew/1/5/202107/7016'\n",
    "    data=requests.get(busstopurl).text\n",
    "    p=re.compile('<BUS_STA_NM>(.+?)</BUS_STA_NM>')\n",
    "    res=p.findall(data)\n",
    "    for item in res:\n",
    "        print (item)\n",
    "\n",
    "    p=re.compile('<.*_NUM>(\\d+)</.*_NUM>')\n",
    "    res=p.findall(data)\n",
    "    print(\" \".join(res))\n",
    "if __name__ == \"__main__\":\n",
    "    doIt()"
   ]
  },
  {
   "cell_type": "code",
   "execution_count": 12,
   "id": "265f81ed",
   "metadata": {},
   "outputs": [
    {
     "name": "stdout",
     "output_type": "stream",
     "text": [
      "은평공영차고지\n",
      "월드컵경기장북측\n",
      "상암초등학교\n",
      "월드컵파크2단지.에스플렉스센터\n",
      "월드컵파크3단지.난지천공원\n",
      "0 0 0 0 0 0 0 0 23 1 11 0 28 0 119 1 85 0 53 1 23 0 29 0 28 1 18 0 26 0 26 2 31 1 76 1 43 3 27 2 12 2 10 0 12 0 0 0 0 0 0 0 0 0 0 0 29 0 3 1 9 6 23 75 47 125 27 35 33 33 19 38 25 29 24 48 15 61 39 44 56 56 49 68 69 101 58 25 18 33 27 25 21 21 0 0 3 25 0 0 0 0 0 0 0 0 0 0 0 7 13 192 39 763 27 435 12 282 26 238 25 212 35 182 27 227 19 246 31 214 18 254 30 319 23 265 31 189 24 127 21 158 6 70 1 24 0 0 0 0 0 0 0 0 0 0 0 18 6 576 9 2095 5 1215 14 522 13 295 9 275 17 297 8 261 9 257 18 220 22 212 85 232 30 244 26 150 10 139 26 168 2 70 0 27 0 0 0 0 0 0 0 0 0 0 1 3 2 32 9 52 7 46 5 41 4 56 8 47 10 70 10 71 11 79 8 47 7 64 7 79 3 82 3 58 2 52 2 66 0 27\n"
     ]
    }
   ],
   "source": [
    "!python src/ds_open_cardBusTime.py"
   ]
  },
  {
   "cell_type": "code",
   "execution_count": 13,
   "id": "b9a5b65a",
   "metadata": {},
   "outputs": [],
   "source": [
    "import os\n",
    "from src import mylib\n",
    "\n",
    "keyPath=os.path.join(os.getcwd(), 'src', 'key.properties')\n",
    "key=mylib.getKey(keyPath)\n",
    "KEY=key['dataseoul']"
   ]
  },
  {
   "cell_type": "code",
   "execution_count": 14,
   "id": "cc262ea2",
   "metadata": {},
   "outputs": [],
   "source": [
    "import os\n",
    "\n",
    "TYPE='json'\n",
    "SERVICE='VwsmTrdarFlpopQq'\n",
    "START_INDEX=str(1)\n",
    "END_INDEX=str(10)\n",
    "STDR_YM_CD=str(2017)\n",
    "params=os.path.join(KEY,TYPE,SERVICE,START_INDEX,END_INDEX,STDR_YM_CD)"
   ]
  },
  {
   "cell_type": "code",
   "execution_count": 15,
   "id": "d97897e2",
   "metadata": {},
   "outputs": [
    {
     "data": {
      "text/plain": [
       "'4c6958686968616e38377a6b6e7652\\\\json\\\\VwsmTrdarFlpopQq\\\\1\\\\10\\\\2017'"
      ]
     },
     "execution_count": 15,
     "metadata": {},
     "output_type": "execute_result"
    }
   ],
   "source": [
    "params"
   ]
  },
  {
   "cell_type": "code",
   "execution_count": 16,
   "id": "9d9bac13",
   "metadata": {},
   "outputs": [],
   "source": [
    "import urllib.parse\n",
    "\n",
    "_url='http://openAPI.seoul.go.kr:8088/'\n",
    "url=urllib.parse.urljoin(_url,params)"
   ]
  },
  {
   "cell_type": "code",
   "execution_count": 18,
   "id": "39232831",
   "metadata": {},
   "outputs": [
    {
     "name": "stdout",
     "output_type": "stream",
     "text": [
      "http://openAPI.seoul.go.kr:8088/4c6958686968616e38377a6b6e7652\\json\\VwsmTrdarFlpopQq\\1\\10\\2017\n"
     ]
    }
   ],
   "source": [
    "print(url)"
   ]
  },
  {
   "cell_type": "code",
   "execution_count": 21,
   "id": "1dceb84a",
   "metadata": {},
   "outputs": [
    {
     "name": "stdout",
     "output_type": "stream",
     "text": [
      "Writing src/ds_open_trade_json.py\n"
     ]
    }
   ],
   "source": [
    "%%writefile src/ds_open_trade_json.py\n",
    "#!/usr/bin/env python\n",
    "# coding: utf-8\n",
    "import os\n",
    "import requests\n",
    "import urllib\n",
    "import mylib\n",
    "\n",
    "def doIt():\n",
    "    keyPath=os.path.join(os.getcwd(), 'src', 'key.properties')\n",
    "    key=mylib.getKey(keyPath)\n",
    "    # (1) make params with resource IDs\n",
    "    KEY=key['dataseoul']\n",
    "    TYPE='json'\n",
    "    SERVICE='VwsmTrdarFlpopQq'\n",
    "    START_INDEX=str(1)\n",
    "    END_INDEX=str(10)\n",
    "    STDR_YM_CD=str(2017)\n",
    "    params=os.path.join(KEY,TYPE,SERVICE,START_INDEX,END_INDEX,STDR_YM_CD)\n",
    "    # (2) make a full url\n",
    "    _url='http://openAPI.seoul.go.kr:8088'\n",
    "    #url=urllib.parse.urljoin(_url,params)\n",
    "    url=\"/\".join([_url,params])\n",
    "    # (3) get data\n",
    "    r=requests.get(url)\n",
    "    trade=r.json()\n",
    "    for e in trade['VwsmTrdarFlpopQq']['row']:\n",
    "        #print(e['TRDAR_CD_NM'])\n",
    "        print (e['TRDAR_CD'], e['TRDAR_CD_NM'], e['TOT_FLPOP_CO'], e['ML_FLPOP_CO'], e['FML_FLPOP_CO'])\n",
    "    #for e in stations['SearchSTNBySubwayLineService']['row']:\n",
    "        #print e['STATION_CD'], e['STATION_NM'], e['FR_CODE'], e['LINE_NUM']\n",
    "\n",
    "if __name__ == \"__main__\":\n",
    "    doIt()"
   ]
  },
  {
   "cell_type": "code",
   "execution_count": 23,
   "id": "4411c5cf",
   "metadata": {
    "scrolled": true
   },
   "outputs": [
    {
     "name": "stderr",
     "output_type": "stream",
     "text": [
      "Traceback (most recent call last):\n",
      "  File \"src/ds_open_trade_json.py\", line 33, in <module>\n",
      "    doIt()\n",
      "  File \"src/ds_open_trade_json.py\", line 25, in doIt\n",
      "    trade=r.json()\n",
      "  File \"C:\\Users\\user\\anaconda3\\lib\\site-packages\\requests\\models.py\", line 900, in json\n",
      "    return complexjson.loads(self.text, **kwargs)\n",
      "  File \"C:\\Users\\user\\anaconda3\\lib\\json\\__init__.py\", line 357, in loads\n",
      "    return _default_decoder.decode(s)\n",
      "  File \"C:\\Users\\user\\anaconda3\\lib\\json\\decoder.py\", line 337, in decode\n",
      "    obj, end = self.raw_decode(s, idx=_w(s, 0).end())\n",
      "  File \"C:\\Users\\user\\anaconda3\\lib\\json\\decoder.py\", line 355, in raw_decode\n",
      "    raise JSONDecodeError(\"Expecting value\", s, err.value) from None\n",
      "json.decoder.JSONDecodeError: Expecting value: line 1 column 1 (char 0)\n"
     ]
    }
   ],
   "source": [
    "!python src/ds_open_trade_json.py"
   ]
  },
  {
   "cell_type": "markdown",
   "id": "6935d942",
   "metadata": {},
   "source": [
    "# 공공데이터"
   ]
  },
  {
   "cell_type": "code",
   "execution_count": 24,
   "id": "99bba433",
   "metadata": {},
   "outputs": [],
   "source": [
    "import os\n",
    "from src import mylib\n",
    "keyPath=os.path.join(os.getcwd(), 'src', 'key.properties')\n",
    "key=mylib.getKey(keyPath)"
   ]
  },
  {
   "cell_type": "code",
   "execution_count": 25,
   "id": "2ace9832",
   "metadata": {},
   "outputs": [
    {
     "name": "stdout",
     "output_type": "stream",
     "text": [
      "AccidentDeath\\getRestTrafficAccidentDeath\n"
     ]
    }
   ],
   "source": [
    "import os\n",
    "SERVICE='AccidentDeath'\n",
    "OPERATION_NAME='getRestTrafficAccidentDeath'\n",
    "params1=os.path.join(SERVICE,OPERATION_NAME)\n",
    "print (params1)"
   ]
  },
  {
   "cell_type": "code",
   "execution_count": 26,
   "id": "26329843",
   "metadata": {},
   "outputs": [
    {
     "name": "stdout",
     "output_type": "stream",
     "text": [
      "searchYear=2020&siDo=1100&guGun=1116&numOfRows=20&pageNo=1\n"
     ]
    }
   ],
   "source": [
    "import urllib\n",
    "_d=dict()\n",
    "_d['searchYear']='2020'\n",
    "_d['siDo']='1100' #서울특별시\n",
    "_d['guGun']='1116'\n",
    "_d['numOfRows']='20'\n",
    "_d['pageNo']='1'\n",
    "#params2=urllib.urlencode(_d)\n",
    "#params2=urllib.parse.urlencode(_d).encode(\"utf-8\")\n",
    "params2=urllib.parse.urlencode(_d)\n",
    "print (params2)"
   ]
  },
  {
   "cell_type": "code",
   "execution_count": 27,
   "id": "15f2072a",
   "metadata": {},
   "outputs": [],
   "source": [
    "params=params1+'?'+'serviceKey='+key['gokr']+'&'+params2"
   ]
  },
  {
   "cell_type": "code",
   "execution_count": 28,
   "id": "22427d08",
   "metadata": {},
   "outputs": [
    {
     "name": "stdout",
     "output_type": "stream",
     "text": [
      "AccidentDeath\\getRestTrafficAccidentDeath?serviceKey=jvyT9RQKXuZp74s9fQX125McKuZZ03ZkhI0dBO7oBLPb9eRoCrWG3aSWWWxmonrUYrv4IICfDzC26vgmO9lIWw%3D%3D&searchYear=2020&siDo=1100&guGun=1116&numOfRows=20&pageNo=1\n"
     ]
    }
   ],
   "source": [
    "print(params)"
   ]
  },
  {
   "cell_type": "code",
   "execution_count": 29,
   "id": "bd991eb2",
   "metadata": {},
   "outputs": [
    {
     "name": "stdout",
     "output_type": "stream",
     "text": [
      "http://apis.data.go.kr/B552061/AccidentDeath\\getRestTrafficAccidentDeath?serviceKey=jvyT9RQKXuZp74s9fQX125McKuZZ03ZkhI0dBO7oBLPb9eRoCrWG3aSWWWxmonrUYrv4IICfDzC26vgmO9lIWw%3D%3D&searchYear=2020&siDo=1100&guGun=1116&numOfRows=20&pageNo=1\n"
     ]
    }
   ],
   "source": [
    "import urllib\n",
    "_url='http://apis.data.go.kr/B552061/'\n",
    "url=urllib.parse.urljoin(_url,params)\n",
    "print (url)"
   ]
  },
  {
   "cell_type": "code",
   "execution_count": null,
   "id": "4329ff40",
   "metadata": {},
   "outputs": [],
   "source": []
  }
 ],
 "metadata": {
  "kernelspec": {
   "display_name": "Python 3",
   "language": "python",
   "name": "python3"
  },
  "language_info": {
   "codemirror_mode": {
    "name": "ipython",
    "version": 3
   },
   "file_extension": ".py",
   "mimetype": "text/x-python",
   "name": "python",
   "nbconvert_exporter": "python",
   "pygments_lexer": "ipython3",
   "version": "3.8.8"
  }
 },
 "nbformat": 4,
 "nbformat_minor": 5
}
